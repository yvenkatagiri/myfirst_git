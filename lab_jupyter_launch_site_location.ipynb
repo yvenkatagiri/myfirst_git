{
 "cells": [
  {
   "cell_type": "markdown",
   "metadata": {
    "id": "3n3ltmfnrqpi",
    "outputId": "a2d4f52a-2fb7-4668-f5f0-fe862aab8eb0",
    "papermill": {
     "duration": 1.489571,
     "end_time": "2020-09-19T06:26:57.168979",
     "exception": false,
     "start_time": "2020-09-19T06:26:55.679408",
     "status": "completed"
    },
    "tags": []
   },
   "source": [
    "<p style=\"text-align:center\">\n",
    "    <a href=\"https://urldefense.com/v3/__https://skills.network/?utm_medium=Exinfluencer&utm_source=Exinfluencer&utm_content=000026UJ&utm_term=10006555&utm_id=NA-SkillsNetwork-Channel-SkillsNetworkCoursesIBMDS0321ENSkillsNetwork26802033-2022-01-01*5C__;JQ!!KEBONX3EBw!Z5JdwzWjAB63KhI8tP5BnZi6UKi-blSRP32UAQWONMr765Lq7Heykzst8ujO2FNGZaSWmG9zF6AwnTPwQGKPFeTDmCUco5v4qVPp2SNd$ " target=\"_blank\">\n",
    "    <img src=\"https://urldefense.com/v3/__https://cf-courses-data.s3.us.cloud-object-storage.appdomain.cloud/assets/logos/SN_web_lightmode.png*5C__;JQ!!KEBONX3EBw!Z5JdwzWjAB63KhI8tP5BnZi6UKi-blSRP32UAQWONMr765Lq7Heykzst8ujO2FNGZaSWmG9zF6AwnTPwQGKPFeTDmCUco5v4qfaC_rju$ " width=\"200\" alt=\"Skills Network Logo\"  />\n",
    "    </a>\n",
    "</p>\n"
   ]
  },
  {
   "cell_type": "markdown",
   "metadata": {},
   "source": [
    "# **Launch Sites Locations Analysis with Folium**\n"
   ]
  },
  {
   "cell_type": "markdown",
   "metadata": {},
   "source": [
    "Estimated time needed: **40** minutes\n"
   ]
  },
  {
   "cell_type": "markdown",
   "metadata": {},
   "source": [
    "The launch success rate may depend on many factors such as payload mass, orbit type, and so on. It may also depend on the location and proximities of a launch site, i.e., the initial position of rocket trajectories. Finding an optimal location for building a launch site certainly involves many factors and hopefully we could discover some of the factors by analyzing the existing launch site locations.\n"
   ]
  },
  {
   "cell_type": "markdown",
   "metadata": {},
   "source": [
    "In the previous exploratory data analysis labs, you have visualized the SpaceX launch dataset using `matplotlib` and `seaborn` and discovered some preliminary correlations between the launch site and success rates. In this lab, you will be performing more interactive visual analytics using `Folium`.\n"
   ]
  },
  {
   "cell_type": "markdown",
   "metadata": {},
   "source": [
    "## Objectives\n"
   ]
  },
  {
   "cell_type": "markdown",
   "metadata": {},
   "source": [
    "This lab contains the following tasks:\n",
    "\n",
    "*   **TASK 1:** Mark all launch sites on a map\n",
    "*   **TASK 2:** Mark the success/failed launches for each site on the map\n",
    "*   **TASK 3:** Calculate the distances between a launch site to its proximities\n",
    "\n",
    "After completed the above tasks, you should be able to find some geographical patterns about launch sites.\n"
   ]
  },
  {
   "cell_type": "markdown",
   "metadata": {},
   "source": [
    "Let's first import required Python packages for this lab:\n"
   ]
  },
  {
   "cell_type": "code",
   "execution_count": 1,
   "metadata": {},
   "outputs": [
    {
     "name": "stdout",
     "output_type": "stream",
     "text": [
      "Requirement already satisfied: folium in /home/jupyterlab/conda/envs/python/lib/python3.7/site-packages (0.5.0)\n",
      "Requirement already satisfied: branca in /home/jupyterlab/conda/envs/python/lib/python3.7/site-packages (from folium) (0.5.0)\n",
      "Requirement already satisfied: six in /home/jupyterlab/conda/envs/python/lib/python3.7/site-packages (from folium) (1.16.0)\n",
      "Requirement already satisfied: requests in /home/jupyterlab/conda/envs/python/lib/python3.7/site-packages (from folium) (2.27.1)\n",
      "Requirement already satisfied: jinja2 in /home/jupyterlab/conda/envs/python/lib/python3.7/site-packages (from folium) (3.1.2)\n",
      "Requirement already satisfied: MarkupSafe>=2.0 in /home/jupyterlab/conda/envs/python/lib/python3.7/site-packages (from jinja2->folium) (2.1.1)\n",
      "Requirement already satisfied: certifi>=2017.4.17 in /home/jupyterlab/conda/envs/python/lib/python3.7/site-packages (from requests->folium) (2022.5.18.1)\n",
      "Requirement already satisfied: urllib3<1.27,>=1.21.1 in /home/jupyterlab/conda/envs/python/lib/python3.7/site-packages (from requests->folium) (1.26.9)\n",
      "Requirement already satisfied: idna<4,>=2.5 in /home/jupyterlab/conda/envs/python/lib/python3.7/site-packages (from requests->folium) (3.3)\n",
      "Requirement already satisfied: charset-normalizer~=2.0.0 in /home/jupyterlab/conda/envs/python/lib/python3.7/site-packages (from requests->folium) (2.0.12)\n",
      "Requirement already satisfied: wget in /home/jupyterlab/conda/envs/python/lib/python3.7/site-packages (3.2)\n"
     ]
    }
   ],
   "source": [
    "!pip3 install folium\n",
    "!pip3 install wget"
   ]
  },
  {
   "cell_type": "code",
   "execution_count": 2,
   "metadata": {},
   "outputs": [],
   "source": [
    "import folium\n",
    "import wget\n",
    "import pandas as pd"
   ]
  },
  {
   "cell_type": "code",
   "execution_count": 9,
   "metadata": {},
   "outputs": [],
   "source": [
    "# Import folium MarkerCluster plugin\n",
    "from folium.plugins import MarkerCluster\n",
    "# Import folium MousePosition plugin\n",
    "#from folium.plugins import MousePosition\n",
    "# Import folium DivIcon plugin\n",
    "from folium.features import DivIcon"
   ]
  },
  {
   "cell_type": "markdown",
   "metadata": {},
   "source": [
    "If you need to refresh your memory about folium, you may download and refer to this previous folium lab:\n"
   ]
  },
  {
   "cell_type": "markdown",
   "metadata": {},
   "source": [
    "[Generating Maps with Python](https://urldefense.com/v3/__https://cf-courses-data.s3.us.cloud-object-storage.appdomain.cloud/IBM-DS0321EN-SkillsNetwork/labs/module*5C*5C_3/DV0101EN-3-5-1-Generating-Maps-in-Python-py-v2.0.ipynb)*5Cn__;JSUl!!KEBONX3EBw!Z5JdwzWjAB63KhI8tP5BnZi6UKi-blSRP32UAQWONMr765Lq7Heykzst8ujO2FNGZaSWmG9zF6AwnTPwQGKPFeTDmCUco5v4qTvPxXhF$ "
   ]
  },
  {
   "cell_type": "markdown",
   "metadata": {},
   "source": [
    "## Task 1: Mark all launch sites on a map\n"
   ]
  },
  {
   "cell_type": "markdown",
   "metadata": {},
   "source": [
    "First, let's try to add each site's location on a map using site's latitude and longitude coordinates\n"
   ]
  },
  {
   "cell_type": "markdown",
   "metadata": {},
   "source": [
    "The following dataset with the name `spacex_launch_geo.csv` is an augmented dataset with latitude and longitude added for each site.\n"
   ]
  },
  {
   "cell_type": "code",
   "execution_count": 4,
   "metadata": {},
   "outputs": [],
   "source": [
    "# Download and read the `spacex_launch_geo.csv`\n",
    "spacex_csv_file = wget.download('https://urldefense.com/v3/__https://cf-courses-data.s3.us.cloud-object-storage.appdomain.cloud/IBM-DS0321EN-SkillsNetwork/datasets/spacex_launch_geo.csv')*5Cn__;JQ!!KEBONX3EBw!Z5JdwzWjAB63KhI8tP5BnZi6UKi-blSRP32UAQWONMr765Lq7Heykzst8ujO2FNGZaSWmG9zF6AwnTPwQGKPFeTDmCUco5v4qV8e1SIY$ ",
    "spacex_df=pd.read_csv(spacex_csv_file)"
   ]
  },
  {
   "cell_type": "markdown",
   "metadata": {},
   "source": [
    "Now, you can take a look at what are the coordinates for each site.\n"
   ]
  },
  {
   "cell_type": "code",
   "execution_count": 5,
   "metadata": {},
   "outputs": [
    {
     "data": {
      "text/html": [
       "<div>\n",
       "<style scoped>\n",
       "    .dataframe tbody tr th:only-of-type {\n",
       "        vertical-align: middle;\n",
       "    }\n",
       "\n",
       "    .dataframe tbody tr th {\n",
       "        vertical-align: top;\n",
       "    }\n",
       "\n",
       "    .dataframe thead th {\n",
       "        text-align: right;\n",
       "    }\n",
       "</style>\n",
       "<table border=\"1\" class=\"dataframe\">\n",
       "  <thead>\n",
       "    <tr style=\"text-align: right;\">\n",
       "      <th></th>\n",
       "      <th>Launch Site</th>\n",
       "      <th>Lat</th>\n",
       "      <th>Long</th>\n",
       "    </tr>\n",
       "  </thead>\n",
       "  <tbody>\n",
       "    <tr>\n",
       "      <th>0</th>\n",
       "      <td>CCAFS LC-40</td>\n",
       "      <td>28.562302</td>\n",
       "      <td>-80.577356</td>\n",
       "    </tr>\n",
       "    <tr>\n",
       "      <th>1</th>\n",
       "      <td>CCAFS SLC-40</td>\n",
       "      <td>28.563197</td>\n",
       "      <td>-80.576820</td>\n",
       "    </tr>\n",
       "    <tr>\n",
       "      <th>2</th>\n",
       "      <td>KSC LC-39A</td>\n",
       "      <td>28.573255</td>\n",
       "      <td>-80.646895</td>\n",
       "    </tr>\n",
       "    <tr>\n",
       "      <th>3</th>\n",
       "      <td>VAFB SLC-4E</td>\n",
       "      <td>34.632834</td>\n",
       "      <td>-120.610745</td>\n",
       "    </tr>\n",
       "  </tbody>\n",
       "</table>\n",
       "</div>"
      ],
      "text/plain": [
       "    Launch Site        Lat        Long\n",
       "0   CCAFS LC-40  28.562302  -80.577356\n",
       "1  CCAFS SLC-40  28.563197  -80.576820\n",
       "2    KSC LC-39A  28.573255  -80.646895\n",
       "3   VAFB SLC-4E  34.632834 -120.610745"
      ]
     },
     "execution_count": 5,
     "metadata": {},
     "output_type": "execute_result"
    }
   ],
   "source": [
    "# Select relevant sub-columns: `Launch Site`, `Lat(Latitude)`, `Long(Longitude)`, `class`\n",
    "spacex_df = spacex_df[['Launch Site', 'Lat', 'Long', 'class']]\n",
    "launch_sites_df = spacex_df.groupby(['Launch Site'], as_index=False).first()\n",
    "launch_sites_df = launch_sites_df[['Launch Site', 'Lat', 'Long']]\n",
    "launch_sites_df"
   ]
  },
  {
   "cell_type": "markdown",
   "metadata": {},
   "source": [
    "Above coordinates are just plain numbers that can not give you any intuitive insights about where are those launch sites. If you are very good at geography, you can interpret those numbers directly in your mind. If not, that's fine too. Let's visualize those locations by pinning them on a map.\n"
   ]
  },
  {
   "cell_type": "markdown",
   "metadata": {},
   "source": [
    "We first need to create a folium `Map` object, with an initial center location to be NASA Johnson Space Center at Houston, Texas.\n"
   ]
  },
  {
   "cell_type": "code",
   "execution_count": 6,
   "metadata": {},
   "outputs": [],
   "source": [
    "# Start location is NASA Johnson Space Center\n",
    "nasa_coordinate = [29.559684888503615, -95.0830971930759]\n",
    "site_map = folium.Map(location=nasa_coordinate, zoom_start=10)"
   ]
  },
  {
   "cell_type": "markdown",
   "metadata": {},
   "source": [
    "We could use `folium.Circle` to add a highlighted circle area with a text label on a specific coordinate. For example,\n"
   ]
  },
  {
   "cell_type": "code",
   "execution_count": 10,
   "metadata": {},
   "outputs": [
    {
     "data": {
      "text/html": [
       "<div style=\"width:100%;\"><div style=\"position:relative;width:100%;height:0;padding-bottom:60%;\"><span style=\"color:#565656\">Make this Notebook Trusted to load map: File -> Trust Notebook</span><iframe srcdoc=\"&lt;!DOCTYPE html&gt;\n",
       "&lt;head&gt;    \n",
       "    &lt;meta http-equiv=&quot;content-type&quot; content=&quot;text/html; charset=UTF-8&quot; /&gt;\n",
       "    &lt;script&gt;L_PREFER_CANVAS = false; L_NO_TOUCH = false; L_DISABLE_3D = false;&lt;/script&gt;\n",
       "    &lt;script src=&quot;https://urldefense.com/v3/__https://cdn.jsdelivr.net/npm/leaflet@1.2.0/dist/leaflet.js&quot;&gt;&lt;/script&gt;*5Cn__;JQ!!KEBONX3EBw!Z5JdwzWjAB63KhI8tP5BnZi6UKi-blSRP32UAQWONMr765Lq7Heykzst8ujO2FNGZaSWmG9zF6AwnTPwQGKPFeTDmCUco5v4qc3z6OCR$ ",
       "    &lt;script src=&quot;https://urldefense.com/v3/__https://ajax.googleapis.com/ajax/libs/jquery/1.11.1/jquery.min.js&quot;&gt;&lt;/script&gt;*5Cn__;JQ!!KEBONX3EBw!Z5JdwzWjAB63KhI8tP5BnZi6UKi-blSRP32UAQWONMr765Lq7Heykzst8ujO2FNGZaSWmG9zF6AwnTPwQGKPFeTDmCUco5v4qQVDQZ8D$ ",
       "    &lt;script src=&quot;https://urldefense.com/v3/__https://maxcdn.bootstrapcdn.com/bootstrap/3.2.0/js/bootstrap.min.js&quot;&gt;&lt;/script&gt;*5Cn__;JQ!!KEBONX3EBw!Z5JdwzWjAB63KhI8tP5BnZi6UKi-blSRP32UAQWONMr765Lq7Heykzst8ujO2FNGZaSWmG9zF6AwnTPwQGKPFeTDmCUco5v4qV4SfkaD$ ",
       "    &lt;script src=&quot;https://urldefense.com/v3/__https://cdnjs.cloudflare.com/ajax/libs/Leaflet.awesome-markers/2.0.2/leaflet.awesome-markers.js&quot;&gt;&lt;/script&gt;*5Cn__;JQ!!KEBONX3EBw!Z5JdwzWjAB63KhI8tP5BnZi6UKi-blSRP32UAQWONMr765Lq7Heykzst8ujO2FNGZaSWmG9zF6AwnTPwQGKPFeTDmCUco5v4qQOjFOJu$ ",
       "    &lt;link rel=&quot;stylesheet&quot; href=&quot;https://urldefense.com/v3/__https://cdn.jsdelivr.net/npm/leaflet@1.2.0/dist/leaflet.css&quot;/&gt;*5Cn__;JQ!!KEBONX3EBw!Z5JdwzWjAB63KhI8tP5BnZi6UKi-blSRP32UAQWONMr765Lq7Heykzst8ujO2FNGZaSWmG9zF6AwnTPwQGKPFeTDmCUco5v4qaxaeHGh$ ",
       "    &lt;link rel=&quot;stylesheet&quot; href=&quot;https://urldefense.com/v3/__https://maxcdn.bootstrapcdn.com/bootstrap/3.2.0/css/bootstrap.min.css&quot;/&gt;*5Cn__;JQ!!KEBONX3EBw!Z5JdwzWjAB63KhI8tP5BnZi6UKi-blSRP32UAQWONMr765Lq7Heykzst8ujO2FNGZaSWmG9zF6AwnTPwQGKPFeTDmCUco5v4qaCPth0T$ ",
       "    &lt;link rel=&quot;stylesheet&quot; href=&quot;https://urldefense.com/v3/__https://maxcdn.bootstrapcdn.com/bootstrap/3.2.0/css/bootstrap-theme.min.css&quot;/&gt;*5Cn__;JQ!!KEBONX3EBw!Z5JdwzWjAB63KhI8tP5BnZi6UKi-blSRP32UAQWONMr765Lq7Heykzst8ujO2FNGZaSWmG9zF6AwnTPwQGKPFeTDmCUco5v4qcFr39G5$ ",
       "    &lt;link rel=&quot;stylesheet&quot; href=&quot;https://urldefense.com/v3/__https://maxcdn.bootstrapcdn.com/font-awesome/4.6.3/css/font-awesome.min.css&quot;/&gt;*5Cn__;JQ!!KEBONX3EBw!Z5JdwzWjAB63KhI8tP5BnZi6UKi-blSRP32UAQWONMr765Lq7Heykzst8ujO2FNGZaSWmG9zF6AwnTPwQGKPFeTDmCUco5v4qRiROGJq$ ",
       "    &lt;link rel=&quot;stylesheet&quot; href=&quot;https://urldefense.com/v3/__https://cdnjs.cloudflare.com/ajax/libs/Leaflet.awesome-markers/2.0.2/leaflet.awesome-markers.css&quot;/&gt;*5Cn__;JQ!!KEBONX3EBw!Z5JdwzWjAB63KhI8tP5BnZi6UKi-blSRP32UAQWONMr765Lq7Heykzst8ujO2FNGZaSWmG9zF6AwnTPwQGKPFeTDmCUco5v4qZf9reRx$ ",
       "    &lt;link rel=&quot;stylesheet&quot; href=&quot;https://urldefense.com/v3/__https://rawgit.com/python-visualization/folium/master/folium/templates/leaflet.awesome.rotate.css&quot;/&gt;*5Cn__;JQ!!KEBONX3EBw!Z5JdwzWjAB63KhI8tP5BnZi6UKi-blSRP32UAQWONMr765Lq7Heykzst8ujO2FNGZaSWmG9zF6AwnTPwQGKPFeTDmCUco5v4qWL_2jRE$ ",
       "    &lt;style&gt;html, body {width: 100%;height: 100%;margin: 0;padding: 0;}&lt;/style&gt;\n",
       "    &lt;style&gt;#map {position:absolute;top:0;bottom:0;right:0;left:0;}&lt;/style&gt;\n",
       "    \n",
       "            &lt;style&gt; #map_5736bf0934846dd3327ea2d2278346f2 {\n",
       "                position : relative;\n",
       "                width : 100.0%;\n",
       "                height: 100.0%;\n",
       "                left: 0.0%;\n",
       "                top: 0.0%;\n",
       "                }\n",
       "            &lt;/style&gt;\n",
       "        \n",
       "&lt;/head&gt;\n",
       "&lt;body&gt;    \n",
       "    \n",
       "            &lt;div class=&quot;folium-map&quot; id=&quot;map_5736bf0934846dd3327ea2d2278346f2&quot; &gt;&lt;/div&gt;\n",
       "        \n",
       "&lt;/body&gt;\n",
       "&lt;script&gt;    \n",
       "    \n",
       "\n",
       "            \n",
       "                var bounds = null;\n",
       "            \n",
       "\n",
       "            var map_5736bf0934846dd3327ea2d2278346f2 = L.map(\n",
       "                                  &#x27;map_5736bf0934846dd3327ea2d2278346f2&#x27;,\n",
       "                                  {center: [29.559684888503615,-95.0830971930759],\n",
       "                                  zoom: 10,\n",
       "                                  maxBounds: bounds,\n",
       "                                  layers: [],\n",
       "                                  worldCopyJump: false,\n",
       "                                  crs: L.CRS.EPSG3857\n",
       "                                 });\n",
       "            \n",
       "        \n",
       "    \n",
       "            var tile_layer_cb02aa960b6283bad8d2b0089ead45f5 = L.tileLayer(\n",
       "                &#x27;https://urldefense.com/v3/__https://*7Bs*7D.tile.openstreetmap.org/*7Bz*7D/*7Bx*7D/*7By*7D.png&*x27;,*5Cn__;JSUlJSUlJSUjJQ!!KEBONX3EBw!Z5JdwzWjAB63KhI8tP5BnZi6UKi-blSRP32UAQWONMr765Lq7Heykzst8ujO2FNGZaSWmG9zF6AwnTPwQGKPFeTDmCUco5v4qWD3Twor$ ",
       "                {\n",
       "  &quot;attribution&quot;: null,\n",
       "  &quot;detectRetina&quot;: false,\n",
       "  &quot;maxZoom&quot;: 18,\n",
       "  &quot;minZoom&quot;: 1,\n",
       "  &quot;noWrap&quot;: false,\n",
       "  &quot;subdomains&quot;: &quot;abc&quot;\n",
       "}\n",
       "                ).addTo(map_5736bf0934846dd3327ea2d2278346f2);\n",
       "        \n",
       "    \n",
       "\n",
       "            var circle_dd87f97676932560e56cd0fc464684bf = L.circle(\n",
       "                [29.559684888503615,-95.0830971930759],\n",
       "                {\n",
       "  &quot;bubblingMouseEvents&quot;: true,\n",
       "  &quot;color&quot;: &quot;#d35400&quot;,\n",
       "  &quot;dashArray&quot;: null,\n",
       "  &quot;dashOffset&quot;: null,\n",
       "  &quot;fill&quot;: true,\n",
       "  &quot;fillColor&quot;: &quot;#d35400&quot;,\n",
       "  &quot;fillOpacity&quot;: 0.2,\n",
       "  &quot;fillRule&quot;: &quot;evenodd&quot;,\n",
       "  &quot;lineCap&quot;: &quot;round&quot;,\n",
       "  &quot;lineJoin&quot;: &quot;round&quot;,\n",
       "  &quot;opacity&quot;: 1.0,\n",
       "  &quot;radius&quot;: 1000,\n",
       "  &quot;stroke&quot;: true,\n",
       "  &quot;weight&quot;: 3\n",
       "}\n",
       "                ).addTo(map_5736bf0934846dd3327ea2d2278346f2);\n",
       "            \n",
       "    \n",
       "            var popup_bff98df8aac784ba8a91f90104756976 = L.popup({maxWidth: &#x27;300&#x27;});\n",
       "\n",
       "            \n",
       "                var html_c7a4ff2e410d43f6bc838eca2531b1d6 = $(&#x27;&lt;div id=&quot;html_c7a4ff2e410d43f6bc838eca2531b1d6&quot; style=&quot;width: 100.0%; height: 100.0%;&quot;&gt;NASA Johnson Space Center&lt;/div&gt;&#x27;)[0];\n",
       "                popup_bff98df8aac784ba8a91f90104756976.setContent(html_c7a4ff2e410d43f6bc838eca2531b1d6);\n",
       "            \n",
       "\n",
       "            circle_dd87f97676932560e56cd0fc464684bf.bindPopup(popup_bff98df8aac784ba8a91f90104756976);\n",
       "\n",
       "            \n",
       "        \n",
       "    \n",
       "\n",
       "            var marker_2d1a4792ffd954b1b441ce00303984c9 = L.marker(\n",
       "                [29.559684888503615,-95.0830971930759],\n",
       "                {\n",
       "                    icon: new L.Icon.Default()\n",
       "                    }\n",
       "                )\n",
       "                .addTo(map_5736bf0934846dd3327ea2d2278346f2);\n",
       "            \n",
       "    \n",
       "\n",
       "                var div_icon_4d0083e52275798f1834c840073d64a3 = L.divIcon({\n",
       "                    iconSize: [20,20],\n",
       "                    iconAnchor: [0,0],\n",
       "                    \n",
       "                    className: &#x27;empty&#x27;,\n",
       "                    html: &#x27;&lt;div style=&quot;font-size: 12; color:#d35400;&quot;&gt;&lt;b&gt;NASA JSC&lt;/b&gt;&lt;/div&gt;&#x27;,\n",
       "                    });\n",
       "                marker_2d1a4792ffd954b1b441ce00303984c9.setIcon(div_icon_4d0083e52275798f1834c840073d64a3);\n",
       "            \n",
       "&lt;/script&gt;\" style=\"position:absolute;width:100%;height:100%;left:0;top:0;border:none !important;\" allowfullscreen webkitallowfullscreen mozallowfullscreen></iframe></div></div>"
      ],
      "text/plain": [
       "<folium.folium.Map at 0x7f1c2d3474d0>"
      ]
     },
     "execution_count": 10,
     "metadata": {},
     "output_type": "execute_result"
    }
   ],
   "source": [
    "# Create a blue circle at NASA Johnson Space Center's coordinate with a popup label showing its name\n",
    "circle = folium.Circle(nasa_coordinate, radius=1000, color='#d35400', fill=True).add_child(folium.Popup('NASA Johnson Space Center'))\n",
    "# Create a blue circle at NASA Johnson Space Center's coordinate with a icon showing its name\n",
    "marker = folium.map.Marker(\n",
    "    nasa_coordinate,\n",
    "    # Create an icon as a text label\n",
    "    icon=DivIcon(\n",
    "        icon_size=(20,20),\n",
    "        icon_anchor=(0,0),\n",
    "        html='<div style=\"font-size: 12; color:#d35400;\"><b>%s</b></div>' % 'NASA JSC',\n",
    "        )\n",
    "    )\n",
    "site_map.add_child(circle)\n",
    "site_map.add_child(marker)"
   ]
  },
  {
   "cell_type": "markdown",
   "metadata": {},
   "source": [
    "and you should find a small yellow circle near the city of Houston and you can zoom-in to see a larger circle.\n"
   ]
  },
  {
   "cell_type": "markdown",
   "metadata": {},
   "source": [
    "Now, let's add a circle for each launch site in data frame `launch_sites`\n"
   ]
  },
  {
   "cell_type": "markdown",
   "metadata": {},
   "source": [
    "*TODO:*  Create and add `folium.Circle` and `folium.Marker` for each launch site on the site map\n"
   ]
  },
  {
   "cell_type": "markdown",
   "metadata": {},
   "source": [
    "An example of folium.Circle:\n"
   ]
  },
  {
   "cell_type": "markdown",
   "metadata": {},
   "source": [
    "`folium.Circle(coordinate, radius=1000, color='#000000', fill=True).add_child(folium.Popup(...))`\n"
   ]
  },
  {
   "cell_type": "markdown",
   "metadata": {},
   "source": [
    "An example of folium.Marker:\n"
   ]
  },
  {
   "cell_type": "markdown",
   "metadata": {},
   "source": [
    "`folium.map.Marker(coordinate, icon=DivIcon(icon_size=(20,20),icon_anchor=(0,0), html='<div style=\"font-size: 12; color:#d35400;\"><b>%s</b></div>' % 'label', ))`\n"
   ]
  },
  {
   "cell_type": "code",
   "execution_count": 11,
   "metadata": {},
   "outputs": [
    {
     "data": {
      "text/html": [
       "<div style=\"width:100%;\"><div style=\"position:relative;width:100%;height:0;padding-bottom:60%;\"><span style=\"color:#565656\">Make this Notebook Trusted to load map: File -> Trust Notebook</span><iframe srcdoc=\"&lt;!DOCTYPE html&gt;\n",
       "&lt;head&gt;    \n",
       "    &lt;meta http-equiv=&quot;content-type&quot; content=&quot;text/html; charset=UTF-8&quot; /&gt;\n",
       "    &lt;script&gt;L_PREFER_CANVAS = false; L_NO_TOUCH = false; L_DISABLE_3D = false;&lt;/script&gt;\n",
       "    &lt;script src=&quot;https://urldefense.com/v3/__https://cdn.jsdelivr.net/npm/leaflet@1.2.0/dist/leaflet.js&quot;&gt;&lt;/script&gt;*5Cn__;JQ!!KEBONX3EBw!Z5JdwzWjAB63KhI8tP5BnZi6UKi-blSRP32UAQWONMr765Lq7Heykzst8ujO2FNGZaSWmG9zF6AwnTPwQGKPFeTDmCUco5v4qc3z6OCR$ ",
       "    &lt;script src=&quot;https://urldefense.com/v3/__https://ajax.googleapis.com/ajax/libs/jquery/1.11.1/jquery.min.js&quot;&gt;&lt;/script&gt;*5Cn__;JQ!!KEBONX3EBw!Z5JdwzWjAB63KhI8tP5BnZi6UKi-blSRP32UAQWONMr765Lq7Heykzst8ujO2FNGZaSWmG9zF6AwnTPwQGKPFeTDmCUco5v4qQVDQZ8D$ ",
       "    &lt;script src=&quot;https://urldefense.com/v3/__https://maxcdn.bootstrapcdn.com/bootstrap/3.2.0/js/bootstrap.min.js&quot;&gt;&lt;/script&gt;*5Cn__;JQ!!KEBONX3EBw!Z5JdwzWjAB63KhI8tP5BnZi6UKi-blSRP32UAQWONMr765Lq7Heykzst8ujO2FNGZaSWmG9zF6AwnTPwQGKPFeTDmCUco5v4qV4SfkaD$ ",
       "    &lt;script src=&quot;https://urldefense.com/v3/__https://cdnjs.cloudflare.com/ajax/libs/Leaflet.awesome-markers/2.0.2/leaflet.awesome-markers.js&quot;&gt;&lt;/script&gt;*5Cn__;JQ!!KEBONX3EBw!Z5JdwzWjAB63KhI8tP5BnZi6UKi-blSRP32UAQWONMr765Lq7Heykzst8ujO2FNGZaSWmG9zF6AwnTPwQGKPFeTDmCUco5v4qQOjFOJu$ ",
       "    &lt;link rel=&quot;stylesheet&quot; href=&quot;https://urldefense.com/v3/__https://cdn.jsdelivr.net/npm/leaflet@1.2.0/dist/leaflet.css&quot;/&gt;*5Cn__;JQ!!KEBONX3EBw!Z5JdwzWjAB63KhI8tP5BnZi6UKi-blSRP32UAQWONMr765Lq7Heykzst8ujO2FNGZaSWmG9zF6AwnTPwQGKPFeTDmCUco5v4qaxaeHGh$ ",
       "    &lt;link rel=&quot;stylesheet&quot; href=&quot;https://urldefense.com/v3/__https://maxcdn.bootstrapcdn.com/bootstrap/3.2.0/css/bootstrap.min.css&quot;/&gt;*5Cn__;JQ!!KEBONX3EBw!Z5JdwzWjAB63KhI8tP5BnZi6UKi-blSRP32UAQWONMr765Lq7Heykzst8ujO2FNGZaSWmG9zF6AwnTPwQGKPFeTDmCUco5v4qaCPth0T$ ",
       "    &lt;link rel=&quot;stylesheet&quot; href=&quot;https://urldefense.com/v3/__https://maxcdn.bootstrapcdn.com/bootstrap/3.2.0/css/bootstrap-theme.min.css&quot;/&gt;*5Cn__;JQ!!KEBONX3EBw!Z5JdwzWjAB63KhI8tP5BnZi6UKi-blSRP32UAQWONMr765Lq7Heykzst8ujO2FNGZaSWmG9zF6AwnTPwQGKPFeTDmCUco5v4qcFr39G5$ ",
       "    &lt;link rel=&quot;stylesheet&quot; href=&quot;https://urldefense.com/v3/__https://maxcdn.bootstrapcdn.com/font-awesome/4.6.3/css/font-awesome.min.css&quot;/&gt;*5Cn__;JQ!!KEBONX3EBw!Z5JdwzWjAB63KhI8tP5BnZi6UKi-blSRP32UAQWONMr765Lq7Heykzst8ujO2FNGZaSWmG9zF6AwnTPwQGKPFeTDmCUco5v4qRiROGJq$ ",
       "    &lt;link rel=&quot;stylesheet&quot; href=&quot;https://urldefense.com/v3/__https://cdnjs.cloudflare.com/ajax/libs/Leaflet.awesome-markers/2.0.2/leaflet.awesome-markers.css&quot;/&gt;*5Cn__;JQ!!KEBONX3EBw!Z5JdwzWjAB63KhI8tP5BnZi6UKi-blSRP32UAQWONMr765Lq7Heykzst8ujO2FNGZaSWmG9zF6AwnTPwQGKPFeTDmCUco5v4qZf9reRx$ ",
       "    &lt;link rel=&quot;stylesheet&quot; href=&quot;https://urldefense.com/v3/__https://rawgit.com/python-visualization/folium/master/folium/templates/leaflet.awesome.rotate.css&quot;/&gt;*5Cn__;JQ!!KEBONX3EBw!Z5JdwzWjAB63KhI8tP5BnZi6UKi-blSRP32UAQWONMr765Lq7Heykzst8ujO2FNGZaSWmG9zF6AwnTPwQGKPFeTDmCUco5v4qWL_2jRE$ ",
       "    &lt;style&gt;html, body {width: 100%;height: 100%;margin: 0;padding: 0;}&lt;/style&gt;\n",
       "    &lt;style&gt;#map {position:absolute;top:0;bottom:0;right:0;left:0;}&lt;/style&gt;\n",
       "    \n",
       "            &lt;style&gt; #map_c84842b1b8484333ae4613d59166625c {\n",
       "                position : relative;\n",
       "                width : 100.0%;\n",
       "                height: 100.0%;\n",
       "                left: 0.0%;\n",
       "                top: 0.0%;\n",
       "                }\n",
       "            &lt;/style&gt;\n",
       "        \n",
       "&lt;/head&gt;\n",
       "&lt;body&gt;    \n",
       "    \n",
       "            &lt;div class=&quot;folium-map&quot; id=&quot;map_c84842b1b8484333ae4613d59166625c&quot; &gt;&lt;/div&gt;\n",
       "        \n",
       "&lt;/body&gt;\n",
       "&lt;script&gt;    \n",
       "    \n",
       "\n",
       "            \n",
       "                var bounds = null;\n",
       "            \n",
       "\n",
       "            var map_c84842b1b8484333ae4613d59166625c = L.map(\n",
       "                                  &#x27;map_c84842b1b8484333ae4613d59166625c&#x27;,\n",
       "                                  {center: [29.559684888503615,-95.0830971930759],\n",
       "                                  zoom: 5,\n",
       "                                  maxBounds: bounds,\n",
       "                                  layers: [],\n",
       "                                  worldCopyJump: false,\n",
       "                                  crs: L.CRS.EPSG3857\n",
       "                                 });\n",
       "            \n",
       "        \n",
       "    \n",
       "            var tile_layer_c6c5f7d7b36e127b9e65c172ef758087 = L.tileLayer(\n",
       "                &#x27;https://urldefense.com/v3/__https://*7Bs*7D.tile.openstreetmap.org/*7Bz*7D/*7Bx*7D/*7By*7D.png&*x27;,*5Cn__;JSUlJSUlJSUjJQ!!KEBONX3EBw!Z5JdwzWjAB63KhI8tP5BnZi6UKi-blSRP32UAQWONMr765Lq7Heykzst8ujO2FNGZaSWmG9zF6AwnTPwQGKPFeTDmCUco5v4qWD3Twor$ ",
       "                {\n",
       "  &quot;attribution&quot;: null,\n",
       "  &quot;detectRetina&quot;: false,\n",
       "  &quot;maxZoom&quot;: 18,\n",
       "  &quot;minZoom&quot;: 1,\n",
       "  &quot;noWrap&quot;: false,\n",
       "  &quot;subdomains&quot;: &quot;abc&quot;\n",
       "}\n",
       "                ).addTo(map_c84842b1b8484333ae4613d59166625c);\n",
       "        \n",
       "    \n",
       "\n",
       "            var circle_bd7b5fabfd32c37e7bb6289e4814e48b = L.circle(\n",
       "                [28.562302,-80.577356],\n",
       "                {\n",
       "  &quot;bubblingMouseEvents&quot;: true,\n",
       "  &quot;color&quot;: &quot;#d35400&quot;,\n",
       "  &quot;dashArray&quot;: null,\n",
       "  &quot;dashOffset&quot;: null,\n",
       "  &quot;fill&quot;: true,\n",
       "  &quot;fillColor&quot;: &quot;#d35400&quot;,\n",
       "  &quot;fillOpacity&quot;: 0.2,\n",
       "  &quot;fillRule&quot;: &quot;evenodd&quot;,\n",
       "  &quot;lineCap&quot;: &quot;round&quot;,\n",
       "  &quot;lineJoin&quot;: &quot;round&quot;,\n",
       "  &quot;opacity&quot;: 1.0,\n",
       "  &quot;radius&quot;: 1000,\n",
       "  &quot;stroke&quot;: true,\n",
       "  &quot;weight&quot;: 3\n",
       "}\n",
       "                ).addTo(map_c84842b1b8484333ae4613d59166625c);\n",
       "            \n",
       "    \n",
       "            var popup_10013594364ae0f48a2394d1aca5e844 = L.popup({maxWidth: &#x27;300&#x27;});\n",
       "\n",
       "            \n",
       "                var html_5e91498d859de9d3dc770c9f62a12728 = $(&#x27;&lt;div id=&quot;html_5e91498d859de9d3dc770c9f62a12728&quot; style=&quot;width: 100.0%; height: 100.0%;&quot;&gt;CCAFS LC-40&lt;/div&gt;&#x27;)[0];\n",
       "                popup_10013594364ae0f48a2394d1aca5e844.setContent(html_5e91498d859de9d3dc770c9f62a12728);\n",
       "            \n",
       "\n",
       "            circle_bd7b5fabfd32c37e7bb6289e4814e48b.bindPopup(popup_10013594364ae0f48a2394d1aca5e844);\n",
       "\n",
       "            \n",
       "        \n",
       "    \n",
       "\n",
       "            var marker_6baeb6eb972da9f9949f2d2490357066 = L.marker(\n",
       "                [28.562302,-80.577356],\n",
       "                {\n",
       "                    icon: new L.Icon.Default()\n",
       "                    }\n",
       "                )\n",
       "                .addTo(map_c84842b1b8484333ae4613d59166625c);\n",
       "            \n",
       "    \n",
       "\n",
       "                var div_icon_25433d5f0ee6447bc1b4b5bb049d809c = L.divIcon({\n",
       "                    iconSize: [20,20],\n",
       "                    iconAnchor: [0,0],\n",
       "                    \n",
       "                    className: &#x27;empty&#x27;,\n",
       "                    html: &#x27;&lt;div style=&quot;font-size: 12; color:#d35400;&quot;&gt;&lt;b&gt;LC40&lt;/b&gt;&lt;/div&gt;&#x27;,\n",
       "                    });\n",
       "                marker_6baeb6eb972da9f9949f2d2490357066.setIcon(div_icon_25433d5f0ee6447bc1b4b5bb049d809c);\n",
       "            \n",
       "    \n",
       "\n",
       "            var circle_b3594882dc2f65654fd0b94f7ed10a96 = L.circle(\n",
       "                [28.563197,-80.57682],\n",
       "                {\n",
       "  &quot;bubblingMouseEvents&quot;: true,\n",
       "  &quot;color&quot;: &quot;#d35400&quot;,\n",
       "  &quot;dashArray&quot;: null,\n",
       "  &quot;dashOffset&quot;: null,\n",
       "  &quot;fill&quot;: true,\n",
       "  &quot;fillColor&quot;: &quot;#d35400&quot;,\n",
       "  &quot;fillOpacity&quot;: 0.2,\n",
       "  &quot;fillRule&quot;: &quot;evenodd&quot;,\n",
       "  &quot;lineCap&quot;: &quot;round&quot;,\n",
       "  &quot;lineJoin&quot;: &quot;round&quot;,\n",
       "  &quot;opacity&quot;: 1.0,\n",
       "  &quot;radius&quot;: 1000,\n",
       "  &quot;stroke&quot;: true,\n",
       "  &quot;weight&quot;: 3\n",
       "}\n",
       "                ).addTo(map_c84842b1b8484333ae4613d59166625c);\n",
       "            \n",
       "    \n",
       "            var popup_4809c8e34faea725245c0aef0516e8b4 = L.popup({maxWidth: &#x27;300&#x27;});\n",
       "\n",
       "            \n",
       "                var html_3e4fa4fddc6ec9a0ecad46a99c6b571e = $(&#x27;&lt;div id=&quot;html_3e4fa4fddc6ec9a0ecad46a99c6b571e&quot; style=&quot;width: 100.0%; height: 100.0%;&quot;&gt;CCAFS SLC-40&lt;/div&gt;&#x27;)[0];\n",
       "                popup_4809c8e34faea725245c0aef0516e8b4.setContent(html_3e4fa4fddc6ec9a0ecad46a99c6b571e);\n",
       "            \n",
       "\n",
       "            circle_b3594882dc2f65654fd0b94f7ed10a96.bindPopup(popup_4809c8e34faea725245c0aef0516e8b4);\n",
       "\n",
       "            \n",
       "        \n",
       "    \n",
       "\n",
       "            var marker_81284db54b8070b93479b21b761968c4 = L.marker(\n",
       "                [28.563197,-80.57682],\n",
       "                {\n",
       "                    icon: new L.Icon.Default()\n",
       "                    }\n",
       "                )\n",
       "                .addTo(map_c84842b1b8484333ae4613d59166625c);\n",
       "            \n",
       "    \n",
       "\n",
       "                var div_icon_612fc011180aa847c6095f4400d5e47a = L.divIcon({\n",
       "                    iconSize: [20,20],\n",
       "                    iconAnchor: [0,0],\n",
       "                    \n",
       "                    className: &#x27;empty&#x27;,\n",
       "                    html: &#x27;&lt;div style=&quot;font-size: 12; color:#d35400;&quot;&gt;&lt;b&gt;SLC40&lt;/b&gt;&lt;/div&gt;&#x27;,\n",
       "                    });\n",
       "                marker_81284db54b8070b93479b21b761968c4.setIcon(div_icon_612fc011180aa847c6095f4400d5e47a);\n",
       "            \n",
       "    \n",
       "\n",
       "            var circle_90651a3f0ed11915123d5fc513d8f59a = L.circle(\n",
       "                [28.573255,-80.646895],\n",
       "                {\n",
       "  &quot;bubblingMouseEvents&quot;: true,\n",
       "  &quot;color&quot;: &quot;#d35400&quot;,\n",
       "  &quot;dashArray&quot;: null,\n",
       "  &quot;dashOffset&quot;: null,\n",
       "  &quot;fill&quot;: true,\n",
       "  &quot;fillColor&quot;: &quot;#d35400&quot;,\n",
       "  &quot;fillOpacity&quot;: 0.2,\n",
       "  &quot;fillRule&quot;: &quot;evenodd&quot;,\n",
       "  &quot;lineCap&quot;: &quot;round&quot;,\n",
       "  &quot;lineJoin&quot;: &quot;round&quot;,\n",
       "  &quot;opacity&quot;: 1.0,\n",
       "  &quot;radius&quot;: 1000,\n",
       "  &quot;stroke&quot;: true,\n",
       "  &quot;weight&quot;: 3\n",
       "}\n",
       "                ).addTo(map_c84842b1b8484333ae4613d59166625c);\n",
       "            \n",
       "    \n",
       "            var popup_64bcf519969322a3ce32f342a1f92acb = L.popup({maxWidth: &#x27;300&#x27;});\n",
       "\n",
       "            \n",
       "                var html_e424c8a26304651d1936ac0bb23f43de = $(&#x27;&lt;div id=&quot;html_e424c8a26304651d1936ac0bb23f43de&quot; style=&quot;width: 100.0%; height: 100.0%;&quot;&gt;KSC LC-39A&lt;/div&gt;&#x27;)[0];\n",
       "                popup_64bcf519969322a3ce32f342a1f92acb.setContent(html_e424c8a26304651d1936ac0bb23f43de);\n",
       "            \n",
       "\n",
       "            circle_90651a3f0ed11915123d5fc513d8f59a.bindPopup(popup_64bcf519969322a3ce32f342a1f92acb);\n",
       "\n",
       "            \n",
       "        \n",
       "    \n",
       "\n",
       "            var marker_c71f405807805c85355823537a9eba5b = L.marker(\n",
       "                [28.573255,-80.646895],\n",
       "                {\n",
       "                    icon: new L.Icon.Default()\n",
       "                    }\n",
       "                )\n",
       "                .addTo(map_c84842b1b8484333ae4613d59166625c);\n",
       "            \n",
       "    \n",
       "\n",
       "                var div_icon_b5957a1f51d65b82cbc1dc5adea402d0 = L.divIcon({\n",
       "                    iconSize: [20,20],\n",
       "                    iconAnchor: [0,0],\n",
       "                    \n",
       "                    className: &#x27;empty&#x27;,\n",
       "                    html: &#x27;&lt;div style=&quot;font-size: 12; color:#d35400;&quot;&gt;&lt;b&gt;39A&lt;/b&gt;&lt;/div&gt;&#x27;,\n",
       "                    });\n",
       "                marker_c71f405807805c85355823537a9eba5b.setIcon(div_icon_b5957a1f51d65b82cbc1dc5adea402d0);\n",
       "            \n",
       "    \n",
       "\n",
       "            var circle_76dc7ee5883d3f0347a0c586022f08d9 = L.circle(\n",
       "                [34.632834,-120.610745],\n",
       "                {\n",
       "  &quot;bubblingMouseEvents&quot;: true,\n",
       "  &quot;color&quot;: &quot;#d35400&quot;,\n",
       "  &quot;dashArray&quot;: null,\n",
       "  &quot;dashOffset&quot;: null,\n",
       "  &quot;fill&quot;: true,\n",
       "  &quot;fillColor&quot;: &quot;#d35400&quot;,\n",
       "  &quot;fillOpacity&quot;: 0.2,\n",
       "  &quot;fillRule&quot;: &quot;evenodd&quot;,\n",
       "  &quot;lineCap&quot;: &quot;round&quot;,\n",
       "  &quot;lineJoin&quot;: &quot;round&quot;,\n",
       "  &quot;opacity&quot;: 1.0,\n",
       "  &quot;radius&quot;: 1000,\n",
       "  &quot;stroke&quot;: true,\n",
       "  &quot;weight&quot;: 3\n",
       "}\n",
       "                ).addTo(map_c84842b1b8484333ae4613d59166625c);\n",
       "            \n",
       "    \n",
       "            var popup_220a1286ae9f2f8a7164b66ff8d07456 = L.popup({maxWidth: &#x27;300&#x27;});\n",
       "\n",
       "            \n",
       "                var html_30988020da92e7ebb2b68a8c512dee2e = $(&#x27;&lt;div id=&quot;html_30988020da92e7ebb2b68a8c512dee2e&quot; style=&quot;width: 100.0%; height: 100.0%;&quot;&gt;VAFB SLC-4E&lt;/div&gt;&#x27;)[0];\n",
       "                popup_220a1286ae9f2f8a7164b66ff8d07456.setContent(html_30988020da92e7ebb2b68a8c512dee2e);\n",
       "            \n",
       "\n",
       "            circle_76dc7ee5883d3f0347a0c586022f08d9.bindPopup(popup_220a1286ae9f2f8a7164b66ff8d07456);\n",
       "\n",
       "            \n",
       "        \n",
       "    \n",
       "\n",
       "            var marker_06369a54cd34b9079e7c3ea2fc6b828b = L.marker(\n",
       "                [34.632834,-120.610745],\n",
       "                {\n",
       "                    icon: new L.Icon.Default()\n",
       "                    }\n",
       "                )\n",
       "                .addTo(map_c84842b1b8484333ae4613d59166625c);\n",
       "            \n",
       "    \n",
       "\n",
       "                var div_icon_56dd1071ad4015b84406fb04f6e1ba5e = L.divIcon({\n",
       "                    iconSize: [20,20],\n",
       "                    iconAnchor: [0,0],\n",
       "                    \n",
       "                    className: &#x27;empty&#x27;,\n",
       "                    html: &#x27;&lt;div style=&quot;font-size: 12; color:#d35400;&quot;&gt;&lt;b&gt;SLC-4E&lt;/b&gt;&lt;/div&gt;&#x27;,\n",
       "                    });\n",
       "                marker_06369a54cd34b9079e7c3ea2fc6b828b.setIcon(div_icon_56dd1071ad4015b84406fb04f6e1ba5e);\n",
       "            \n",
       "&lt;/script&gt;\" style=\"position:absolute;width:100%;height:100%;left:0;top:0;border:none !important;\" allowfullscreen webkitallowfullscreen mozallowfullscreen></iframe></div></div>"
      ],
      "text/plain": [
       "<folium.folium.Map at 0x7f1c2ca3fcd0>"
      ]
     },
     "execution_count": 11,
     "metadata": {},
     "output_type": "execute_result"
    }
   ],
   "source": [
    "# Initial the map\n",
    "site_map = folium.Map(location=nasa_coordinate, zoom_start=5)\n",
    "# For each launch site, add a Circle object based on its coordinate (Lat, Long) values. In addition, add Launch site name as a popup label\n",
    "CCAFS_LC_40 = [28.562302, -80.577356]\n",
    "CCAFS_SLC_40 = [28.563197, -80.576820]\n",
    "KSC_LC_39A = [28.573255,-80.646895]\n",
    "VAFB_SLC_4E = [34.632834, -120.610745]\n",
    "\n",
    "circle_LC40 = folium.Circle(CCAFS_LC_40, radius=1000, color='#d35400', fill=True).add_child(folium.Popup('CCAFS LC-40'))\n",
    "marker_LC40= folium.map.Marker(\n",
    "    CCAFS_LC_40,\n",
    "    # Create an icon as a text label\n",
    "    icon=DivIcon(\n",
    "        icon_size=(20,20),\n",
    "        icon_anchor=(0,0),\n",
    "        html='<div style=\"font-size: 12; color:#d35400;\"><b>%s</b></div>' % 'LC40',\n",
    "        )\n",
    "    )\n",
    "site_map.add_child(circle_LC40)\n",
    "site_map.add_child(marker_LC40)\n",
    "\n",
    "circle_SLC40 = folium.Circle(CCAFS_SLC_40, radius=1000, color='#d35400', fill=True).add_child(folium.Popup('CCAFS SLC-40'))\n",
    "marker_SLC40= folium.map.Marker(\n",
    "    CCAFS_SLC_40,\n",
    "    # Create an icon as a text label\n",
    "    icon=DivIcon(\n",
    "        icon_size=(20,20),\n",
    "        icon_anchor=(0,0),\n",
    "        html='<div style=\"font-size: 12; color:#d35400;\"><b>%s</b></div>' % 'SLC40',\n",
    "        )\n",
    "    )\n",
    "site_map.add_child(circle_SLC40)\n",
    "site_map.add_child(marker_SLC40)\n",
    "\n",
    "circle_39A = folium.Circle(KSC_LC_39A, radius=1000, color='#d35400', fill=True).add_child(folium.Popup('KSC LC-39A'))\n",
    "marker_39A = folium.map.Marker(\n",
    "    KSC_LC_39A,\n",
    "    # Create an icon as a text label\n",
    "    icon=DivIcon(\n",
    "        icon_size=(20,20),\n",
    "        icon_anchor=(0,0),\n",
    "        html='<div style=\"font-size: 12; color:#d35400;\"><b>%s</b></div>' % '39A',\n",
    "        )\n",
    "    )\n",
    "site_map.add_child(circle_39A)\n",
    "site_map.add_child(marker_39A)\n",
    "\n",
    "circle_SLC4E = folium.Circle(VAFB_SLC_4E, radius=1000, color='#d35400', fill=True).add_child(folium.Popup('VAFB SLC-4E'))\n",
    "marker_SLC4E = folium.map.Marker(\n",
    "    VAFB_SLC_4E,\n",
    "    # Create an icon as a text label\n",
    "    icon=DivIcon(\n",
    "        icon_size=(20,20),\n",
    "        icon_anchor=(0,0),\n",
    "        html='<div style=\"font-size: 12; color:#d35400;\"><b>%s</b></div>' % 'SLC-4E',\n",
    "        )\n",
    "    )\n",
    "site_map.add_child(circle_SLC4E)\n",
    "site_map.add_child(marker_SLC4E)"
   ]
  },
  {
   "cell_type": "markdown",
   "metadata": {},
   "source": [
    "The generated map with marked launch sites should look similar to the following:\n"
   ]
  },
  {
   "cell_type": "markdown",
   "metadata": {},
   "source": [
    "<center>\n",
    "    <img src=\"https://urldefense.com/v3/__https://cf-courses-data.s3.us.cloud-object-storage.appdomain.cloud/IBM-DS0321EN-SkillsNetwork/labs/module_3/images/launch_site_markers.png*5C__;JQ!!KEBONX3EBw!Z5JdwzWjAB63KhI8tP5BnZi6UKi-blSRP32UAQWONMr765Lq7Heykzst8ujO2FNGZaSWmG9zF6AwnTPwQGKPFeTDmCUco5v4qU8Zx5Ks$ " />\n",
    "</center>\n"
   ]
  },
  {
   "cell_type": "markdown",
   "metadata": {},
   "source": [
    "Now, you can explore the map by zoom-in/out the marked areas\n",
    ", and try to answer the following questions:\n",
    "\n",
    "*   Are all launch sites in proximity to the Equator line?\n",
    "No, All sites are north of equator by approximately 30 degrees\n",
    "\n",
    "*   Are all launch sites in very close proximity to the coast?\n",
    "Yes, SLC4E is in west coast and other 3 in east coast \n",
    "Also please try to explain your findings.\n"
   ]
  },
  {
   "cell_type": "markdown",
   "metadata": {},
   "source": [
    "# Task 2: Mark the success/failed launches for each site on the map\n"
   ]
  },
  {
   "cell_type": "markdown",
   "metadata": {},
   "source": [
    "Next, let's try to enhance the map by adding the launch outcomes for each site, and see which sites have high success rates.\n",
    "Recall that data frame spacex_df has detailed launch records, and the `class` column indicates if this launch was successful or not\n"
   ]
  },
  {
   "cell_type": "code",
   "execution_count": 12,
   "metadata": {},
   "outputs": [
    {
     "data": {
      "text/html": [
       "<div>\n",
       "<style scoped>\n",
       "    .dataframe tbody tr th:only-of-type {\n",
       "        vertical-align: middle;\n",
       "    }\n",
       "\n",
       "    .dataframe tbody tr th {\n",
       "        vertical-align: top;\n",
       "    }\n",
       "\n",
       "    .dataframe thead th {\n",
       "        text-align: right;\n",
       "    }\n",
       "</style>\n",
       "<table border=\"1\" class=\"dataframe\">\n",
       "  <thead>\n",
       "    <tr style=\"text-align: right;\">\n",
       "      <th></th>\n",
       "      <th>Launch Site</th>\n",
       "      <th>Lat</th>\n",
       "      <th>Long</th>\n",
       "      <th>class</th>\n",
       "    </tr>\n",
       "  </thead>\n",
       "  <tbody>\n",
       "    <tr>\n",
       "      <th>46</th>\n",
       "      <td>KSC LC-39A</td>\n",
       "      <td>28.573255</td>\n",
       "      <td>-80.646895</td>\n",
       "      <td>1</td>\n",
       "    </tr>\n",
       "    <tr>\n",
       "      <th>47</th>\n",
       "      <td>KSC LC-39A</td>\n",
       "      <td>28.573255</td>\n",
       "      <td>-80.646895</td>\n",
       "      <td>1</td>\n",
       "    </tr>\n",
       "    <tr>\n",
       "      <th>48</th>\n",
       "      <td>KSC LC-39A</td>\n",
       "      <td>28.573255</td>\n",
       "      <td>-80.646895</td>\n",
       "      <td>1</td>\n",
       "    </tr>\n",
       "    <tr>\n",
       "      <th>49</th>\n",
       "      <td>CCAFS SLC-40</td>\n",
       "      <td>28.563197</td>\n",
       "      <td>-80.576820</td>\n",
       "      <td>1</td>\n",
       "    </tr>\n",
       "    <tr>\n",
       "      <th>50</th>\n",
       "      <td>CCAFS SLC-40</td>\n",
       "      <td>28.563197</td>\n",
       "      <td>-80.576820</td>\n",
       "      <td>1</td>\n",
       "    </tr>\n",
       "    <tr>\n",
       "      <th>51</th>\n",
       "      <td>CCAFS SLC-40</td>\n",
       "      <td>28.563197</td>\n",
       "      <td>-80.576820</td>\n",
       "      <td>0</td>\n",
       "    </tr>\n",
       "    <tr>\n",
       "      <th>52</th>\n",
       "      <td>CCAFS SLC-40</td>\n",
       "      <td>28.563197</td>\n",
       "      <td>-80.576820</td>\n",
       "      <td>0</td>\n",
       "    </tr>\n",
       "    <tr>\n",
       "      <th>53</th>\n",
       "      <td>CCAFS SLC-40</td>\n",
       "      <td>28.563197</td>\n",
       "      <td>-80.576820</td>\n",
       "      <td>0</td>\n",
       "    </tr>\n",
       "    <tr>\n",
       "      <th>54</th>\n",
       "      <td>CCAFS SLC-40</td>\n",
       "      <td>28.563197</td>\n",
       "      <td>-80.576820</td>\n",
       "      <td>1</td>\n",
       "    </tr>\n",
       "    <tr>\n",
       "      <th>55</th>\n",
       "      <td>CCAFS SLC-40</td>\n",
       "      <td>28.563197</td>\n",
       "      <td>-80.576820</td>\n",
       "      <td>0</td>\n",
       "    </tr>\n",
       "  </tbody>\n",
       "</table>\n",
       "</div>"
      ],
      "text/plain": [
       "     Launch Site        Lat       Long  class\n",
       "46    KSC LC-39A  28.573255 -80.646895      1\n",
       "47    KSC LC-39A  28.573255 -80.646895      1\n",
       "48    KSC LC-39A  28.573255 -80.646895      1\n",
       "49  CCAFS SLC-40  28.563197 -80.576820      1\n",
       "50  CCAFS SLC-40  28.563197 -80.576820      1\n",
       "51  CCAFS SLC-40  28.563197 -80.576820      0\n",
       "52  CCAFS SLC-40  28.563197 -80.576820      0\n",
       "53  CCAFS SLC-40  28.563197 -80.576820      0\n",
       "54  CCAFS SLC-40  28.563197 -80.576820      1\n",
       "55  CCAFS SLC-40  28.563197 -80.576820      0"
      ]
     },
     "execution_count": 12,
     "metadata": {},
     "output_type": "execute_result"
    }
   ],
   "source": [
    "spacex_df.tail(10)"
   ]
  },
  {
   "cell_type": "markdown",
   "metadata": {},
   "source": [
    "Next, let's create markers for all launch records.\n",
    "If a launch was successful `(class=1)`, then we use a green marker and if a launch was failed, we use a red marker `(class=0)`\n"
   ]
  },
  {
   "cell_type": "markdown",
   "metadata": {},
   "source": [
    "Note that a launch only happens in one of the four launch sites, which means many launch records will have the exact same coordinate. Marker clusters can be a good way to simplify a map containing many markers having the same coordinate.\n"
   ]
  },
  {
   "cell_type": "markdown",
   "metadata": {},
   "source": [
    "Let's first create a `MarkerCluster` object\n"
   ]
  },
  {
   "cell_type": "code",
   "execution_count": 13,
   "metadata": {
    "id": "wP9PVUZ7Jfjt",
    "outputId": "6a3b8164-940c-4b93-9f3d-c655c4a0c683",
    "papermill": {
     "duration": 0.904519,
     "end_time": "2020-09-19T06:27:38.357041",
     "exception": false,
     "start_time": "2020-09-19T06:27:37.452522",
     "status": "completed"
    },
    "tags": []
   },
   "outputs": [],
   "source": [
    "marker_cluster = MarkerCluster()\n"
   ]
  },
  {
   "cell_type": "markdown",
   "metadata": {},
   "source": [
    "*TODO:* Create a new column in `launch_sites` dataframe called `marker_color` to store the marker colors based on the `class` value\n"
   ]
  },
  {
   "cell_type": "code",
   "execution_count": 17,
   "metadata": {},
   "outputs": [],
   "source": [
    "\n",
    "# Apply a function to check the value of `class` column\n",
    "# If class=1, marker_color value will be green\n",
    "# If class=0, marker_color value will be red\n"
   ]
  },
  {
   "cell_type": "code",
   "execution_count": 16,
   "metadata": {},
   "outputs": [
    {
     "data": {
      "text/html": [
       "<div>\n",
       "<style scoped>\n",
       "    .dataframe tbody tr th:only-of-type {\n",
       "        vertical-align: middle;\n",
       "    }\n",
       "\n",
       "    .dataframe tbody tr th {\n",
       "        vertical-align: top;\n",
       "    }\n",
       "\n",
       "    .dataframe thead th {\n",
       "        text-align: right;\n",
       "    }\n",
       "</style>\n",
       "<table border=\"1\" class=\"dataframe\">\n",
       "  <thead>\n",
       "    <tr style=\"text-align: right;\">\n",
       "      <th></th>\n",
       "      <th>Launch Site</th>\n",
       "      <th>Lat</th>\n",
       "      <th>Long</th>\n",
       "      <th>class</th>\n",
       "      <th>marker_color</th>\n",
       "    </tr>\n",
       "  </thead>\n",
       "  <tbody>\n",
       "    <tr>\n",
       "      <th>46</th>\n",
       "      <td>KSC LC-39A</td>\n",
       "      <td>28.573255</td>\n",
       "      <td>-80.646895</td>\n",
       "      <td>1</td>\n",
       "      <td>green</td>\n",
       "    </tr>\n",
       "    <tr>\n",
       "      <th>47</th>\n",
       "      <td>KSC LC-39A</td>\n",
       "      <td>28.573255</td>\n",
       "      <td>-80.646895</td>\n",
       "      <td>1</td>\n",
       "      <td>green</td>\n",
       "    </tr>\n",
       "    <tr>\n",
       "      <th>48</th>\n",
       "      <td>KSC LC-39A</td>\n",
       "      <td>28.573255</td>\n",
       "      <td>-80.646895</td>\n",
       "      <td>1</td>\n",
       "      <td>green</td>\n",
       "    </tr>\n",
       "    <tr>\n",
       "      <th>49</th>\n",
       "      <td>CCAFS SLC-40</td>\n",
       "      <td>28.563197</td>\n",
       "      <td>-80.576820</td>\n",
       "      <td>1</td>\n",
       "      <td>green</td>\n",
       "    </tr>\n",
       "    <tr>\n",
       "      <th>50</th>\n",
       "      <td>CCAFS SLC-40</td>\n",
       "      <td>28.563197</td>\n",
       "      <td>-80.576820</td>\n",
       "      <td>1</td>\n",
       "      <td>green</td>\n",
       "    </tr>\n",
       "    <tr>\n",
       "      <th>51</th>\n",
       "      <td>CCAFS SLC-40</td>\n",
       "      <td>28.563197</td>\n",
       "      <td>-80.576820</td>\n",
       "      <td>0</td>\n",
       "      <td>red</td>\n",
       "    </tr>\n",
       "    <tr>\n",
       "      <th>52</th>\n",
       "      <td>CCAFS SLC-40</td>\n",
       "      <td>28.563197</td>\n",
       "      <td>-80.576820</td>\n",
       "      <td>0</td>\n",
       "      <td>red</td>\n",
       "    </tr>\n",
       "    <tr>\n",
       "      <th>53</th>\n",
       "      <td>CCAFS SLC-40</td>\n",
       "      <td>28.563197</td>\n",
       "      <td>-80.576820</td>\n",
       "      <td>0</td>\n",
       "      <td>red</td>\n",
       "    </tr>\n",
       "    <tr>\n",
       "      <th>54</th>\n",
       "      <td>CCAFS SLC-40</td>\n",
       "      <td>28.563197</td>\n",
       "      <td>-80.576820</td>\n",
       "      <td>1</td>\n",
       "      <td>green</td>\n",
       "    </tr>\n",
       "    <tr>\n",
       "      <th>55</th>\n",
       "      <td>CCAFS SLC-40</td>\n",
       "      <td>28.563197</td>\n",
       "      <td>-80.576820</td>\n",
       "      <td>0</td>\n",
       "      <td>red</td>\n",
       "    </tr>\n",
       "  </tbody>\n",
       "</table>\n",
       "</div>"
      ],
      "text/plain": [
       "     Launch Site        Lat       Long  class marker_color\n",
       "46    KSC LC-39A  28.573255 -80.646895      1        green\n",
       "47    KSC LC-39A  28.573255 -80.646895      1        green\n",
       "48    KSC LC-39A  28.573255 -80.646895      1        green\n",
       "49  CCAFS SLC-40  28.563197 -80.576820      1        green\n",
       "50  CCAFS SLC-40  28.563197 -80.576820      1        green\n",
       "51  CCAFS SLC-40  28.563197 -80.576820      0          red\n",
       "52  CCAFS SLC-40  28.563197 -80.576820      0          red\n",
       "53  CCAFS SLC-40  28.563197 -80.576820      0          red\n",
       "54  CCAFS SLC-40  28.563197 -80.576820      1        green\n",
       "55  CCAFS SLC-40  28.563197 -80.576820      0          red"
      ]
     },
     "execution_count": 16,
     "metadata": {},
     "output_type": "execute_result"
    }
   ],
   "source": [
    "# Function to assign color to launch outcome\n",
    "def assign_marker_color(launch_outcome):\n",
    "    if launch_outcome == 1:\n",
    "        return 'green'\n",
    "    else:\n",
    "        return 'red'\n",
    "    \n",
    "spacex_df['marker_color'] = spacex_df['class'].apply(assign_marker_color)\n",
    "spacex_df.tail(10)"
   ]
  },
  {
   "cell_type": "markdown",
   "metadata": {},
   "source": [
    "*TODO:* For each launch result in `spacex_df` data frame, add a `folium.Marker` to `marker_cluster`\n"
   ]
  },
  {
   "cell_type": "code",
   "execution_count": 18,
   "metadata": {},
   "outputs": [
    {
     "data": {
      "text/html": [
       "<div style=\"width:100%;\"><div style=\"position:relative;width:100%;height:0;padding-bottom:60%;\"><span style=\"color:#565656\">Make this Notebook Trusted to load map: File -> Trust Notebook</span><iframe srcdoc=\"&lt;!DOCTYPE html&gt;\n",
       "&lt;head&gt;    \n",
       "    &lt;meta http-equiv=&quot;content-type&quot; content=&quot;text/html; charset=UTF-8&quot; /&gt;\n",
       "    &lt;script&gt;L_PREFER_CANVAS = false; L_NO_TOUCH = false; L_DISABLE_3D = false;&lt;/script&gt;\n",
       "    &lt;script src=&quot;https://urldefense.com/v3/__https://cdn.jsdelivr.net/npm/leaflet@1.2.0/dist/leaflet.js&quot;&gt;&lt;/script&gt;*5Cn__;JQ!!KEBONX3EBw!Z5JdwzWjAB63KhI8tP5BnZi6UKi-blSRP32UAQWONMr765Lq7Heykzst8ujO2FNGZaSWmG9zF6AwnTPwQGKPFeTDmCUco5v4qc3z6OCR$ ",
       "    &lt;script src=&quot;https://urldefense.com/v3/__https://ajax.googleapis.com/ajax/libs/jquery/1.11.1/jquery.min.js&quot;&gt;&lt;/script&gt;*5Cn__;JQ!!KEBONX3EBw!Z5JdwzWjAB63KhI8tP5BnZi6UKi-blSRP32UAQWONMr765Lq7Heykzst8ujO2FNGZaSWmG9zF6AwnTPwQGKPFeTDmCUco5v4qQVDQZ8D$ ",
       "    &lt;script src=&quot;https://urldefense.com/v3/__https://maxcdn.bootstrapcdn.com/bootstrap/3.2.0/js/bootstrap.min.js&quot;&gt;&lt;/script&gt;*5Cn__;JQ!!KEBONX3EBw!Z5JdwzWjAB63KhI8tP5BnZi6UKi-blSRP32UAQWONMr765Lq7Heykzst8ujO2FNGZaSWmG9zF6AwnTPwQGKPFeTDmCUco5v4qV4SfkaD$ ",
       "    &lt;script src=&quot;https://urldefense.com/v3/__https://cdnjs.cloudflare.com/ajax/libs/Leaflet.awesome-markers/2.0.2/leaflet.awesome-markers.js&quot;&gt;&lt;/script&gt;*5Cn__;JQ!!KEBONX3EBw!Z5JdwzWjAB63KhI8tP5BnZi6UKi-blSRP32UAQWONMr765Lq7Heykzst8ujO2FNGZaSWmG9zF6AwnTPwQGKPFeTDmCUco5v4qQOjFOJu$ ",
       "    &lt;link rel=&quot;stylesheet&quot; href=&quot;https://urldefense.com/v3/__https://cdn.jsdelivr.net/npm/leaflet@1.2.0/dist/leaflet.css&quot;/&gt;*5Cn__;JQ!!KEBONX3EBw!Z5JdwzWjAB63KhI8tP5BnZi6UKi-blSRP32UAQWONMr765Lq7Heykzst8ujO2FNGZaSWmG9zF6AwnTPwQGKPFeTDmCUco5v4qaxaeHGh$ ",
       "    &lt;link rel=&quot;stylesheet&quot; href=&quot;https://urldefense.com/v3/__https://maxcdn.bootstrapcdn.com/bootstrap/3.2.0/css/bootstrap.min.css&quot;/&gt;*5Cn__;JQ!!KEBONX3EBw!Z5JdwzWjAB63KhI8tP5BnZi6UKi-blSRP32UAQWONMr765Lq7Heykzst8ujO2FNGZaSWmG9zF6AwnTPwQGKPFeTDmCUco5v4qaCPth0T$ ",
       "    &lt;link rel=&quot;stylesheet&quot; href=&quot;https://urldefense.com/v3/__https://maxcdn.bootstrapcdn.com/bootstrap/3.2.0/css/bootstrap-theme.min.css&quot;/&gt;*5Cn__;JQ!!KEBONX3EBw!Z5JdwzWjAB63KhI8tP5BnZi6UKi-blSRP32UAQWONMr765Lq7Heykzst8ujO2FNGZaSWmG9zF6AwnTPwQGKPFeTDmCUco5v4qcFr39G5$ ",
       "    &lt;link rel=&quot;stylesheet&quot; href=&quot;https://urldefense.com/v3/__https://maxcdn.bootstrapcdn.com/font-awesome/4.6.3/css/font-awesome.min.css&quot;/&gt;*5Cn__;JQ!!KEBONX3EBw!Z5JdwzWjAB63KhI8tP5BnZi6UKi-blSRP32UAQWONMr765Lq7Heykzst8ujO2FNGZaSWmG9zF6AwnTPwQGKPFeTDmCUco5v4qRiROGJq$ ",
       "    &lt;link rel=&quot;stylesheet&quot; href=&quot;https://urldefense.com/v3/__https://cdnjs.cloudflare.com/ajax/libs/Leaflet.awesome-markers/2.0.2/leaflet.awesome-markers.css&quot;/&gt;*5Cn__;JQ!!KEBONX3EBw!Z5JdwzWjAB63KhI8tP5BnZi6UKi-blSRP32UAQWONMr765Lq7Heykzst8ujO2FNGZaSWmG9zF6AwnTPwQGKPFeTDmCUco5v4qZf9reRx$ ",
       "    &lt;link rel=&quot;stylesheet&quot; href=&quot;https://urldefense.com/v3/__https://rawgit.com/python-visualization/folium/master/folium/templates/leaflet.awesome.rotate.css&quot;/&gt;*5Cn__;JQ!!KEBONX3EBw!Z5JdwzWjAB63KhI8tP5BnZi6UKi-blSRP32UAQWONMr765Lq7Heykzst8ujO2FNGZaSWmG9zF6AwnTPwQGKPFeTDmCUco5v4qWL_2jRE$ ",
       "    &lt;style&gt;html, body {width: 100%;height: 100%;margin: 0;padding: 0;}&lt;/style&gt;\n",
       "    &lt;style&gt;#map {position:absolute;top:0;bottom:0;right:0;left:0;}&lt;/style&gt;\n",
       "    \n",
       "            &lt;style&gt; #map_c84842b1b8484333ae4613d59166625c {\n",
       "                position : relative;\n",
       "                width : 100.0%;\n",
       "                height: 100.0%;\n",
       "                left: 0.0%;\n",
       "                top: 0.0%;\n",
       "                }\n",
       "            &lt;/style&gt;\n",
       "        \n",
       "    &lt;script src=&quot;https://urldefense.com/v3/__https://cdnjs.cloudflare.com/ajax/libs/leaflet.markercluster/1.1.0/leaflet.markercluster.js&quot;&gt;&lt;/script&gt;*5Cn__;JQ!!KEBONX3EBw!Z5JdwzWjAB63KhI8tP5BnZi6UKi-blSRP32UAQWONMr765Lq7Heykzst8ujO2FNGZaSWmG9zF6AwnTPwQGKPFeTDmCUco5v4qX7ONMCP$ ",
       "    &lt;link rel=&quot;stylesheet&quot; href=&quot;https://urldefense.com/v3/__https://cdnjs.cloudflare.com/ajax/libs/leaflet.markercluster/1.1.0/MarkerCluster.css&quot;/&gt;*5Cn__;JQ!!KEBONX3EBw!Z5JdwzWjAB63KhI8tP5BnZi6UKi-blSRP32UAQWONMr765Lq7Heykzst8ujO2FNGZaSWmG9zF6AwnTPwQGKPFeTDmCUco5v4qYW4tchj$ ",
       "    &lt;link rel=&quot;stylesheet&quot; href=&quot;https://urldefense.com/v3/__https://cdnjs.cloudflare.com/ajax/libs/leaflet.markercluster/1.1.0/MarkerCluster.Default.css&quot;/&gt;*5Cn__;JQ!!KEBONX3EBw!Z5JdwzWjAB63KhI8tP5BnZi6UKi-blSRP32UAQWONMr765Lq7Heykzst8ujO2FNGZaSWmG9zF6AwnTPwQGKPFeTDmCUco5v4qfX6ND6I$ ",
       "&lt;/head&gt;\n",
       "&lt;body&gt;    \n",
       "    \n",
       "            &lt;div class=&quot;folium-map&quot; id=&quot;map_c84842b1b8484333ae4613d59166625c&quot; &gt;&lt;/div&gt;\n",
       "        \n",
       "&lt;/body&gt;\n",
       "&lt;script&gt;    \n",
       "    \n",
       "\n",
       "            \n",
       "                var bounds = null;\n",
       "            \n",
       "\n",
       "            var map_c84842b1b8484333ae4613d59166625c = L.map(\n",
       "                                  &#x27;map_c84842b1b8484333ae4613d59166625c&#x27;,\n",
       "                                  {center: [29.559684888503615,-95.0830971930759],\n",
       "                                  zoom: 5,\n",
       "                                  maxBounds: bounds,\n",
       "                                  layers: [],\n",
       "                                  worldCopyJump: false,\n",
       "                                  crs: L.CRS.EPSG3857\n",
       "                                 });\n",
       "            \n",
       "        \n",
       "    \n",
       "            var tile_layer_c6c5f7d7b36e127b9e65c172ef758087 = L.tileLayer(\n",
       "                &#x27;https://urldefense.com/v3/__https://*7Bs*7D.tile.openstreetmap.org/*7Bz*7D/*7Bx*7D/*7By*7D.png&*x27;,*5Cn__;JSUlJSUlJSUjJQ!!KEBONX3EBw!Z5JdwzWjAB63KhI8tP5BnZi6UKi-blSRP32UAQWONMr765Lq7Heykzst8ujO2FNGZaSWmG9zF6AwnTPwQGKPFeTDmCUco5v4qWD3Twor$ ",
       "                {\n",
       "  &quot;attribution&quot;: null,\n",
       "  &quot;detectRetina&quot;: false,\n",
       "  &quot;maxZoom&quot;: 18,\n",
       "  &quot;minZoom&quot;: 1,\n",
       "  &quot;noWrap&quot;: false,\n",
       "  &quot;subdomains&quot;: &quot;abc&quot;\n",
       "}\n",
       "                ).addTo(map_c84842b1b8484333ae4613d59166625c);\n",
       "        \n",
       "    \n",
       "\n",
       "            var circle_bd7b5fabfd32c37e7bb6289e4814e48b = L.circle(\n",
       "                [28.562302,-80.577356],\n",
       "                {\n",
       "  &quot;bubblingMouseEvents&quot;: true,\n",
       "  &quot;color&quot;: &quot;#d35400&quot;,\n",
       "  &quot;dashArray&quot;: null,\n",
       "  &quot;dashOffset&quot;: null,\n",
       "  &quot;fill&quot;: true,\n",
       "  &quot;fillColor&quot;: &quot;#d35400&quot;,\n",
       "  &quot;fillOpacity&quot;: 0.2,\n",
       "  &quot;fillRule&quot;: &quot;evenodd&quot;,\n",
       "  &quot;lineCap&quot;: &quot;round&quot;,\n",
       "  &quot;lineJoin&quot;: &quot;round&quot;,\n",
       "  &quot;opacity&quot;: 1.0,\n",
       "  &quot;radius&quot;: 1000,\n",
       "  &quot;stroke&quot;: true,\n",
       "  &quot;weight&quot;: 3\n",
       "}\n",
       "                ).addTo(map_c84842b1b8484333ae4613d59166625c);\n",
       "            \n",
       "    \n",
       "            var popup_10013594364ae0f48a2394d1aca5e844 = L.popup({maxWidth: &#x27;300&#x27;});\n",
       "\n",
       "            \n",
       "                var html_5e91498d859de9d3dc770c9f62a12728 = $(&#x27;&lt;div id=&quot;html_5e91498d859de9d3dc770c9f62a12728&quot; style=&quot;width: 100.0%; height: 100.0%;&quot;&gt;CCAFS LC-40&lt;/div&gt;&#x27;)[0];\n",
       "                popup_10013594364ae0f48a2394d1aca5e844.setContent(html_5e91498d859de9d3dc770c9f62a12728);\n",
       "            \n",
       "\n",
       "            circle_bd7b5fabfd32c37e7bb6289e4814e48b.bindPopup(popup_10013594364ae0f48a2394d1aca5e844);\n",
       "\n",
       "            \n",
       "        \n",
       "    \n",
       "\n",
       "            var marker_6baeb6eb972da9f9949f2d2490357066 = L.marker(\n",
       "                [28.562302,-80.577356],\n",
       "                {\n",
       "                    icon: new L.Icon.Default()\n",
       "                    }\n",
       "                )\n",
       "                .addTo(map_c84842b1b8484333ae4613d59166625c);\n",
       "            \n",
       "    \n",
       "\n",
       "                var div_icon_25433d5f0ee6447bc1b4b5bb049d809c = L.divIcon({\n",
       "                    iconSize: [20,20],\n",
       "                    iconAnchor: [0,0],\n",
       "                    \n",
       "                    className: &#x27;empty&#x27;,\n",
       "                    html: &#x27;&lt;div style=&quot;font-size: 12; color:#d35400;&quot;&gt;&lt;b&gt;LC40&lt;/b&gt;&lt;/div&gt;&#x27;,\n",
       "                    });\n",
       "                marker_6baeb6eb972da9f9949f2d2490357066.setIcon(div_icon_25433d5f0ee6447bc1b4b5bb049d809c);\n",
       "            \n",
       "    \n",
       "\n",
       "            var circle_b3594882dc2f65654fd0b94f7ed10a96 = L.circle(\n",
       "                [28.563197,-80.57682],\n",
       "                {\n",
       "  &quot;bubblingMouseEvents&quot;: true,\n",
       "  &quot;color&quot;: &quot;#d35400&quot;,\n",
       "  &quot;dashArray&quot;: null,\n",
       "  &quot;dashOffset&quot;: null,\n",
       "  &quot;fill&quot;: true,\n",
       "  &quot;fillColor&quot;: &quot;#d35400&quot;,\n",
       "  &quot;fillOpacity&quot;: 0.2,\n",
       "  &quot;fillRule&quot;: &quot;evenodd&quot;,\n",
       "  &quot;lineCap&quot;: &quot;round&quot;,\n",
       "  &quot;lineJoin&quot;: &quot;round&quot;,\n",
       "  &quot;opacity&quot;: 1.0,\n",
       "  &quot;radius&quot;: 1000,\n",
       "  &quot;stroke&quot;: true,\n",
       "  &quot;weight&quot;: 3\n",
       "}\n",
       "                ).addTo(map_c84842b1b8484333ae4613d59166625c);\n",
       "            \n",
       "    \n",
       "            var popup_4809c8e34faea725245c0aef0516e8b4 = L.popup({maxWidth: &#x27;300&#x27;});\n",
       "\n",
       "            \n",
       "                var html_3e4fa4fddc6ec9a0ecad46a99c6b571e = $(&#x27;&lt;div id=&quot;html_3e4fa4fddc6ec9a0ecad46a99c6b571e&quot; style=&quot;width: 100.0%; height: 100.0%;&quot;&gt;CCAFS SLC-40&lt;/div&gt;&#x27;)[0];\n",
       "                popup_4809c8e34faea725245c0aef0516e8b4.setContent(html_3e4fa4fddc6ec9a0ecad46a99c6b571e);\n",
       "            \n",
       "\n",
       "            circle_b3594882dc2f65654fd0b94f7ed10a96.bindPopup(popup_4809c8e34faea725245c0aef0516e8b4);\n",
       "\n",
       "            \n",
       "        \n",
       "    \n",
       "\n",
       "            var marker_81284db54b8070b93479b21b761968c4 = L.marker(\n",
       "                [28.563197,-80.57682],\n",
       "                {\n",
       "                    icon: new L.Icon.Default()\n",
       "                    }\n",
       "                )\n",
       "                .addTo(map_c84842b1b8484333ae4613d59166625c);\n",
       "            \n",
       "    \n",
       "\n",
       "                var div_icon_612fc011180aa847c6095f4400d5e47a = L.divIcon({\n",
       "                    iconSize: [20,20],\n",
       "                    iconAnchor: [0,0],\n",
       "                    \n",
       "                    className: &#x27;empty&#x27;,\n",
       "                    html: &#x27;&lt;div style=&quot;font-size: 12; color:#d35400;&quot;&gt;&lt;b&gt;SLC40&lt;/b&gt;&lt;/div&gt;&#x27;,\n",
       "                    });\n",
       "                marker_81284db54b8070b93479b21b761968c4.setIcon(div_icon_612fc011180aa847c6095f4400d5e47a);\n",
       "            \n",
       "    \n",
       "\n",
       "            var circle_90651a3f0ed11915123d5fc513d8f59a = L.circle(\n",
       "                [28.573255,-80.646895],\n",
       "                {\n",
       "  &quot;bubblingMouseEvents&quot;: true,\n",
       "  &quot;color&quot;: &quot;#d35400&quot;,\n",
       "  &quot;dashArray&quot;: null,\n",
       "  &quot;dashOffset&quot;: null,\n",
       "  &quot;fill&quot;: true,\n",
       "  &quot;fillColor&quot;: &quot;#d35400&quot;,\n",
       "  &quot;fillOpacity&quot;: 0.2,\n",
       "  &quot;fillRule&quot;: &quot;evenodd&quot;,\n",
       "  &quot;lineCap&quot;: &quot;round&quot;,\n",
       "  &quot;lineJoin&quot;: &quot;round&quot;,\n",
       "  &quot;opacity&quot;: 1.0,\n",
       "  &quot;radius&quot;: 1000,\n",
       "  &quot;stroke&quot;: true,\n",
       "  &quot;weight&quot;: 3\n",
       "}\n",
       "                ).addTo(map_c84842b1b8484333ae4613d59166625c);\n",
       "            \n",
       "    \n",
       "            var popup_64bcf519969322a3ce32f342a1f92acb = L.popup({maxWidth: &#x27;300&#x27;});\n",
       "\n",
       "            \n",
       "                var html_e424c8a26304651d1936ac0bb23f43de = $(&#x27;&lt;div id=&quot;html_e424c8a26304651d1936ac0bb23f43de&quot; style=&quot;width: 100.0%; height: 100.0%;&quot;&gt;KSC LC-39A&lt;/div&gt;&#x27;)[0];\n",
       "                popup_64bcf519969322a3ce32f342a1f92acb.setContent(html_e424c8a26304651d1936ac0bb23f43de);\n",
       "            \n",
       "\n",
       "            circle_90651a3f0ed11915123d5fc513d8f59a.bindPopup(popup_64bcf519969322a3ce32f342a1f92acb);\n",
       "\n",
       "            \n",
       "        \n",
       "    \n",
       "\n",
       "            var marker_c71f405807805c85355823537a9eba5b = L.marker(\n",
       "                [28.573255,-80.646895],\n",
       "                {\n",
       "                    icon: new L.Icon.Default()\n",
       "                    }\n",
       "                )\n",
       "                .addTo(map_c84842b1b8484333ae4613d59166625c);\n",
       "            \n",
       "    \n",
       "\n",
       "                var div_icon_b5957a1f51d65b82cbc1dc5adea402d0 = L.divIcon({\n",
       "                    iconSize: [20,20],\n",
       "                    iconAnchor: [0,0],\n",
       "                    \n",
       "                    className: &#x27;empty&#x27;,\n",
       "                    html: &#x27;&lt;div style=&quot;font-size: 12; color:#d35400;&quot;&gt;&lt;b&gt;39A&lt;/b&gt;&lt;/div&gt;&#x27;,\n",
       "                    });\n",
       "                marker_c71f405807805c85355823537a9eba5b.setIcon(div_icon_b5957a1f51d65b82cbc1dc5adea402d0);\n",
       "            \n",
       "    \n",
       "\n",
       "            var circle_76dc7ee5883d3f0347a0c586022f08d9 = L.circle(\n",
       "                [34.632834,-120.610745],\n",
       "                {\n",
       "  &quot;bubblingMouseEvents&quot;: true,\n",
       "  &quot;color&quot;: &quot;#d35400&quot;,\n",
       "  &quot;dashArray&quot;: null,\n",
       "  &quot;dashOffset&quot;: null,\n",
       "  &quot;fill&quot;: true,\n",
       "  &quot;fillColor&quot;: &quot;#d35400&quot;,\n",
       "  &quot;fillOpacity&quot;: 0.2,\n",
       "  &quot;fillRule&quot;: &quot;evenodd&quot;,\n",
       "  &quot;lineCap&quot;: &quot;round&quot;,\n",
       "  &quot;lineJoin&quot;: &quot;round&quot;,\n",
       "  &quot;opacity&quot;: 1.0,\n",
       "  &quot;radius&quot;: 1000,\n",
       "  &quot;stroke&quot;: true,\n",
       "  &quot;weight&quot;: 3\n",
       "}\n",
       "                ).addTo(map_c84842b1b8484333ae4613d59166625c);\n",
       "            \n",
       "    \n",
       "            var popup_220a1286ae9f2f8a7164b66ff8d07456 = L.popup({maxWidth: &#x27;300&#x27;});\n",
       "\n",
       "            \n",
       "                var html_30988020da92e7ebb2b68a8c512dee2e = $(&#x27;&lt;div id=&quot;html_30988020da92e7ebb2b68a8c512dee2e&quot; style=&quot;width: 100.0%; height: 100.0%;&quot;&gt;VAFB SLC-4E&lt;/div&gt;&#x27;)[0];\n",
       "                popup_220a1286ae9f2f8a7164b66ff8d07456.setContent(html_30988020da92e7ebb2b68a8c512dee2e);\n",
       "            \n",
       "\n",
       "            circle_76dc7ee5883d3f0347a0c586022f08d9.bindPopup(popup_220a1286ae9f2f8a7164b66ff8d07456);\n",
       "\n",
       "            \n",
       "        \n",
       "    \n",
       "\n",
       "            var marker_06369a54cd34b9079e7c3ea2fc6b828b = L.marker(\n",
       "                [34.632834,-120.610745],\n",
       "                {\n",
       "                    icon: new L.Icon.Default()\n",
       "                    }\n",
       "                )\n",
       "                .addTo(map_c84842b1b8484333ae4613d59166625c);\n",
       "            \n",
       "    \n",
       "\n",
       "                var div_icon_56dd1071ad4015b84406fb04f6e1ba5e = L.divIcon({\n",
       "                    iconSize: [20,20],\n",
       "                    iconAnchor: [0,0],\n",
       "                    \n",
       "                    className: &#x27;empty&#x27;,\n",
       "                    html: &#x27;&lt;div style=&quot;font-size: 12; color:#d35400;&quot;&gt;&lt;b&gt;SLC-4E&lt;/b&gt;&lt;/div&gt;&#x27;,\n",
       "                    });\n",
       "                marker_06369a54cd34b9079e7c3ea2fc6b828b.setIcon(div_icon_56dd1071ad4015b84406fb04f6e1ba5e);\n",
       "            \n",
       "    \n",
       "            var marker_cluster_788a551e5c6a4bb601a1cfa22c97d97e = L.markerClusterGroup({\n",
       "                \n",
       "            });\n",
       "            map_c84842b1b8484333ae4613d59166625c.addLayer(marker_cluster_788a551e5c6a4bb601a1cfa22c97d97e);\n",
       "            \n",
       "    \n",
       "\n",
       "            var marker_2d1a4792ffd954b1b441ce00303984c9 = L.marker(\n",
       "                [29.559684888503615,-95.0830971930759],\n",
       "                {\n",
       "                    icon: new L.Icon.Default()\n",
       "                    }\n",
       "                )\n",
       "                .addTo(marker_cluster_788a551e5c6a4bb601a1cfa22c97d97e);\n",
       "            \n",
       "    \n",
       "\n",
       "                var div_icon_4d0083e52275798f1834c840073d64a3 = L.divIcon({\n",
       "                    iconSize: [20,20],\n",
       "                    iconAnchor: [0,0],\n",
       "                    \n",
       "                    className: &#x27;empty&#x27;,\n",
       "                    html: &#x27;&lt;div style=&quot;font-size: 12; color:#d35400;&quot;&gt;&lt;b&gt;NASA JSC&lt;/b&gt;&lt;/div&gt;&#x27;,\n",
       "                    });\n",
       "                marker_2d1a4792ffd954b1b441ce00303984c9.setIcon(div_icon_4d0083e52275798f1834c840073d64a3);\n",
       "            \n",
       "&lt;/script&gt;\" style=\"position:absolute;width:100%;height:100%;left:0;top:0;border:none !important;\" allowfullscreen webkitallowfullscreen mozallowfullscreen></iframe></div></div>"
      ],
      "text/plain": [
       "<folium.folium.Map at 0x7f1c2ca3fcd0>"
      ]
     },
     "execution_count": 18,
     "metadata": {},
     "output_type": "execute_result"
    }
   ],
   "source": [
    "# Add marker_cluster to current site_map\n",
    "site_map.add_child(marker_cluster)\n",
    "\n",
    "# for each row in spacex_df data frame\n",
    "# create a Marker object with its coordinate\n",
    "# and customize the Marker's icon property to indicate if this launch was successed or failed, \n",
    "# e.g., icon=folium.Icon(color='white', icon_color=row['marker_color']\n",
    "for index, record in spacex_df.iterrows():\n",
    "    # TODO: Create and add a Marker cluster to the site map\n",
    "    # marker = folium.Marker(...)\n",
    "    marker_cluster.add_child(marker)\n",
    "\n",
    "site_map"
   ]
  },
  {
   "cell_type": "markdown",
   "metadata": {},
   "source": [
    "Your updated map may look like the following screenshots:\n"
   ]
  },
  {
   "cell_type": "markdown",
   "metadata": {},
   "source": [
    "<center>\n",
    "    <img src=\"https://urldefense.com/v3/__https://cf-courses-data.s3.us.cloud-object-storage.appdomain.cloud/IBM-DS0321EN-SkillsNetwork/labs/module_3/images/launch_site_marker_cluster.png*5C__;JQ!!KEBONX3EBw!Z5JdwzWjAB63KhI8tP5BnZi6UKi-blSRP32UAQWONMr765Lq7Heykzst8ujO2FNGZaSWmG9zF6AwnTPwQGKPFeTDmCUco5v4qfZKaySR$ " />\n",
    "</center>\n"
   ]
  },
  {
   "cell_type": "markdown",
   "metadata": {},
   "source": [
    "<center>\n",
    "    <img src=\"https://urldefense.com/v3/__https://cf-courses-data.s3.us.cloud-object-storage.appdomain.cloud/IBM-DS0321EN-SkillsNetwork/labs/module_3/images/launch_site_marker_cluster_zoomed.png*5C__;JQ!!KEBONX3EBw!Z5JdwzWjAB63KhI8tP5BnZi6UKi-blSRP32UAQWONMr765Lq7Heykzst8ujO2FNGZaSWmG9zF6AwnTPwQGKPFeTDmCUco5v4qcnLUYOm$ " />\n",
    "</center>\n"
   ]
  },
  {
   "cell_type": "markdown",
   "metadata": {},
   "source": [
    "From the color-labeled markers in marker clusters, you should be able to easily identify which launch sites have relatively high success rates.\n"
   ]
  },
  {
   "cell_type": "markdown",
   "metadata": {},
   "source": [
    "# TASK 3: Calculate the distances between a launch site to its proximities\n"
   ]
  },
  {
   "cell_type": "markdown",
   "metadata": {},
   "source": [
    "Next, we need to explore and analyze the proximities of launch sites.\n"
   ]
  },
  {
   "cell_type": "markdown",
   "metadata": {},
   "source": [
    "Let's first add a `MousePosition` on the map to get coordinate for a mouse over a point on the map. As such, while you are exploring the map, you can easily find the coordinates of any points of interests (such as railway)\n"
   ]
  },
  {
   "cell_type": "code",
   "execution_count": 19,
   "metadata": {},
   "outputs": [
    {
     "ename": "NameError",
     "evalue": "name 'MousePosition' is not defined",
     "output_type": "error",
     "traceback": [
      "\u001b[0;31m---------------------------------------------------------------------------\u001b[0m",
      "\u001b[0;31mNameError\u001b[0m                                 Traceback (most recent call last)",
      "\u001b[0;32m/tmp/ipykernel_3238/1295793096.py\u001b[0m in \u001b[0;36m<module>\u001b[0;34m\u001b[0m\n\u001b[1;32m      1\u001b[0m \u001b[0;31m# Add Mouse Position to get the coordinate (Lat, Long) for a mouse over on the map\u001b[0m\u001b[0;34m\u001b[0m\u001b[0;34m\u001b[0m\u001b[0;34m\u001b[0m\u001b[0m\n\u001b[1;32m      2\u001b[0m \u001b[0mformatter\u001b[0m \u001b[0;34m=\u001b[0m \u001b[0;34m\"function(num) {return L.Util.formatNum(num, 5);};\"\u001b[0m\u001b[0;34m\u001b[0m\u001b[0;34m\u001b[0m\u001b[0m\n\u001b[0;32m----> 3\u001b[0;31m mouse_position = MousePosition(\n\u001b[0m\u001b[1;32m      4\u001b[0m     \u001b[0mposition\u001b[0m\u001b[0;34m=\u001b[0m\u001b[0;34m'topright'\u001b[0m\u001b[0;34m,\u001b[0m\u001b[0;34m\u001b[0m\u001b[0;34m\u001b[0m\u001b[0m\n\u001b[1;32m      5\u001b[0m     \u001b[0mseparator\u001b[0m\u001b[0;34m=\u001b[0m\u001b[0;34m' Long: '\u001b[0m\u001b[0;34m,\u001b[0m\u001b[0;34m\u001b[0m\u001b[0;34m\u001b[0m\u001b[0m\n",
      "\u001b[0;31mNameError\u001b[0m: name 'MousePosition' is not defined"
     ]
    }
   ],
   "source": [
    "# Add Mouse Position to get the coordinate (Lat, Long) for a mouse over on the map\n",
    "formatter = \"function(num) {return L.Util.formatNum(num, 5);};\"\n",
    "mouse_position = MousePosition(\n",
    "    position='topright',\n",
    "    separator=' Long: ',\n",
    "    empty_string='NaN',\n",
    "    lng_first=False,\n",
    "    num_digits=20,\n",
    "    prefix='Lat:',\n",
    "    lat_formatter=formatter,\n",
    "    lng_formatter=formatter,\n",
    ")\n",
    "\n",
    "site_map.add_child(mouse_position)\n",
    "site_map"
   ]
  },
  {
   "cell_type": "markdown",
   "metadata": {},
   "source": [
    "Now zoom in to a launch site and explore its proximity to see if you can easily find any railway, highway, coastline, etc. Move your mouse to these points and mark down their coordinates (shown on the top-left) in order to the distance to the launch site.\n"
   ]
  },
  {
   "cell_type": "markdown",
   "metadata": {},
   "source": [
    "You can calculate the distance between two points on the map based on their `Lat` and `Long` values using the following method:\n"
   ]
  },
  {
   "cell_type": "code",
   "execution_count": null,
   "metadata": {},
   "outputs": [],
   "source": [
    "from math import sin, cos, sqrt, atan2, radians\n",
    "\n",
    "def calculate_distance(lat1, lon1, lat2, lon2):\n",
    "    # approximate radius of earth in km\n",
    "    R = 6373.0\n",
    "\n",
    "    lat1 = radians(lat1)\n",
    "    lon1 = radians(lon1)\n",
    "    lat2 = radians(lat2)\n",
    "    lon2 = radians(lon2)\n",
    "\n",
    "    dlon = lon2 - lon1\n",
    "    dlat = lat2 - lat1\n",
    "\n",
    "    a = sin(dlat / 2)**2 + cos(lat1) * cos(lat2) * sin(dlon / 2)**2\n",
    "    c = 2 * atan2(sqrt(a), sqrt(1 - a))\n",
    "\n",
    "    distance = R * c\n",
    "    return distance"
   ]
  },
  {
   "cell_type": "markdown",
   "metadata": {},
   "source": [
    "*TODO:* Mark down a point on the closest coastline using MousePosition and calculate the distance between the coastline point and the launch site.\n"
   ]
  },
  {
   "cell_type": "code",
   "execution_count": null,
   "metadata": {},
   "outputs": [],
   "source": [
    "# find coordinate of the closet coastline\n",
    "# e.g.,: Lat: 28.56367  Lon: -80.57163\n",
    "# distance_coastline = calculate_distance(launch_site_lat, launch_site_lon, coastline_lat, coastline_lon)"
   ]
  },
  {
   "cell_type": "markdown",
   "metadata": {},
   "source": [
    "*TODO:* After obtained its coordinate, create a `folium.Marker` to show the distance\n"
   ]
  },
  {
   "cell_type": "code",
   "execution_count": null,
   "metadata": {},
   "outputs": [],
   "source": [
    "# Create and add a folium.Marker on your selected closest coastline point on the map\n",
    "# Display the distance between coastline point and launch site using the icon property \n",
    "# for example\n",
    "# distance_marker = folium.Marker(\n",
    "#    coordinate,\n",
    "#    icon=DivIcon(\n",
    "#        icon_size=(20,20),\n",
    "#        icon_anchor=(0,0),\n",
    "#        html='<div style=\"font-size: 12; color:#d35400;\"><b>%s</b></div>' % \"{:10.2f} KM\".format(distance),\n",
    "#        )\n",
    "#    )"
   ]
  },
  {
   "cell_type": "markdown",
   "metadata": {},
   "source": [
    "*TODO:* Draw a `PolyLine` between a launch site to the selected coastline point\n"
   ]
  },
  {
   "cell_type": "code",
   "execution_count": null,
   "metadata": {},
   "outputs": [],
   "source": [
    "# Create a `folium.PolyLine` object using the coastline coordinates and launch site coordinate\n",
    "# lines=folium.PolyLine(locations=coordinates, weight=1)\n",
    "site_map.add_child(lines)"
   ]
  },
  {
   "cell_type": "markdown",
   "metadata": {},
   "source": [
    "Your updated map with distance line should look like the following screenshot:\n"
   ]
  },
  {
   "cell_type": "markdown",
   "metadata": {},
   "source": [
    "<center>\n",
    "    <img src=\"https://urldefense.com/v3/__https://cf-courses-data.s3.us.cloud-object-storage.appdomain.cloud/IBM-DS0321EN-SkillsNetwork/labs/module_3/images/launch_site_marker_distance.png*5C__;JQ!!KEBONX3EBw!Z5JdwzWjAB63KhI8tP5BnZi6UKi-blSRP32UAQWONMr765Lq7Heykzst8ujO2FNGZaSWmG9zF6AwnTPwQGKPFeTDmCUco5v4qTLOeq6C$ " />\n",
    "</center>\n"
   ]
  },
  {
   "cell_type": "markdown",
   "metadata": {},
   "source": [
    "*TODO:* Similarly, you can draw a line betwee a launch site to its closest city, railway, highway, etc. You need to use `MousePosition` to find the their coordinates on the map first\n"
   ]
  },
  {
   "cell_type": "markdown",
   "metadata": {},
   "source": [
    "A railway map symbol may look like this:\n"
   ]
  },
  {
   "cell_type": "markdown",
   "metadata": {},
   "source": [
    "<center>\n",
    "    <img src=\"https://urldefense.com/v3/__https://cf-courses-data.s3.us.cloud-object-storage.appdomain.cloud/IBM-DS0321EN-SkillsNetwork/labs/module_3/images/railway.png*5C__;JQ!!KEBONX3EBw!Z5JdwzWjAB63KhI8tP5BnZi6UKi-blSRP32UAQWONMr765Lq7Heykzst8ujO2FNGZaSWmG9zF6AwnTPwQGKPFeTDmCUco5v4qQwb3sTu$ " />\n",
    "</center>\n"
   ]
  },
  {
   "cell_type": "markdown",
   "metadata": {},
   "source": [
    "A highway map symbol may look like this:\n"
   ]
  },
  {
   "cell_type": "markdown",
   "metadata": {},
   "source": [
    "<center>\n",
    "    <img src=\"https://urldefense.com/v3/__https://cf-courses-data.s3.us.cloud-object-storage.appdomain.cloud/IBM-DS0321EN-SkillsNetwork/labs/module_3/images/highway.png*5C__;JQ!!KEBONX3EBw!Z5JdwzWjAB63KhI8tP5BnZi6UKi-blSRP32UAQWONMr765Lq7Heykzst8ujO2FNGZaSWmG9zF6AwnTPwQGKPFeTDmCUco5v4qW6oKP9p$ " />\n",
    "</center>\n"
   ]
  },
  {
   "cell_type": "markdown",
   "metadata": {},
   "source": [
    "A city map symbol may look like this:\n"
   ]
  },
  {
   "cell_type": "markdown",
   "metadata": {},
   "source": [
    "<center>\n",
    "    <img src=\"https://urldefense.com/v3/__https://cf-courses-data.s3.us.cloud-object-storage.appdomain.cloud/IBM-DS0321EN-SkillsNetwork/labs/module_3/images/city.png*5C__;JQ!!KEBONX3EBw!Z5JdwzWjAB63KhI8tP5BnZi6UKi-blSRP32UAQWONMr765Lq7Heykzst8ujO2FNGZaSWmG9zF6AwnTPwQGKPFeTDmCUco5v4qSblhk8m$ " />\n",
    "</center>\n"
   ]
  },
  {
   "cell_type": "code",
   "execution_count": null,
   "metadata": {},
   "outputs": [],
   "source": [
    "# Create a marker with distance to a closest city, railway, highway, etc.\n",
    "# Draw a line between the marker to the launch site\n"
   ]
  },
  {
   "cell_type": "code",
   "execution_count": null,
   "metadata": {},
   "outputs": [],
   "source": []
  },
  {
   "cell_type": "code",
   "execution_count": null,
   "metadata": {},
   "outputs": [],
   "source": []
  },
  {
   "cell_type": "markdown",
   "metadata": {},
   "source": [
    "After you plot distance lines to the proximities, you can answer the following questions easily:\n",
    "\n",
    "*   Are launch sites in close proximity to railways?\n",
    "*   Are launch sites in close proximity to highways?\n",
    "*   Are launch sites in close proximity to coastline?\n",
    "*   Do launch sites keep certain distance away from cities?\n",
    "\n",
    "Also please try to explain your findings.\n"
   ]
  },
  {
   "cell_type": "markdown",
   "metadata": {},
   "source": [
    "# Next Steps:\n",
    "\n",
    "Now you have discovered many interesting insights related to the launch sites' location using folium, in a very interactive way. Next, you will need to build a dashboard using Ploty Dash on detailed launch records.\n"
   ]
  },
  {
   "cell_type": "markdown",
   "metadata": {},
   "source": [
    "## Authors\n"
   ]
  },
  {
   "cell_type": "markdown",
   "metadata": {},
   "source": [
    "[Yan Luo](https://urldefense.com/v3/__https://www.linkedin.com/in/yan-luo-96288783/?utm_medium=Exinfluencer&utm_source=Exinfluencer&utm_content=000026UJ&utm_term=10006555&utm_id=NA-SkillsNetwork-Channel-SkillsNetworkCoursesIBMDS0321ENSkillsNetwork26802033-2022-01-01)*5Cn__;JQ!!KEBONX3EBw!Z5JdwzWjAB63KhI8tP5BnZi6UKi-blSRP32UAQWONMr765Lq7Heykzst8ujO2FNGZaSWmG9zF6AwnTPwQGKPFeTDmCUco5v4qbRNHSsw$ "
   ]
  },
  {
   "cell_type": "markdown",
   "metadata": {},
   "source": [
    "### Other Contributors\n"
   ]
  },
  {
   "cell_type": "markdown",
   "metadata": {},
   "source": [
    "Joseph Santarcangelo\n"
   ]
  },
  {
   "cell_type": "markdown",
   "metadata": {},
   "source": [
    "## Change Log\n"
   ]
  },
  {
   "cell_type": "markdown",
   "metadata": {},
   "source": [
    "| Date (YYYY-MM-DD) | Version | Changed By | Change Description          |\n",
    "| ----------------- | ------- | ---------- | --------------------------- |\n",
    "| 2021-05-26        | 1.0     | Yan        | Created the initial version |\n"
   ]
  },
  {
   "cell_type": "markdown",
   "metadata": {},
   "source": [
    "Copyright © 2021 IBM Corporation. All rights reserved.\n"
   ]
  }
 ],
 "metadata": {
  "kernelspec": {
   "display_name": "Python",
   "language": "python",
   "name": "conda-env-python-py"
  },
  "language_info": {
   "codemirror_mode": {
    "name": "ipython",
    "version": 3
   },
   "file_extension": ".py",
   "mimetype": "text/x-python",
   "name": "python",
   "nbconvert_exporter": "python",
   "pygments_lexer": "ipython3",
   "version": "3.7.12"
  },
  "papermill": {
   "duration": 142.196942,
   "end_time": "2020-09-19T06:29:13.341578",
   "environment_variables": {},
   "exception": null,
   "input_path": "__notebook__.ipynb",
   "output_path": "__notebook__.ipynb",
   "parameters": {},
   "start_time": "2020-09-19T06:26:51.144636",
   "version": "2.1.0"
  }
 },
 "nbformat": 4,
 "nbformat_minor": 4
}
