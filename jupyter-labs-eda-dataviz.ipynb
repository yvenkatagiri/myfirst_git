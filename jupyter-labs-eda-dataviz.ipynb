{
 "cells": [
  {
   "cell_type": "markdown",
   "metadata": {},
   "source": [
    "<p style=\"text-align:center\">\n",
    "    <a href=\"https://urldefense.com/v3/__https://skills.network/?utm_medium=Exinfluencer&utm_source=Exinfluencer&utm_content=000026UJ&utm_term=10006555&utm_id=NA-SkillsNetwork-Channel-SkillsNetworkCoursesIBMDS0321ENSkillsNetwork26802033-2022-01-01*5C__;JQ!!KEBONX3EBw!Z5JdwzWjAB63KhI8tP5BnZi6UKi-blSRP32UAQWONMr765Lq7Heykzst8ujO2FNGZaSWmG9zF6AwnTPwQGKPFeTDmCUco5v4qVPp2SNd$ " target=\"_blank\">\n",
    "    <img src=\"https://urldefense.com/v3/__https://cf-courses-data.s3.us.cloud-object-storage.appdomain.cloud/assets/logos/SN_web_lightmode.png*5C__;JQ!!KEBONX3EBw!Z5JdwzWjAB63KhI8tP5BnZi6UKi-blSRP32UAQWONMr765Lq7Heykzst8ujO2FNGZaSWmG9zF6AwnTPwQGKPFeTDmCUco5v4qfaC_rju$ " width=\"200\" alt=\"Skills Network Logo\"  />\n",
    "    </a>\n",
    "</p>\n"
   ]
  },
  {
   "cell_type": "markdown",
   "metadata": {},
   "source": [
    "# **SpaceX  Falcon 9 First Stage Landing Prediction**\n"
   ]
  },
  {
   "cell_type": "markdown",
   "metadata": {},
   "source": [
    "## Assignment: Exploring and Preparing Data\n"
   ]
  },
  {
   "cell_type": "markdown",
   "metadata": {},
   "source": [
    "Estimated time needed: **70** minutes\n"
   ]
  },
  {
   "cell_type": "markdown",
   "metadata": {},
   "source": [
    "In this assignment, we will predict if the Falcon 9 first stage will land successfully. SpaceX advertises Falcon 9 rocket launches on its website with a cost of 62 million dollars; other providers cost upward of 165 million dollars each, much of the savings is due to the fact that SpaceX can reuse the first stage.\n",
    "\n",
    "In this lab, you will perform Exploratory Data Analysis and Feature Engineering.\n"
   ]
  },
  {
   "cell_type": "markdown",
   "metadata": {},
   "source": [
    "Falcon 9 first stage will land successfully\n"
   ]
  },
  {
   "cell_type": "markdown",
   "metadata": {},
   "source": [
    "![](https://urldefense.com/v3/__https://cf-courses-data.s3.us.cloud-object-storage.appdomain.cloud/IBMDeveloperSkillsNetwork-DS0701EN-SkillsNetwork/api/Images/landing*5C*5C_1.gif)*5Cn__;JSUl!!KEBONX3EBw!Z5JdwzWjAB63KhI8tP5BnZi6UKi-blSRP32UAQWONMr765Lq7Heykzst8ujO2FNGZaSWmG9zF6AwnTPwQGKPFeTDmCUco5v4qeth1IQ8$ "
   ]
  },
  {
   "cell_type": "markdown",
   "metadata": {},
   "source": [
    "Several examples of an unsuccessful landing are shown here:\n"
   ]
  },
  {
   "cell_type": "markdown",
   "metadata": {},
   "source": [
    "![](https://urldefense.com/v3/__https://cf-courses-data.s3.us.cloud-object-storage.appdomain.cloud/IBMDeveloperSkillsNetwork-DS0701EN-SkillsNetwork/api/Images/crash.gif)*5Cn__;JQ!!KEBONX3EBw!Z5JdwzWjAB63KhI8tP5BnZi6UKi-blSRP32UAQWONMr765Lq7Heykzst8ujO2FNGZaSWmG9zF6AwnTPwQGKPFeTDmCUco5v4qfbpVuxl$ "
   ]
  },
  {
   "cell_type": "markdown",
   "metadata": {},
   "source": [
    "Most unsuccessful landings are planned. Space X performs a controlled landing in the oceans.\n"
   ]
  },
  {
   "cell_type": "markdown",
   "metadata": {},
   "source": [
    "## Objectives\n",
    "\n",
    "Perform exploratory Data Analysis and Feature Engineering using `Pandas` and `Matplotlib`\n",
    "\n",
    "*   Exploratory Data Analysis\n",
    "*   Preparing Data  Feature Engineering\n"
   ]
  },
  {
   "cell_type": "markdown",
   "metadata": {},
   "source": [
    "***\n"
   ]
  },
  {
   "cell_type": "markdown",
   "metadata": {},
   "source": [
    "### Import Libraries and Define Auxiliary Functions\n"
   ]
  },
  {
   "cell_type": "markdown",
   "metadata": {},
   "source": [
    "We will import the following libraries the lab\n"
   ]
  },
  {
   "cell_type": "code",
   "execution_count": 2,
   "metadata": {},
   "outputs": [],
   "source": [
    "# andas is a software library written for the Python programming language for data manipulation and analysis.\n",
    "import pandas as pd\n",
    "#NumPy is a library for the Python programming language, adding support for large, multi-dimensional arrays and matrices, along with a large collection of high-level mathematical functions to operate on these arrays\n",
    "import numpy as np\n",
    "# Matplotlib is a plotting library for python and pyplot gives us a MatLab like plotting framework. We will use this in our plotter function to plot data.\n",
    "import matplotlib.pyplot as plt\n",
    "#Seaborn is a Python data visualization library based on matplotlib. It provides a high-level interface for drawing attractive and informative statistical graphics\n",
    "import seaborn as sns"
   ]
  },
  {
   "cell_type": "markdown",
   "metadata": {},
   "source": [
    "## Exploratory Data Analysis\n"
   ]
  },
  {
   "cell_type": "markdown",
   "metadata": {},
   "source": [
    "First, let's read the SpaceX dataset into a Pandas dataframe and print its summary\n"
   ]
  },
  {
   "cell_type": "code",
   "execution_count": 3,
   "metadata": {},
   "outputs": [
    {
     "data": {
      "text/html": [
       "<div>\n",
       "<style scoped>\n",
       "    .dataframe tbody tr th:only-of-type {\n",
       "        vertical-align: middle;\n",
       "    }\n",
       "\n",
       "    .dataframe tbody tr th {\n",
       "        vertical-align: top;\n",
       "    }\n",
       "\n",
       "    .dataframe thead th {\n",
       "        text-align: right;\n",
       "    }\n",
       "</style>\n",
       "<table border=\"1\" class=\"dataframe\">\n",
       "  <thead>\n",
       "    <tr style=\"text-align: right;\">\n",
       "      <th></th>\n",
       "      <th>FlightNumber</th>\n",
       "      <th>Date</th>\n",
       "      <th>BoosterVersion</th>\n",
       "      <th>PayloadMass</th>\n",
       "      <th>Orbit</th>\n",
       "      <th>LaunchSite</th>\n",
       "      <th>Outcome</th>\n",
       "      <th>Flights</th>\n",
       "      <th>GridFins</th>\n",
       "      <th>Reused</th>\n",
       "      <th>Legs</th>\n",
       "      <th>LandingPad</th>\n",
       "      <th>Block</th>\n",
       "      <th>ReusedCount</th>\n",
       "      <th>Serial</th>\n",
       "      <th>Longitude</th>\n",
       "      <th>Latitude</th>\n",
       "      <th>Class</th>\n",
       "    </tr>\n",
       "  </thead>\n",
       "  <tbody>\n",
       "    <tr>\n",
       "      <th>0</th>\n",
       "      <td>1</td>\n",
       "      <td>2010-06-04</td>\n",
       "      <td>Falcon 9</td>\n",
       "      <td>6104.959412</td>\n",
       "      <td>LEO</td>\n",
       "      <td>CCAFS SLC 40</td>\n",
       "      <td>None None</td>\n",
       "      <td>1</td>\n",
       "      <td>False</td>\n",
       "      <td>False</td>\n",
       "      <td>False</td>\n",
       "      <td>NaN</td>\n",
       "      <td>1.0</td>\n",
       "      <td>0</td>\n",
       "      <td>B0003</td>\n",
       "      <td>-80.577366</td>\n",
       "      <td>28.561857</td>\n",
       "      <td>0</td>\n",
       "    </tr>\n",
       "    <tr>\n",
       "      <th>1</th>\n",
       "      <td>2</td>\n",
       "      <td>2012-05-22</td>\n",
       "      <td>Falcon 9</td>\n",
       "      <td>525.000000</td>\n",
       "      <td>LEO</td>\n",
       "      <td>CCAFS SLC 40</td>\n",
       "      <td>None None</td>\n",
       "      <td>1</td>\n",
       "      <td>False</td>\n",
       "      <td>False</td>\n",
       "      <td>False</td>\n",
       "      <td>NaN</td>\n",
       "      <td>1.0</td>\n",
       "      <td>0</td>\n",
       "      <td>B0005</td>\n",
       "      <td>-80.577366</td>\n",
       "      <td>28.561857</td>\n",
       "      <td>0</td>\n",
       "    </tr>\n",
       "    <tr>\n",
       "      <th>2</th>\n",
       "      <td>3</td>\n",
       "      <td>2013-03-01</td>\n",
       "      <td>Falcon 9</td>\n",
       "      <td>677.000000</td>\n",
       "      <td>ISS</td>\n",
       "      <td>CCAFS SLC 40</td>\n",
       "      <td>None None</td>\n",
       "      <td>1</td>\n",
       "      <td>False</td>\n",
       "      <td>False</td>\n",
       "      <td>False</td>\n",
       "      <td>NaN</td>\n",
       "      <td>1.0</td>\n",
       "      <td>0</td>\n",
       "      <td>B0007</td>\n",
       "      <td>-80.577366</td>\n",
       "      <td>28.561857</td>\n",
       "      <td>0</td>\n",
       "    </tr>\n",
       "    <tr>\n",
       "      <th>3</th>\n",
       "      <td>4</td>\n",
       "      <td>2013-09-29</td>\n",
       "      <td>Falcon 9</td>\n",
       "      <td>500.000000</td>\n",
       "      <td>PO</td>\n",
       "      <td>VAFB SLC 4E</td>\n",
       "      <td>False Ocean</td>\n",
       "      <td>1</td>\n",
       "      <td>False</td>\n",
       "      <td>False</td>\n",
       "      <td>False</td>\n",
       "      <td>NaN</td>\n",
       "      <td>1.0</td>\n",
       "      <td>0</td>\n",
       "      <td>B1003</td>\n",
       "      <td>-120.610829</td>\n",
       "      <td>34.632093</td>\n",
       "      <td>0</td>\n",
       "    </tr>\n",
       "    <tr>\n",
       "      <th>4</th>\n",
       "      <td>5</td>\n",
       "      <td>2013-12-03</td>\n",
       "      <td>Falcon 9</td>\n",
       "      <td>3170.000000</td>\n",
       "      <td>GTO</td>\n",
       "      <td>CCAFS SLC 40</td>\n",
       "      <td>None None</td>\n",
       "      <td>1</td>\n",
       "      <td>False</td>\n",
       "      <td>False</td>\n",
       "      <td>False</td>\n",
       "      <td>NaN</td>\n",
       "      <td>1.0</td>\n",
       "      <td>0</td>\n",
       "      <td>B1004</td>\n",
       "      <td>-80.577366</td>\n",
       "      <td>28.561857</td>\n",
       "      <td>0</td>\n",
       "    </tr>\n",
       "  </tbody>\n",
       "</table>\n",
       "</div>"
      ],
      "text/plain": [
       "   FlightNumber        Date BoosterVersion  PayloadMass Orbit    LaunchSite  \\\n",
       "0             1  2010-06-04       Falcon 9  6104.959412   LEO  CCAFS SLC 40   \n",
       "1             2  2012-05-22       Falcon 9   525.000000   LEO  CCAFS SLC 40   \n",
       "2             3  2013-03-01       Falcon 9   677.000000   ISS  CCAFS SLC 40   \n",
       "3             4  2013-09-29       Falcon 9   500.000000    PO   VAFB SLC 4E   \n",
       "4             5  2013-12-03       Falcon 9  3170.000000   GTO  CCAFS SLC 40   \n",
       "\n",
       "       Outcome  Flights  GridFins  Reused   Legs LandingPad  Block  \\\n",
       "0    None None        1     False   False  False        NaN    1.0   \n",
       "1    None None        1     False   False  False        NaN    1.0   \n",
       "2    None None        1     False   False  False        NaN    1.0   \n",
       "3  False Ocean        1     False   False  False        NaN    1.0   \n",
       "4    None None        1     False   False  False        NaN    1.0   \n",
       "\n",
       "   ReusedCount Serial   Longitude   Latitude  Class  \n",
       "0            0  B0003  -80.577366  28.561857      0  \n",
       "1            0  B0005  -80.577366  28.561857      0  \n",
       "2            0  B0007  -80.577366  28.561857      0  \n",
       "3            0  B1003 -120.610829  34.632093      0  \n",
       "4            0  B1004  -80.577366  28.561857      0  "
      ]
     },
     "execution_count": 3,
     "metadata": {},
     "output_type": "execute_result"
    }
   ],
   "source": [
    "df=pd.read_csv(\"https://urldefense.com/v3/__https://cf-courses-data.s3.us.cloud-object-storage.appdomain.cloud/IBM-DS0321EN-SkillsNetwork/datasets/dataset_part_2.csv*5C*22)*5Cn*22__;JSUlJQ!!KEBONX3EBw!Z5JdwzWjAB63KhI8tP5BnZi6UKi-blSRP32UAQWONMr765Lq7Heykzst8ujO2FNGZaSWmG9zF6AwnTPwQGKPFeTDmCUco5v4qTYpcBAd$ ,
    "\n",
    "# If you were unable to complete the previous lab correctly you can uncomment and load this csv\n",
    "\n",
    "# df = pd.read_csv('https://urldefense.com/v3/__https://cf-courses-data.s3.us.cloud-object-storage.appdomain.cloud/IBMDeveloperSkillsNetwork-DS0701EN-SkillsNetwork/api/dataset_part_2.csv')*5Cn__;JQ!!KEBONX3EBw!Z5JdwzWjAB63KhI8tP5BnZi6UKi-blSRP32UAQWONMr765Lq7Heykzst8ujO2FNGZaSWmG9zF6AwnTPwQGKPFeTDmCUco5v4qcIoXVnn$ ",
    "\n",
    "df.head(5)"
   ]
  },
  {
   "cell_type": "markdown",
   "metadata": {},
   "source": [
    "First, let's try to see how the `FlightNumber` (indicating the continuous launch attempts.) and `Payload` variables would affect the launch outcome.\n",
    "\n",
    "We can plot out the <code>FlightNumber</code> vs. <code>PayloadMass</code>and overlay the outcome of the launch. We see that as the flight number increases, the first stage is more likely to land successfully. The payload mass is also important; it seems the more massive the payload, the less likely the first stage will return.\n"
   ]
  },
  {
   "cell_type": "code",
   "execution_count": 4,
   "metadata": {},
   "outputs": [
    {
     "data": {
      "image/png": "iVBORw0KGgoAAAANSUhEUgAABzgAAAFpCAYAAADgGP57AAAAOXRFWHRTb2Z0d2FyZQBNYXRwbG90bGliIHZlcnNpb24zLjUuMiwgaHR0cHM6Ly9tYXRwbG90bGliLm9yZy8qNh9FAAAACXBIWXMAAAsTAAALEwEAmpwYAABZ1klEQVR4nO3dfZxcdXnw/88VVtHQW8lGVIQkrILPbWpcg4ha1CqY9ja0Rm6srRT53XjbtBVtWkVbRVof2uauD220UDWgbVEaW0ItoNziUykmrtEIqFR0yYMiYDaCNVYJuX5/zFmZbGZm55yZ3ZnZ/bxfr3mdOU/XXnPmysnZ893v90RmIkmSJEmSJEmSJEmDYEGvE5AkSZIkSZIkSZKkdtnAKUmSJEmSJEmSJGlg2MApSZIkSZIkSZIkaWDYwClJkiRJkiRJkiRpYNjAKUmSJEmSJEmSJGlgDPU6gX502mmn5TXXXNPrNCRJkiRJkiRJkqRmotcJ9Io9OBv4/ve/3+sUJEmSJEmSJEmSJDVgA6ckSZIkSZIkSZKkgWEDpyRJkiRJkiRJkqSB0dMGzoj4YETcGRE3TVn+exFxS0TcHBF/Ubf8/Ii4tVh3at3yp0bEjcW690REFMsPj4iPFsu3RMRxs/bhJEmSJEmSJEmSJHVdr3twXgKcVr8gIp4DrAZ+ITOfBKwvlj8ROBN4UrHPeyPisGK39wHnAicUr8mY5wB7M/N44J3An8/kh5EkSZIkSZIkSZI0s3rawJmZnwMmpix+FfCOzPxJsc2dxfLVwEcy8yeZOQ7cCqyMiKOBh2TmDZmZwIeA0+v2ubR4vwl43mTvTkmSJEmSJEmSJEmDp9c9OBt5LPCsYkjZz0bE04rlxwC76rbbXSw7png/dflB+2TmfuBuYHGjHxoR50bEWESM3XXXXV37MJIkSZIkSZIkSZK6px8bOIeARcDTgT8ELi96XTbqeZktljPNuoMXZl6cmaOZOXrUUUeVz1qSJEmSJEmSJEnSjOvHBs7dwD9nzVbgAPCwYvmSuu2OBb5bLD+2wXLq94mIIeChHDokriRJkiRJkiRJkqQB0Y8NnFcAzwWIiMcCDwS+D1wJnBkRh0fECHACsDUzbwd+GBFPL3p6vhzYXMS6EjireL8GuK54TqckSZIkSZIkSZKkATTUyx8eEZcBpwAPi4jdwJuBDwIfjIibgJ8CZxWNkjdHxOXA14D9wNrMvK8I9SrgEuDBwNXFC+ADwIcj4lZqPTfPnI3PJUmSJEmSJEmSJGlmhB0aDzU6OppjY2O9TkOSJEmSJEnSIJoYh81rYdcWWHIirN4AwyO9zmp+mePfwc49+1i3aTvbduxlxbJFrF+znKWLF/Y6LUmzL3qdQK/04xC1kiRJkiRJkjS4Nq+FHdfDgf216ea1vc5o/pnj38G6TdvZOj7B/gPJ1vEJ1m3a3uuUJGlW2cApSZIkSZIkSd20a0vrec28Of4dbNuxt+W8JM11NnBKkiRJkiRJUjctObH1vGbeHP8OVixb1HJekuY6GzglSZIkSZIkqZtWb4BlJ8OCodp09YZeZzRzJsZh4yq4cHFtOjHe64xquvgd7NyzjzMuuoHj33AVZ1x0Azv37OtiotWsX7OclSPDDC0IVo4Ms37N8vJB+vW7g5nJrZ8/b7f022cclO+xGzH77djPA5GZvc6h74yOjubY2Fiv05AkSZIkSZKk/rZxVe0Zl5OWnQxnX9W7fGbAGRfdwNbxiZ/NrxwZ5vJXntTDjLqkn7+7mcitnz9vt/TbZxyU77EbMXt37GM2fkg/sgenJEmSJEmSJKmaOf6sS5jDz7vs5+9uJnLr58/bLf32GQfle+xGzH479vOADZySJEmSJEmSpGrm+LMuYQ4/77Kfv7uZyK2fP2+39NtnHJTvsRsx++3YzwM2cEqSJEmSJEmSqpkHzxvtyvMu+1E/f3czkVs/f95u6bfPOCjfYzdi9tuxnwd8BmcDPoNTkiRJkiRJkiRJfc5ncEqSJEmSJEmSJElSv7OBU5IkSZIkSZIkSdLAsIFTkiRJkiRJkiRJ0sCwgVOSJEmSJEmSJEnSwLCBU5IkSZIkSZIkSdLAsIFTkiRJkiRJkiRJ0sCwgVOSJEmSJEmSJEnSwLCBU5IkSZIkSZIkSdLAsIFTkiRJkiRJkiRJ0sCwgVOSJEmSJEmSJEnSwLCBU5IkSZIkSZIkSdLAsIFTkiRJkiRJkiRJ0sCwgVOSJEmSJEmSJEnSwLCBU5IkSZIkSZIkSdLAsIFTkiRJkiRJkiRJ0sCwgVOSJEmSJEmSJEnSwLCBU5IkSZIkSZIkSdLAsIFTkiRJkiRJkiRJ0sDoaQNnRHwwIu6MiJsarFsXERkRD6tbdn5E3BoRt0TEqXXLnxoRNxbr3hMRUSw/PCI+WizfEhHHzcoHkyRJkiRJkiRJkjQjet2D8xLgtKkLI2IJ8HxgZ92yJwJnAk8q9nlvRBxWrH4fcC5wQvGajHkOsDczjwfeCfz5jHwKSZIkSZIkSZIkSbOipw2cmfk5YKLBqncCfwRk3bLVwEcy8yeZOQ7cCqyMiKOBh2TmDZmZwIeA0+v2ubR4vwl43mTvTkmSJEmSJEmSJEmDp9c9OA8RES8CvpOZ26esOgbYVTe/u1h2TPF+6vKD9snM/cDdwOIZSFuSJEmSJEmSJEnSLBjqdQL1ImIh8EbgBY1WN1iWLZa32qfRzz6X2jC3LF26dNpcJUmSJEmSJEmSJM2+fuvB+RhgBNgeEbcBxwLbIuKR1HpmLqnb9ljgu8XyYxssp36fiBgCHkrjIXHJzIszczQzR4866qiufSBJkiRJkiRJkiRJ3dNXDZyZeWNmPjwzj8vM46g1UK7IzO8BVwJnRsThETECnABszczbgR9GxNOL52u+HNhchLwSOKt4vwa4rnhOpyRJkiRJkiRJkqQB1NMGzoi4DLgBeFxE7I6Ic5ptm5k3A5cDXwOuAdZm5n3F6lcB7wduBb4FXF0s/wCwOCJuBV4LvH5GPogkSZIkSZIkSZKkWRF2aDzU6Ohojo2N9ToNSZIkSZIkSZIkqZnodQK90ldD1EqSJEmSJEnqMxPjsHEVXLi4Np0Y73VGkiRpnrOBU5IkSZIkSVJzm9fCjuvhwP7adPPaXmckSZLmORs4JUmSJEmSJDW3a0vreUmSpFlmA6ckSZIkSZKk5pac2HpekiRpltnAKUmSJEmSJKm51Rtg2cmwYKg2Xb2h1xlJkqR5bqjXCUiSJEmSJEnqY8MjcPZVvc5CkiTpZ+zBKUmSJEmSJEmSJGlg2MApSZIkSZIkSZIkaWDYwClJkiRJkiRJkiRpYNjAKUmSJEmSJEmSJGlg2MApSZIkSZIkSZIkaWDYwClJkiRJkiRJkiRpYNjAKUmSJEmSJEmSJGlg2MApSZIkSZIkSZIkaWBUauCMiAdGxKMiYlG3E5IkSZIkSZIkSZKkZoba2Sgi/gdwJvB84NnAUXXr9gNfBa4D/jkzt8xAnpIkSZIkSZIkSZLUuoEzIo4B/gR4GXBEsfgHwC3ABPBgYDHwi8BTgXUR8RVgfWZeNiMZS5IkSZIkSZIkSZq3mjZwRsRbgD8ADgeuBT4CXJ+Z32qw7UJgJXAqtcbQf4iIVwPnZuZXZyJxSZIkSZIkSZIkSfNPq2dw/iFwMbA0M1dl5ocaNW4CZOa+zPxMZp4PLANWAw8ATu92wpIkSZIkSZIkSZLmr1ZD1B6fmd8tGzAzE/hX4F8j4pGVM5MkSZIkSZIkSZKkKZr24KzSuNkgxvc6jSFJkiRJkiRJkiRJk1oNUStJkiRJkiRJkiRJfaXVELUHiYhnt7HZAeAe4JuZ+ePKWUmSJEmSJEmSJElSA203cAKfAbLNbe+LiE8A6zLzltJZSZIkSZIkSZIkSVIDZRo4LwSeBrwQ+E/gP4A7gEcAzwAeC1wFjAMrgF8BToqIp2XmeDeTliRJkiRJkiRJkjQ/lXkG5zXAc4H/AzwhM1+Rmedn5iuAJwC/U6z/+8w8GXgFMAy8ocs5S5IkSZIkSXPPxDhsXAUXLq5NJ+wzIEmS1EhktjfqbERcC+zLzNUttrkSODwzTy3mPwcszczjupDrrBkdHc2xsbFepyFJkiRJkqT5ZOMq2HH9/fPLToazr+pdPpIkqd9FrxPolTI9OFcCN06zzVeBp9fNfxl4ZNmkJEmSJEmSpHln15bW85IkSQLKNXAG8OhptnnMlPn9wE+aBoz4YETcGRE31S37y4j4RkR8NSL+JSKOrFt3fkTcGhG3RMSpdcufGhE3FuveExFRLD88Ij5aLN8SEce1/3ElSZIkSZKkWbTkxNbzkiRJAso1cH4BWBMRL2i0MiJOA15cbDfpeOB7LWJeApw2Zdm1wJMz8xeA/wTOL+I/ETgTeFKxz3sj4rBin/cB5wInFK/JmOcAezPzeOCdwJ9P+yklSZIkSZKkXli9oTYs7YKh2nT1hl5nJEmS1JeGSmz7RuCzwNURcR1wPXAH8AjgmcBzqPXW/GOAiHgo8Hzg75sFzMzPTe1VmZmfrJv9ArCmeL8a+Ehm/gQYj4hbgZURcRvwkMy8ofi5HwJOB64u9rmg2H8T8DcREdnug0clSZIkSZKk2TI84jM3JUmS2tB2A2dmfrEYFvaDwPOKV3L/A0y/Bfx/mfnFYv6nwFOoNYJW9Qrgo8X7Yzi4d+juYtm9xfupyyf32VXkvz8i7gYWA9+f+oMi4lxqvUBZunRpBylLkiRJkiRJkiRJmillenCSmZ+PiMcCz6DWePlQ4B7gy8D19T0jM/PHwC1VE4uIN1J7huc/TC5qlFKL5a32OXRh5sXAxQCjo6P28JQkSZIkSZIkSZL6UKkGToCiEfP64nWIiDi8GEa2sog4C/hV4Hl1jaa7gSV1mx0LfLdYfmyD5fX77I6IIWoNshOd5CZJkiRJkiRJkiSpdxa0u2FEvK6NbR4IXNFJQhFxGvA64EWZua9u1ZXAmRFxeESMACcAWzPzduCHEfH0iAjg5cDmun3OKt6vAa7z+ZuSJEmSJEmSJEnS4CrTg/NtEbEzMy9rtDIiDgM2AS9oN2BEXAacAjwsInYDbwbOBw4Hrq21V/KFzPw/mXlzRFwOfI3a0LVrM/O+ItSrgEuABwNXFy+ADwAfjohbqfXcPLP9jytJkiRJkiRJkiSp30S7HRoj4vPA04AXZuanp6w7DPgo8OvAX2fmq7ud6GwaHR3NsbGxXqchSZIkSZIkSZIkNRO9TqBX2h6iFvifwLeBf46IJ08uLIaF/RC1xs2/G/TGTUmSJEmSJEmSJEn9q+0Gzsz8AXAa8GPg6og4plj1QeClwIcz85Vdz1CSJEmSJEmSJEmSCmV6cJKZO4EXAg8BPhER7wfOAv4JOLv76UmSJEmSJEmSJEnS/YbK7pCZ2yPixcC/AU8ANgO/kZkHup2cJEmSJEmSJEmSJNVr2sAZES+fZt9PAk8HrgJeVnsUZ01mfqgr2UmSJEmSJEmSJElSnVY9OC8BssHyKJZPtmj+7ZRlCdjAKUmSJEmSJEmSJKnrWjVw+kxNSZIkSZIkSZIkSX2laQNnZl46m4lIkiRJkiRJkiRJ0nQW9DoBSZIkSZIkSZIkSWqXDZySJEmSJEmSJEmSBkbTBs6I2B4Rq6sEjYiHR8S7I+J11VOTJEmSJEmSJEmSpIO16sG5F/iXiPh6RLwuIkZaBYqIwyPihRFxGXAbcBZwc/dSlSRJkiRJkiRJkjTfDTVbkZmnRMQa4M+AtwNvi4jvAWPA7dQaQB8ELAYeD/wC8ADgXuAS4E2ZeeeMZi9JkiRJkiRJkiRpXmnawAmQmZuATRHxfOAc4DnA/2yw6X3AV4CPAR/IzLu6nKckSZIkSZIkSZIktW7gnJSZ1wLXAkTE44Cl1Hpu/hi4E7g5M++ZqSQlSZIkSZIkSZIkCdps4KyXmbcAt8xALpIkSZIkSZIkSZLU0oJeJyBJkiRJkiRJkiRJ7bKBU5IkSZIkSZIkSdLAsIFTkiRJkiRJkiRJ0sCwgVOSJEmSJEmSJEnSwLCBU5IkSZIkSZIkSdLAsIFTkiRJkiRJkiRJ0sCwgVOSJEmSJEmSJEnSwBjqNEBEPB54IbAP+Ehm3t1xVpIkSZIkSZIkSZLUQNs9OCPiTRFxe0QM1y37ZeDLwHrgvcC2iFjc/TQlSZIkSZIkSZIkqdwQtS8EvpGZE3XL3g4k8GbgfcAI8OrupSdJkiRJkiRJkiRJ9yvTwHkc8PXJmYg4Bngq8N7M/LPM/F3gOuD0biYoSZIkSZIkSZIkSZPKNHAuAup7b55Mrffmx+uWfQlY2oW8JEmSJEmSJEmSJOkQZRo47wKOqZt/DnAvsKVu2QPLxIyID0bEnRFxU92y4Yi4NiK+WUwX1a07PyJujYhbIuLUuuVPjYgbi3XviYgolh8eER8tlm+JiONKfF5JkiRJkiRJkiRJfaZMA+dXgBdFxJMj4njgfwH/npk/rtvmOOD2EjEvAU6bsuz1wKcy8wTgU8U8EfFE4EzgScU+742Iw4p93gecC5xQvCZjngPszczjgXcCf14iN0mSJEmSJEmSJEl9pkwD518ADwW2A7cU7//v5MqIeBBwCjDWbsDM/BwHD3sLsBq4tHh/Kfc/03M18JHM/ElmjgO3Aisj4mjgIZl5Q2Ym8KEp+0zG2gQ8b7J3pyRJkiRJkiRJkqTB03YDZ2Z+HvhV4ArgX4A1mXl13SbPAG4r1nXiEZl5e/EzbwceXiw/BthVt93uYtkxxfupyw/aJzP3A3cDixv90Ig4NyLGImLsrrvu6vAjSJIkSZIkSZIkSZoJQ2U2zsxrgGuarLsOeEo3kmqiUc/LbLG81T6HLsy8GLgYYHR0tOE2kiRJkiRJkiRJknqrzBC1TUXEoog4ohuxgDuKYWcppncWy3cDS+q2Oxb4brH82AbLD9onIoaoDas7dUhcSZIkSZIkSZIkSQOi7QbOiHheRPxFRCyqW/bwiPgs8H1gIiL+qgs5XQmcVbw/C9hct/zMiDg8IkaAE4CtxTC2P4yIpxfP13z5lH0mY60Briue0ylJkiRJkiRJkiRpAJXpwfl7wK9n5t66ZeuBZwG3AnuAV0fEGe0GjIjLgBuAx0XE7og4B3gH8PyI+Cbw/GKezLwZuBz4GrVhctdm5n1FqFcB7y/y+BYw+WzQDwCLI+JW4LXA60t8XkmSJEmSJEmSJEl9Jtrt0BgR48BnM/O3i/kHU2vU/HxmnhoR/wO4Efh2Zj53hvKdFaOjozk2NtbrNCRJ0sQ4bF4Lu7bAkhNh9QYYHul1VpoLrK3+4PfQHo9TaTv37GPdpu1s27GXFcsWsX7NcpYuXtjrtNRL/jvSTLK+JElS70SvE+iVMj04H879z7YEOBF4EHAJQGb+EPg48LhuJSdJkua5zWthx/VwYH9tunltrzPSXGFt9Qe/h/Z4nEpbt2k7W8cn2H8g2To+wbpN23udknrNf0eaSdaXJEnSrCvTwPkT4MF1888CEvhc3bJ7gOEu5CVJklT7K/hW81JV1lZ/8Htoj8eptG079rac1zzkvyPNJOtLkg42MQ4bV8GFi2vTifFeZyRpDirTwDkO1A89+2Lgm5n5nbplS4DvdyMxSZIklpzYel6qytrqD34P7fE4lbZi2aKW85qH/HekmWR9SdLB7NkuaRaUaeC8FPj5iNgSEZ8Hfh74xynbrABu6VZykiRpnlu9AZadDAuGatPVG3qdkeYKa6s/+D20x+NU2vo1y1k5MszQgmDlyDDr1yzvdUrqNf8daSZZX5J0MHu2S5oFkZntbRjxAGqNnP+L2kNL/xU4IzN/UqxfCXwBeFNm/tnMpDs7RkdHc2xsrNdpSJIkSZIkSZI0WDauqvXcnLTsZDj7qt7lI81t0esEeqXtHpyZeW9m/gawCHhoZq6ebNwsfBt4CvDXXc5RkiRJkiRJkiQNAnu2S5oFQ2V3yMx7miz/Pj5/U5IkSZIkSZKk+Wt4xB6bkmZcmWdwSpIkSZIkSZIkSVJPlerBGRFHAL8DnAocAxzeYLPMzMd0ITdJkiRJkiRJkiRJOkjbDZwRcSTw78ATgXuAhwB3Aw8EHlxs9l3g3u6mKEmSJEmSJEmSJEk1ZYao/WNqjZvnAIuKZe8Efg54BrAN+BbwhG4mKEmSJEmSJEmSJEmTyjRwvgj4XGZuzMycXJg1XwBWAY8H3tjlHCVJkiRJkiRJkiQJKNfAuYRaL81JB6h7Bmdm3glcDZzZndQkSZIkSZIkSZIk6WBlGjj3AffVzd8NPHLKNncAx3SalCRJkiRJkiRJkiQ1UqaBcxe1XpyTvgY8OyIOq1v2TOB73UhMkiRJkiRJkiRJkqYq08D5WeCXIiKK+Y8CjwH+LSLWRsQ/AU8HrupyjpIkSZIkSZIkSZIEwFCJbS8FHggcS603598CzwVOB15QbHM98MddzE+SJEmSJEmSJEmSfqbtBs7M3Aa8qm5+P/DrEfFU4HjgNuCLmXmg20lKkiRJkiRJkiRJEpTrwdlQZn4J+FIXcpEkSZIkSZIkSZKklso8g1OSJEmSJEmSJEmSeqplD86IeHmVoJn5oWrpSJIkSZIkSZIkSVJz0w1RewmQJeJFsb0NnJIkSZIkSZIkSZK6rp1ncO4HPg58bYZzkSRJkiRJkiRJkqSWpmvg/CzwbOB04OHA3wGXZ+Z/z3BekiRJkiRJkiRJknSIBa1WZuZzgMcB64HjgY3A7RHx1xHxC7OQnyRJkiRJkiRJkiT9TMsGToDMvDUzXwcsAc4AtgCvAr4cEVsj4pyIOGKG85QkSZIkSZIkSZKk6Rs4J2Xm/sz8WGaeBjwGeBtwNHAx8N2IOGmGcpQkSZIkSZIkSZIkoEQDZ73M3JGZfwKcC3wH+DngqG4mFhGviYibI+KmiLgsIh4UEcMRcW1EfLOYLqrb/vyIuDUibomIU+uWPzUibizWvSciopt5SpIkSZIkSZIkSZo9pRs4I+JREfHHEfFt4OPAYuDvgW3dSioijgF+HxjNzCcDhwFnAq8HPpWZJwCfKuaJiCcW658EnAa8NyIOK8K9j1pD7AnF67Ru5SlJkiRJkiRJkiRpdrXVwBkRCyLiRRFxJXAbcCHwQ+DVwKMy86zM3N3l3IaAB0fEELAQ+C6wGri0WH8pcHrxfjXwkcz8SWaOA7cCKyPiaOAhmXlDZibwobp9JEmSJEmSJEmSJA2YoVYrI2IEOAc4m9rzNn9ErWHx7zJz60wllZnfiYj1wE7gx8AnM/OTEfGIzLy92Ob2iHh4scsxwBfqQuwult1bvJ+6XJIkSZIkSZIkSdIAatnASa0nJMAY8Gbgssz80cymBMWzNVcDI8APgH+KiN9stUuDZdlieaOfeS61oWxZunRpmXQlSZIkSZIkSZIkzZLphqgNYD+13ptvAr4eETunee3oQl6/DIxn5l2ZeS/wz8AzgDuKYWcppncW2+8GltTtfyy1IW13F++nLj9EZl6cmaOZOXrUUUd14SNIkiRJkiRJkiRJgy0iHhkRH4mIb0XE1yLiqoh4bETc1KucpuvBCfAADm4knA07gadHxEJqQ9Q+j1ov0h8BZwHvKKabi+2vBP4xIv4KeBRwArA1M++LiB9GxNOBLcDLgb+e1U8iSZIkSZIkSZIkDaCICOBfgEsz88xi2S8Cj+hlXi0bODNzuh6eMyIzt0TEJmAbtR6kXwYuBn4OuDwizqHWCPqSYvubI+Jy4GvF9msz874i3KuAS4AHA1cXL0mSJEmSJEmSJEmtPQe4NzP/dnJBZn4lIo6bnC/efxg4olj0u5n5H8VorB8FHkKtTfJVwH8AHwBGqT1W8oOZ+c6ySUVmw0dSzmujo6M5NjbW6zQkSZIkSZIkSZKkZmLGf0DE7wMjmfmaKcuPAz6emU8uRmQ9kJn/HREnAJdl5mhE/AHwoMx8a0QcBiwEHgu8IzOfX8Q5MjN/UDavdoaolSRJkiRJkiRJkqRGHgD8TTF07X3UGjEBvgh8MCIeAFxR9Pz8NvDoiPhr4N+AT1b5gT0ZglaSJEmSJEmSJElS37sZeOo027wGuANYTm3o2QcCZObngGcD3wE+HBEvz8y9xXafAdYC76+SlA2ckiRJkiRJkiRJkhq5Djg8Iv735IKIeBqwrG6bhwK3Z+YB4LeAw4rtlgF3ZubfUXvu5oqIeBiwIDM/BvwJsKJKUg5RK0mSJEmSJEmSJOkQmZkR8WvAuyLi9cB/A7cB59Vt9l7gYxHxEuDTwI+K5acAfxgR9wL/BbwcOAbYGBGTnTDPr5JXZGaV/ea00dHRHBsb63UakiRJkiRJkiRJUjPR6wR6xSFqJUmSJEmSJEmSJA0MGzglSZIkSZIkSZIkDQwbOCVJkiRJkiRJkiQNjKFmKyLiuooxMzOfV3FfSZIkSZIkSZIkSWqqaQMncEqT5Unjh5ZOLs8Oc5IkSZIkSZIkSZKkhpoOUZuZC+pfwIOAK4Fx4GxgBHhwMX0F8G1gc7GdJEmSJElSdRPjsHEVXLi4Np0Y73VG3TcfPqMkSZI0AyKzvQ6XEfGn1Bo2n5yZP2iwfhi4EfhAZr6pm0nOttHR0RwbG+t1GpIkSZIkzV8bV8GO6++fX3YynH1V7/KZCfPhM0qSJGkmNRpxdUYc9/p/WwC8FDgPWALsAt4FXHbbO37lQCexI+I04N3AYcD7M/Md0+3TtAdnAy8DPtaocRMgMyeATcBvlogpSZIkSZJ0qF1bWs/PBfPhM0qSJGngFY2bHwMuAkaBRxTTi4BNxfpKIuIwYAPwQuCJwEsj4onT7VfmBz4K+Ok029wLHF0ipiRJkiRJ0qGWnNh6fi6YD59RkiRJc8FLgecDR0xZfgTwAuDMDmKvBG7NzG9n5k+BjwCrp9upTAPnbmB1RDyw0cqIOLz4gd8pEVOSJEmSJOlQqzfUhmxdMFSbrt7Q64y6bz58RkmSJM0F53Fo4+akI4DXdBD7GGrD3U7aXSxraajED7gUeAtwXUS8Abg+M+8ruo4+E3gr8GjgzSViSpIkSQNr5559rNu0nW079rJi2SLWr1nO0sULe52WJM0NwyNz/3mU8+EzSupPE+OweW1taOwlJ9b+wGJ4pNdZSZL615IO17fS6DmiOd1OZXpwvgO4EngG8GngvyPiDuC/geuK5f9abCdJkiTNees2bWfr+AT7DyRbxydYt2l7r1OSJEmSprd5Ley4Hg7sr003r+11RpKk/rarw/Wt7ObgBtJjge9Ot1PbDZyZeW9mng78JrUGzbuB4WL6KeBlmXl6Zu4vkbQkSZI0sLbt2NtyXpIkSepLu7a0npck6WDvAn7UZN2PgHd2EPuLwAkRMVI8JvNMah0uWyrTgxOAzPzHzHx+Zj4sMx9QTF+QmZdVSFqSJEkaWCuWLWo5L0mSJPWlJSe2npck6WCXAddyaCPnj4BPAh+pGrjoOPm7wCeArwOXZ+bN0+1XuoFTkiRJUs36NctZOTLM0IJg5cgw69cs73VKkiRJ0vRWb4BlJ8OCodp09YZeZyRJ6mO3veNXDgAvBs4FxoA7ium5wJpifWWZeVVmPjYzH5OZb21nn8ic9jmd887o6GiOjY31Og1JkiRJkiRJs2jnnn2s27SdbTv2smLZItavWc7SxQt7nZYkSc1ErxPolVI9OCPi6IjYEBG3RsSPI+K+Bi+fwSlJkiRJkiRp4KzbtJ2t4xPsP5BsHZ9g3abtvU5JkiQ1MNTuhhFxDLAVeARwM3A4sAP4CfDoItZXgLu7nqUkSZIkSZIkzbBtO/a2nJckSf2hTA/ONwGPBE7LzMmHC23MzMdTa+D8BPBg4Ne7m6IkSZIkSZIkzbwVyxa1nJckSf2hTAPnqcA1mfn/pq7IzN3AS6g1cL6lS7lJkiRJkiRJ0qxZv2Y5K0eGGVoQrBwZZv2a5dPvJEmSZl3bQ9RS6715ed38fdQaNAHIzP+KiGuB1cDvdyc9SZIkSZIkSZodSxcv5PJXntTrNCRJ0jTKNHDeAzywbn4vcMyUbe4Gjuo0KUmSJEmSJEmSJEl94oKHLgBeCpwHLAF2Ae8CLuOCuw9UDRsRHwR+FbgzM5/c7n5lhqjdQS3hSduB50bEwiKBBcALgN0lYg6snXv2ccZFN3D8G67ijItuYOeefb1OSZIkCSbGYeMquHBxbTox3uuMJPUTzxGSJKnPeJ9Vwut09b9a4+bHgIuAUeARxfQiYFOxvqpLgNPK7lTmB34KeE5EPKCYvxR4FPAfEfGXwPXAk4CPlk2ikYg4MiI2RcQ3IuLrEXFSRAxHxLUR8c1iuqhu+/Mj4taIuCUiTq1b/tSIuLFY956IiG7kt27TdraOT7D/QLJ1fIJ1m7Z3I6wkSVJnNq+FHdfDgf216ea1lUN5o0Gag7p4jug2zzmSJM1P3meV6OvrdKnwUuD5wBFTlh9BrfPjmVUDZ+bngImy+5Vp4PwA8OfAw4of+PfAu4EnA38AnEitcfOtZZNo4t3ANZn5eGA58HXg9cCnMvMEag2urweIiCdSO3hPotbK+96IOKyI8z7gXOCE4lW6FbiRbTv2tpyXJEnqiV1bWs+X4I0GaQ7q4jmi2zznSJI0P3mfVaKvr9Olwnkc2rg56QjgNbOXSk3bDZyZ+c3M/PPMvL1u2WuAo4GTgKMz8zcy8787TSoiHgI8m1qjKpn508z8AbCaWs9RiunpxfvVwEcy8yeZOQ7cCqyMiKOBh2TmDZmZwIfq9unIimWLWs5LkiT1xJITW8+X4I0GaQ7q4jmi2zznSJI0P3mfVaKvr9OlwpIO13ddJ2PiApCZd2Xmlsy8oxsJFR4N3AVsjIgvR8T7I+II4BGTDazF9OHF9sdQe5jppN3FsmM4+Jmgk8sPERHnRsRYRIzddddd0ya4fs1yVo4MM7QgWDkyzPo1y0t+REmSpBmwegMsOxkWDNWmqzdUDuWNBmkO6uI5ots850iSND95n1Wir6/TpcKuDtd3XdQ6NpbcKeJY4CnAkcDdwLbM3N1yp3LxR4EvACdn5paIeDdwD/B7mXlk3XZ7M3NRRGwAbiiGzSUiPgBcBewE3p6Zv1wsfxbwR5n5P1v9/NHR0RwbG+vWx5EkSRpIO/fsY92m7WzbsZcVyxaxfs1yli5e2Ou0JM1RnnMkSZIkqbSYlZ9ywUNfBlxE42FqfwScywV3/2PV8BFxHPDxzHxyu/sMlfwBS4GLqT1IdOq6a4H/k5m3lYnZxG5gd2ZODjS9idrzNu+IiKMz8/Zi+Nk767av7/56LPDdYvmxDZZLkiRpGksXL+TyV57U6zQkzROeczRwJsZh89raM7KWnFjraTE80uusJEmSpJlwGbCGWvtgfSPnj4BPAh+pGjgiLgNOAR4WEbuBN2fmB6bbr+0haiPikcD1wAuAHcCHgb8opuPF8n8vtutIZn4P2BURjysWPQ/4GnAlcFax7Cxgc/H+SuDMiDg8IkaAE4CtxTC2P4yIp0dEAC+v20eSJEmSJKmazWthx/VwYH9tunltrzOSJEmSZsYFdx8AXgycC4wBdxTTc4E1xfpKMvOlmXl0Zj4gM49tp3ETyvXg/BNqz698HfBXmXnf5IqIOAx4DbUGzz8GfrdE3GZ+D/iHiHgg8G3gbGoNspdHxDnUhp99CUBm3hwRl1NrBN0PrK3L71XAJcCDgauLlyRJkiRJUnW7trSelyRJkuaSWiPmPxavnmv7GZwRcRvwjcw8rcU21wCPz8zjupJdj/gMTkmSJEmS1NLGVbWem5OWnQxnX9W7fCRJkjQfzc4zOPtQ20PUAo8EvjTNNl8qtpMkSZrTdu7ZxxkX3cDxb7iKMy66gZ179vU6JUmSNJtWb6g1ai4Yqk1Xb+h1RpIkSdK8UWaI2ruBZdNss7TYTpIkzTM79+xj3abtbNuxlxXLFrF+zXKWLl7Y67RmzLpN29k6PgHA1vEJ1m3azuWvPKnHWUmSpFkzPGKPTUmSJKlHyvTg/HdgTUQ8o9HKiDiR2jMx/70biUmSpMEy2eC3/0D+rMFvLtu2Y2/LeUmSJEmSJEkzo0wD51uL6Wcj4sMR8YqIeGFEnB0RlwKfL9a/rbspSpKkQTDfGvxWLFvUcl6SJEmSJEnSzGi7gTMztwFrqA1B+zLg74CPA+8Hfgu4BzgjM6d7TqckSZqD5luD3/o1y1k5MszQgmDlyDDr1yzvdUqSJFXms6UlSZIkDZLIzHI7RBwBrAZWAA+l1uD5ZeCKzPxR1zPsgdHR0RwbG+t1GpIkDZT59gzOrpgYh81rYdcWWHIirN5Qe56XJEmz7IyLbvjZs6UBVo4M+2xpSZIkqf9FrxPoldINnPOBDZyS1Bs2kGne2bgKdlx///yyk+Hsq3qXjyRp3jr+DVex/8D99weGFgS3vm1VDzOSJEmS1IZ528BZ5hmckiTNqHWbtrN1fIL9B5Kt4xOs27S91ylJM2vXltbzktozMV77g4ELF9emE+O9zkgaOPNtqHlJkiRJg22o2YqIeHnVoJn5oar7SpLmr2079racl+acJSce3INzyYm9y0UaZJvX3v9vacf1tXl7Q0ulrF+z/JCRNCRJkiSpXzVt4AQuAcqOXxvFPjZwSpJKW7Fs0UHPfrLngOa81RsOfQanpPLsDS11bOnihT5zU5IkSdLAaNXAefasZSFJEvYc0Dw0PGIvM6kb7A0tSZIkSdK8EpllO2nOfaOjozk2NtbrNCRJkqT+MTF+aI/j4ZFeZ1XTz7lJkiR1wuscSVJr0esEesUGzgZs4JQkSZKm2Ljq4F6Sy062B7IkSdJM8xpMktTavG3gXNDrBCRJkiQNAJ9zKUmSNPu8BpMkqSEbOCVJkiRNb+pzLX3OpSRJ0szzGkySpIZs4JQkSZI0vdUbakOiLRiqTVdv6HVGkiRJc5/XYJIkNeQzOBvwGZySOrVzzz7WbdrOth17WbFsEevXLGfp4oW9TktVTYzD5rW1oYCWnFj7hXJ4pNdZSZIkSZIkSZrffAanJKl71m3aztbxCfYfSLaOT7Bu0/Zep6RObF4LO66HA/tr081re52RJEmSJEmSJM1bNnBK0gzYtmNvy3kNmF1bWs8Puolx2LgKLlxcm06M9zojSZIkSZIkSWqq7QbOiHh3RDxxJpORdL+de/ZxxkU3cPwbruKMi25g5559vU5JJaxYtqjlvAbMkhNbzw86e6hKkiRJkiRJGiBlenD+HnBjRHwuIl4WEQ+cqaQkOcTpoFu/ZjkrR4YZWhCsHBlm/ZrlvU5JnVi9AZadDAuGatPVG3qdUXfN9R6qkiRJkiRJkuaUoRLbngGcCzwPOBl4d0RcAvxdZt4yA7lJ81qnQ5zu3LOPdZu2s23HXlYsW8T6NctZunhhN1NUC0sXL+TyV57U6zTULcMjcPZVvc5i5iw5sdZzs35ekiRJkiRJkvpU2z04M3NTZr4AeAzwF8BPgdcCX4uI6yLijIh4wAzlKc07nQ5xag9QSW2b6z1UJUmSpDo+EkaSJGnwRWZW2zFiCDid+3t1Anwf2EitV+e3upFgL4yOjubY2Fiv09A812kPzOPfcBX7D9z/73toQXDr21bNRKqSJEmSJA2MMy66ga3jEz+bXzky7Ag8kiRpUEWvE+iVMkPUHiQz9wObgE0RsRL4GHAM8EfAuoi4BnhzZn6pK5lK80ynQ5yuWLbooF/YyvYAlSRJkiRpLur0kTCSJEnqvbaHqG0kIn4pIv4R+Cy1xs27gHcB/w6sAr4QEf+r0yQllbd+zXJWjgwztCBYOTLM+jXLe52SJEmS5pKJcdi4Ci5cXJtOjPc6I0lqS6ePhJEkSVLvlR6iNiKGgbOoDU37WGrdX68H3gf8U2beW2y3Evhn4IeZ+YRuJj3THKJWkiRJkqaxcRXsuP7++WUnw9lX9S4fSWpTp4+EkSRJ6iMOUTudiHgm8ErgxcCDgP8CLgLel5k3Tt0+M7dGxEbgdV3KVZIkSZLUL3ZtaT0vSX2q00fCSJIkqffKDFH7OeBlwLeA3wUelZm/06hxs853ilclEXFYRHw5Ij5ezA9HxLUR8c1iuqhu2/Mj4taIuCUiTq1b/tSIuLFY956ImLet2ZIkSZLUNUtObD0vSZIkSdIMKdPA+VHglzLz5zPzvZn5X9PtkJl/m5kj1dPj1cDX6+ZfD3wqM08APlXMExFPBM4EngScBrw3Ig4r9nkfteF0Tyhep3WQjyRJkiQJYPWG2rC0C4Zq09Ubep2RpH7mc3slSZLURaWfwTlbIuJY4FLgrcBrM/NXI+IW4JTMvD0ijgY+k5mPi4jzATLz7cW+nwAuAG4DPp2Zjy+Wv7TY/5WtfrbP4JQkSZIkSeoin9srSZI0E+btqKVlenDOtncBfwQcqFv2iMy8HaCYPrxYfgywq2673cWyY4r3U5cfIiLOjYixiBi76667uvIBJEmSJEmShM/tlSTNDY5IIPWNobI7RMTTgFOpNRQe3mCTzMxzOkkqIn4VuDMzvxQRp7SzS6M8Wiw/dGHmxcDFUOvB2V6mkiRJkiRJmtaSEw/uwelzeyVJg2jz2vv/P9txfW3eEQmknmi7gTMiArgE+E1qDYdTGxCzbnlHDZzAycCLImIV8CDgIRHx98AdEXF03RC1dxbb7waW1O1/LPDdYvmxDZZLkiRJkiRptqzeULsJvGtLrXHT5/ZKkgaRIxJIfaPMELW/C/wW8GFglFpj5ruAZwBvAH4IfAR4dKdJZeb5mXlsZh4HnAlcl5m/CVwJnFVsdhawuXh/JXBmRBweESPACcDWYhjbH0bE04sG2pfX7SNJkiRJh3LYKQ0C61SDZnik1sPlTXtq0+GRXmckSVJ5U0cgcEQCqWfKNHCeBdySmb+dmduKZT/IzC9k5juA5wAvBp7b7STrvAN4fkR8E3h+MU9m3gxcDnwNuAZYm5n3Ffu8Cng/cCvwLeDqGcxPkiRJM82b+pppk8NOHdh//7BTUr+xTiVJkmbf6g2w7GRYMFSbOiKBZoL3PdoSme09bjIifgh8KDPXFvMHgD/LzDfVbfMxYGlmPm0mkp0to6OjOTY21us0JEmS1MjGVQc/w2vZyT7zRN114eJao9GkBUO1HkdSP7FOJUmSpLmp3H2PaLZirivTgzOAu+vmfwQMT9nmm8DjO01KkiRJaspnnmimOeyUBoF1KkmSJM1N3vdoS5kGzu8Ax9TNfxt46pRtTqDW8ClJkiTNDG/qa6Y57JQGgXUqSZIkzU3e92hLmSFqPww8JTOfXMy/A/hD4ALgn4FTgHcDH8/M02cg11njELWSJEl9bGK89qy5XVtqF/mrN8DwSK+zkiRJkiRJ6ly5+x7zdojaMg2cpwNvB1Zl5nhEDANjwHFAUjuIE8AzM/MbM5LtLLGBU5IkSZIkSZIkSX1u3jZwDrW7YWZeAVxRNz8REU8B/jfwGOA24EOZeXt3U5QOtnPPPtZt2s62HXtZsWwR69csZ+nihb1OS5IkSZIkSZIkSbOgrR6cEbEUeBq1nppfzMxdM51YL9mDs7+dcdENbB2f+Nn8ypFhLn/lST3MSJIkSZIkSZIkadbZg7OZiFgPnMf9Bykj4p2Z+YczmZjUzLYde1vOS5IkSZIkSZIkae5a0GplRPwG8FpqjZvfAG4p3r82Il468+lprti5Zx9nXHQDx7/hKs646AZ27tlXOdaKZYtazkuSJEmSJEmSJGnuatnACZwD7Ad+OTOflJlPBE4FDhTrpLas27SdreMT7D+QbB2fYN2m7ZVjrV+znJUjwwwtCFaODLN+zfIuZippTpgYh42r4MLFtenEeK8zqunXvCRJkiRJkiRpgLR8BmdE3AV8OjPPmLJ8E3BKZj5shvPrCZ/B2X3Hv+Eq9h+4v9aGFgS3vm1VDzOSNKdtXAU7rr9/ftnJcPZVvctnUr/mJUmSJEmSJGkQzdtncE7Xg3MRtWFpp/oGcGTXs9Gc5bCykmbVri2t53ulX/OSJEmSGnEEEkmSJPWp6Ro4FwD3Nlh+L/O4VVjlOayspFm15MTW873Sr3lJkiRJjWxeWxuB5MD+2nTz2l5nJEmSJAEw1MY2zcewldq0dPFCLn/lSb1OQ9J8sXpD7ebLri21RsTVG3qdUU2/5iWpv0yMH3quGB7pdVaSpPnIEUgkSZLUp6Z7BucByjdwZma203Dat3wGpyRJknrG5/VKkvqF/ydJkiT1u3k72up0Q9RC7eCUebUTU5IkSVIj9paRJFUxE8/LXL2h1qi5YKg2dQQSSZIk9YmWPS0z08ZKSZIkaTYtOfHg3jI+r1fquZ179rFu03a27djLimWLWL9mOUsXL+x1WtLBJp+XCfc/L7PT3pbDI/bYlCRJUl+yAVOSJEkzayZ6lMxl9paR+s66TdvZOj7B/gPJ1vEJ1m3a3uuUpEM5AoAkSZLmkYF+VqYkSZIGwEz0KJnL7C0j9Z1tO/a2nJf6giMASJIkaR6xB6ckSZJmlj1KJA24FcsWtZyX+sI8GwFg5559nHHRDRz/hqs446Ib2LlnX69TkiRJ0iyygVOSJEkza2oPEnuUSBow69csZ+XIMEMLgpUjw6xfs7zXKUmHmhwB4E17atPhkV5nNKMcOlqSJGl+c4haSRoQO/fsY92m7WzbsZcVyxaxfs1yli5e2Ou0pP43MV4bEnXXllrD2uoNc/6GX99ZveHQ70CSBsjSxQu5/JUn9ToNSXUcOrpNXgtLkqQ5yh6ckmaVwwhV518oSxVNPv/xwP77n/+o2TXPepRI0nznNb9mg0NHt8lrYUmSNEfZwClpVtlIV51/oSxV5PMfJUmaVV7zazY4dHSbvBaWJElzlEPUan5yiJaesZGuuhXLFrF1fOKgeUltWHJi7a/V6+clSdKM8Zpfs8Gho9vktbAkSZqj7MGp+ckhWnrGYYSq8y+UdZCJcdi4Ci5cXJtOjPc6o/61egMsOxkWDNWmPv9RkqQZ5TW/1Efmw7WwvxtJkjQvRWb2Ooe+Mzo6mmNjY71OQzPpwsW1xs1JC4ZqzwVTQzv37GPdpu1s27GXFcsWsX7NcpYuXtjzWNK8tnHVwX+Jvezk2rMNJUn9w1FDNE95zS9pVvm7kSRpfoteJ9ArNnA2YAPnPODFbylnXHTDQUOjrhwZdiggqdf8Qw1J6n9ec0qSNPP83UiSNL/N2wbOvhyiNiKWRMSnI+LrEXFzRLy6WD4cEddGxDeL6aK6fc6PiFsj4paIOLVu+VMj4sZi3XsiYt5+2aozH4Zo6SKfoSP1oanPzvFZOpLUf3ZtaT0vSZI65+9GkiTNS33ZwAnsB/4gM58APB1YGxFPBF4PfCozTwA+VcxTrDsTeBJwGvDeiDisiPU+4FzghOJ12mx+EPWp4ZHaX8+/aU9t6lBhLfkMnTnC55LMLf6hhiT1P2+4SpI08/zdSJKkeWkghqiNiM3A3xSvUzLz9og4GvhMZj4uIs4HyMy3F9t/ArgAuA34dGY+vlj+0mL/V7b6eQ5RKx3MZ+jMEQ6TJ0nS7PIZnJIkSZrktaGkmTFvRy0d6nUC04mI44CnAFuAR2Tm7QBFI+fDi82OAb5Qt9vuYtm9xfupyyWVsHTxwnnzzM053ZjrMHmSJM2uyVFDJEmSpM1r7//D8x3X1+a9VpSkyvp1iFoAIuLngI8B52XmPa02bbAsWyxv9LPOjYixiBi76667yicraU5Yt2k7W8cn2H8g2To+wbpN23udUvc4TJ4kSZIkSVJv+IfnktRVfdvAGREPoNa4+Q+Z+c/F4juKoWkppncWy3cDS+p2Pxb4brH82AbLD5GZF2fmaGaOHnXUUd37IJIGyrYde1vODzSfSyJJkiRJktQb/uG5JHVVXzZwRkQAHwC+npl/VbfqSuCs4v1ZwOa65WdGxOERMQKcAGwthrP9YUQ8vYj58rp9JOkQK5Ytajk/0CaHyXvTntrU5zxIkiRJkiTNDv/wXJK6KjIbjtjaUxHxTODzwI3AgWLxG6g9h/NyYCmwE3hJZk4U+7wReAWwn9qQtlcXy0eBS4AHA1cDv5fTfOjR0dEcGxvr8qeSNAjm9DM4JUmSJEmSJElzSaNHNc4LfdnA2Ws2cEqSJEmSJEmSJKnPzdsGzr4colaSJEmSJEmSJEk9MDEOG1fBhYtr04nxXmckHcIGTkmSJEmSJEmSJNVsXgs7rocD+2vTzWt7nZF0CBs4JUmSJEmSJEmSVLNrS+t5qQ/YwClJkiRJkiRpdjjsoST1vyUntp6X+oANnJIkSZIkSZJmh8MeSlL/W70Blp0MC4Zq09Ubep2RdIihXicgDbyJ8drF+K4ttb9kWb0Bhkd6nZUkSZIkSVL/cdhDSep/wyNw9lW9zkJqyR6cUqf8y0NJkiRJkqT2OOyhJEnqAhs4pU75l4eSJEmSJEntcdhDSZLUBQ5RK3VqyYm1npv185IkSZIkSTqUwx5KkqQusAen1Cn/8lCSJEmSJEmSJGnW2INT6pR/eShJkiRJkiRJkjRr7MEpSZIkSZIkSZIkaWDYwClJkiRJkiRJkiRpYNjAKUmSJEmSJEmSJGlg2MApSZIkSZIkSZIkaWDYwClJkiRJkiRJkiRpYNjAKUmSJEmSJEmSJGlgDPU6AXXHzj37WLdpO9t27GXFskWsX7OcpYsX9jotSZIkSZIkSZIkqavswTlHrNu0na3jE+w/kGwdn2Ddpu29TkmSJEmSJEmSJEnqOhs454htO/a2nJfmpIlx2LgKLlxcm06M9zqjeWnnnn2ccdENHP+GqzjjohvYuWdfr1OSJEmSJEmSJM1hNnD2WLcaBlYsW9Ryvld5STNq81rYcT0c2F+bbl7b64zmJXuQS5IkSZIkSZJmkw2cPdathoH1a5azcmSYoQXBypFh1q9Z3hd5STNq15bW85oV9iCXpD7niAeSJEmSJGmOGep1AvNdtxoGli5eyOWvPKkbKTXMwwYL9aUlJ9Z6btbPa9atWLaIreMTB81LkvrI5IgHcP+IB2df1ducJEmSJEmSOmAPzh7r9tCy3dKveUkHWb0Blp0MC4Zq09Ubep3RvNTtHuSSpC5zxAOp/9izWpIkSZI6EpnZ6xz6zujoaI6Njc3Kz9q5Zx/rNm1n2469rFi2iPVrlrN08cJZ+dmDmJckSZJK2rjq4BEPlp1sD06p1/x3KUmSJKk7otcJ9IoNnA3MZgOnJEmSNKMmxmvD0u7aUhvOffUGGB7pdVbS/HbhYjiw//75BUPwpj29y0eSJEnSoJq3DZw+g1OSJEmay4ZH7Bkm9RufJS9JkiRJHfEZnJIkSZIkzSafJS9JkiRJHZkXPTgj4jTg3cBhwPsz8x09TkmSJEmSNF/Zs1qSJEmSOjLne3BGxGHABuCFwBOBl0bEE3ublSRJkiRJkiRJkqQq5nwDJ7ASuDUzv52ZPwU+AqzucU6SJEmSJEmSJEmSKpgPDZzHALvq5ncXyw4SEedGxFhEjN11112zlpwkSZIkSZIkSZKk9s2HBs5osCwPWZB5cWaOZuboUUcdNQtpSZIkSZIkSZIkSSprPjRw7gaW1M0fC3y3R7lIkiRJkiRJkiRJ6sB8aOD8InBCRIxExAOBM4Ere5yTJEmSJEmSJEmSpAqGep3ATMvM/RHxu8AngMOAD2bmzT1OS5IkSZIkSZIkSVIFc76BEyAzrwKu6nUekiRJkiRJkiRJkjozH4aolSRJkiRJkiRJkjRH2MApSZIkSZIkSZIkaWBEZvY6h74TEXcBO9rY9GHA97v0Y41lLGP1T6xuxzOWsYw1N2N1O56xjGWsuRmr2/GMZSxjzc1Y3Y5nLGMZa27G6nY8YxnLWHMzVrfjGau/Y30/M0/r0s8bKDZwdiAixjJz1FjGMtbcitXteMYylrHmZqxuxzOWsYw1N2N1O56xjGWsuRmr2/GMZSxjzc1Y3Y5nLGMZa27G6nY8Y82NWHORQ9RKkiRJkiRJkiRJGhg2cEqSJEmSJEmSJEkaGDZwduZiYxnLWHMyVrfjGctYxpqbsbodz1jGMtbcjNXteMYylrHmZqxuxzOWsYw1N2N1O56xjGWsuRmr2/GMNTdizTk+g1OSJEmSJEmSJEnSwLAHpyRJkiRJkiRJkqSBYQOnJEmSJEmSJEmSpIFhA2cFEfHBiLgzIm7qMM6SiPh0RHw9Im6OiFd3EOtBEbE1IrYXsd7SSW5FzMMi4ssR8fEuxLotIm6MiK9ExFiHsY6MiE0R8Y3i2J1UMc7jinwmX/dExHkd5PWa4tjfFBGXRcSDOoj16iLOzWVzalSfETEcEddGxDeL6aIOYr2kyOtARIx2mNdfFt/jVyPiXyLiyA5i/WkR5ysR8cmIeFTVWHXr1kVERsTDOsjrgoj4Tl2dreokr4j4vYi4pfgO/qKDvD5al9NtEfGVdmK1iPeLEfGFyX/jEbGyg1jLI+KG4pzxrxHxkDbiNDyfVqn9FrFK136LWFVrv1m80vXfLFbd+rbrv0Vepeu/VV5l679FXqXrv0Ws0rXfIlaV2m/4/3/F2m8Wq0rtN4tVuvZbxKpS9y2vl0rWfbO8qtR907zK1v00uVWp/WaxqtR+s1ila7/Y76Br1Sp1P028Stc8TWJVOu83iVXpmqdRrLrlpa55muRV6ZqnWV5Var9JXp1c80yNVel6p0msSnVf7HvI71ZV679JrKrX+41iVb3maRSr6vX+IbHq1pW93m+UV9Xr/YZ5Van9JnlVqv0msSrVfpNYVc/5R8aU+wAd1H2jWFXrvlGsqnXfKFbVuj8kVt26Kuf8RrlVrf2GuVWs/UZ5Va39RrGq1n6jWFWu9Rvet6pS+y1iVbnWbxaryrV+s1hVrvVb3ucrU/st8ipd963yKlv3LfKqWvfN4pWu/RaxqtT+a2LKPdYqdT9NvKrn/Uaxqp73G8Wqet4/JFbdurLXO43yqnrOb5hX2dpvkVfV2m8Uq+o5v1Gsqtc7h7QJdFL780Jm+ir5Ap4NrABu6jDO0cCK4v3/AP4TeGLFWAH8XPH+AcAW4Okd5vda4B+Bj3fhmN0GPKxLx/9S4P8r3j8QOLILMQ8Dvgcsq7j/McA48OBi/nLgtyvGejJwE7AQGAL+H3BCif0PqU/gL4DXF+9fD/x5B7GeADwO+Aww2mFeLwCGivd/3mFeD6l7//vA31aNVSxfAnwC2NFu7TbJ6wJgXYU6aBTrOUU9HF7MP7yTz1i3/v8Cb+owt08CLyzerwI+00GsLwK/VLx/BfCnbcRpeD6tUvstYpWu/RaxqtZ+s3il679ZrCr13yKv0vXfIlbp+m/1GcvWf4u8Std+i1hVar/h//8Va79ZrCq13yxW6dpvEatK3Te9XqpQ983yqlL3zWJVPe9Pe11Yovab5Val9pvFKl37xbYHXatWqftp4lW65mkSq9J5v0msStc8jWJVqf0WeZWu/RaxKtV+s89Ytu5b5FXpeqdJrEp1X2x/29Tvqmr9N4lV9Xq/Uayq1zyNYlW93j8kVrG8yvV+o7wq1X6TWFXP+w0/Y936tmu/SV5Vr/Ubxap6zj/kPkAHdd8oVtW6bxSrat03ilW17hveN6lS9y1yq1r7jWJVrf2W94dK1n6jvKrWfqNYlc/7xT4/u29VtfabxKp8vdMgVuXrnQaxKl/vTI3VSe03yKtS3TeJVfl6p9FnrFL3LXKrfM3TIFap2qfJPdaqdd8iXpXfc5vFqvJ7brNYVX7PbXpfumztt8irdO23iFXl/s60997brf0WeVX5HbdZrCr3dxq2CVSt/fnysgdnBZn5OWCiC3Fuz8xtxfsfAl+n9o+iSqzMzP8qZh9QvLJqbhFxLPArwPurxpgJxV87PBv4AEBm/jQzf9CF0M8DvpWZOzqIMQQ8OCKGqJ2IvlsxzhOAL2TmvszcD3wW+LV2d25Sn6upXWBTTE+vGiszv56Zt7SbzzSxPll8RoAvAMd2EOueutkjaLP+W/x7fifwR+3GmSZWaU1ivQp4R2b+pNjmzk7ziogAzgAu6zC3BCb/GumhtFn/TWI9Dvhc8f5a4MVtxGl2Pi1d+81iVan9FrGq1n6zeKXrf5r/g0rVf5f/P2sWq3T9T5dXmfpvEat07beIVaX2m/3/X6X2G8aqWPvNYpWu/RaxqtR9q+ulsnXftWuvFrGqnvdb5lay9pvFqlL7zWKVrv0m16qVrneaxat6zdMkVqXzfpNYla55Wlzfl77m6ebvCk1iVar9VnmVveZpEqvS9U6TWKXrfhqV63+qqrXfJFal2m8Sq1Ltt1C69mdBpdpvpcr1fgOVar+JKuf8ZvcBStd9s1hV6r5FrNJ13yJW6bqf5r5JlXN+1+7DtIhVuvany6tM7beIVbr2W8Tq9Lxff9+q03P+z2J14ZxfH6vTc359rE7P+VPv83Vyzu/GPcNGsTo95x+SV4fn/Pp4nZ7362NVqf1G91g7qftD4nVQ+41iVa39RrGq1n6z+9JVar9b97ibxapa+03zqlD7jWJVrftGsarUfbM2ga5d589FNnD2iYg4DngKtb9krxrjsKIb9p3AtZlZORbwLmonvwMdxKiXwCcj4ksRcW4HcR4N3AVsjNoQT++PiCO6kN+ZdPALX2Z+B1gP7ARuB+7OzE9WDHcT8OyIWBwRC6n9xciSqrkVHpGZtxe53g48vMN4M+EVwNWdBIiIt0bELuBlwJs6iPMi4DuZub2TfOr8btSGl/hgh8MIPBZ4VkRsiYjPRsTTupDbs4A7MvObHcY5D/jL4vivB87vINZNwIuK9y+hZP1POZ92VPvdODe3EatS7U+N10n918fqtP4bfM7K9T8lVkf13+T4V6r/KbHOo4PanxKrUu03+f+/Uu1381qijVht136zWFXqvlGsqnXf4jOWrvsmsSrX/TTHv1TtN4l1HhVqv0msKrX/Lg69Vu3knN8oXlXTxSpz3m8Yq+I5/5BYHZzzG+ZFtXN+o1hVa79ZXlD+nN8o1nlUO+c3itXJ9U6j362q1n+3fk9rJ1aZ2m8Yq2LtHxKrg9pv9hmr1H6jWFVrv9WxL1v7jWKdR7XabxSrSu03uw9Qpe67eU+hnVjt1n3TWBXqvmGsDuq+1ecsW/vNYlWp/emOf5nabxbrPMrXfrNYHf2ey8H3rTq9x9PRPbA2Y1X5PfegWBXP+YfE6qD2G+ZFZ/d46mN1eo+n0bHv5B5Pfbzz6OweT32sUrXf4h5rpbrv5j3bNmO1VfutYpWt/WaxqtT+NJ+xVO23iFW69ts49m3XfotY51Gy7lvEqnLOb9YmMAj39Xsn+6Ab6SC+gOPocIjaulg/B3wJ+PUuxTsS+DTw5Ir7/yrw3uL9KXRniNpHFdOHA9uBZ1eMMwrsB04s5t9NyWE9GsR8IPB9aieLqjEWAdcBR1HrjXAF8JsdxDsH2EbtLz3+Fnhnyf0Pqk/gB1PW760aq275Zyg/XFuzWG8E/gWITmMV684H3lIlFrW/tNkCPLSYv41yQ/dMPfaPoDY0xwLgrcAHO4h1E/AeakP8raQ2BEJbx6zFsX8f8AcVanRqbu8BXly8PwP4fx3Eejy1YSG+BLwZ2FMi1kHn0w5rv+G5uWLtN4tVuvZbxSvWla3/n8XqQv1PPf6d1P/UWJ3Uf7PjX7r+G+TVSe1PjVW59ov9j6T4/7+T2p8aq5PabxGrau0fEqtK3U+J9Qud1H2DY1+57hvEqlz30xz/quf++twq136DWKVqnybXqlXrvlm8KrXfRqy2a3+6WGVqv1EsKp7zWxz/0rXfIlbp2m/j2Ldd9y3yKl33LWJ1cr1zyO9WHdR/09/TytR+G7FKnfdbxSpT+y2OV6XzfpNYlc77TWJVOu9Pc+xLnfOb5FXpnN8kVunap8l9gCp13yxWlbpvI1aZc/609zrarfsmsf6yg7pvdvyrnPebxapy3p/u+Jc57zfLq8p5v1msTs77B923qlL7zWJVqf02YlW5x9P03ly7td8oFp3/jjv12HfyO+7UWJ38jtvs2Fe9zp+aWye/506NVfZav+E91qp13yxeldpvI1aZ8/6095Lbrf0msV5epfZbHP8q5/xmsaqc86c79mXO+c3yqnLObxar0jmfBm0CVWt/vrx6nsCgvuhSA2dR+J8AXtvl/N5M9WfgvB3YXZz4vgfsA/6+i7ld0EFujwRuq5t/FvBvHeazGvhkhzFeAnygbv7lFDcyunC83gb8Tsl9DqpP4Bbg6OL90cAtVWPVLf8MXWjgBM4CbgAWdhqrbt2yMv8+ObiB8+ep9Sq5rXjtp/ZXOI/sQl6lzhsNvsdrgFPq5r8FHNXBsR8C7gCOrVCXU3O7m+JihNoFyj1d+i4fC2xtM84h59Oqtd8oVt26UrXfLFYHtd/y/40y9T81Vif130Zebdd/k++yUv23OP6l679JXpVqv43j1XbtT9nvzcC6qrXfKFbdfKnabxarau03y6tYVuq8PyXWn1St+zbyarvum3yPlc/7LY5/5XP/lNwqn/enOWbT1j5NrlWr1n2zeHXr2679VrHK1v50eZWp/SaxPlal9tvMq63ab/Fdlq79aY59qbpvkVfpum/zeFU65xf7XkD3zvsX0L3z/s9ila396fIqU/tNYnXrvN8or7Zqv8X32PF5f8qx7/ScP5lXN875jY5XW7VPk/sAVeq+Way6+bbrvlWssnU/XV7FsnbP+Y1ifapq3beZW1u13+K7rHLeb3X8y573m+VV5bzfzvEqdd5nyn2rKrXfLFaV2m8Vq2ztT5dXmdpvFIvO7/G0yqutum/xPXZyj6fRse/kHs/U3Dq5x9PqmLVzrd/wHmvVum8Wr26+7dpvFats7U+XV7Gs3fN+o1ifrlL7bebVVu23+C6rnPNbHfuy5/xmeVU557dzvKre33kb8DtVa3++vByitociIqiNyf/1zPyrDmMdFRFHFu8fDPwy8I0qsTLz/Mw8NjOPozakwHWZ+Zsd5HZERPyPyffUHrx8U8XcvgfsiojHFYueB3ytam6Fl9L50Bw7gadHxMLie30etWeqVRIRDy+mS6n1quo0vyup/UdLMd3cYbyuiIjTgNcBL8rMfR3GOqFu9kVUr/8bM/PhmXlc8W9gN7CiqL0qeR1dN/trVKz9whXAc4u4j+X+v4qr6peBb2Tm7g5iTPou8EvF++cClYe8rav/BcAfU/uLpen2aXY+LV37XT43N4xVtfZbxCtd/41iVa3/FnmVrv8Wx/8KStb/NN9lqfpvEat07bc4XlVqv9n//1Vqv2vXEs1iVan9FrGq1H2jWF+uWPfN8qpS982O/RVUOO9P812Wrf1msarUfrNjVqr2W1yrVrre6ea1b7NYVWq/RazStd8k1our1H6LvErXfotjfwUla3+a77FU3beIVbruWxyv0uf8Yvtmv1tVOe937fe0ZrEqnvebxapy3m8U64sVz/vN8qpy3m927K+g/PVOq++x7Dm/Wawq5/xmx6t07be4D1C67rt5T6FZrIrn/GaxqpzzG8XaVvX33Ba5VTnvNzv+V1D+vN/quyx73m8Wq8p5v9nxqnTeL0y9b9XJPZ5u3ANrGKvDezxTY3Vyj+dnsbpwj2dqXp3c45l67K+g+j2eRt9jJ/d4psbr5B7P1GNWtvab3WOtWvfdvGfbMFbF2m8Wq0rtN4r1zxVrv1leVWq/2bG/gvK13+p7LFv7zWJVqftmx6vqtX6jNoG+vK/fN9ptCfV1/4taYd0O3Evt5HBOxTjPpPZMiq8CXyleqyrG+gXgy0Wsm4A3demznkKHQ9RSe/7A9uJ1M/DGDuP9IjBWfNYrgEUdxFoI7KHort9hXm+h9p/OTcCHgcM7iPV5ahfT24Hnldz3kPoEFlP7i81vFtPhDmL9WvH+J9T+OuYTHcS6FdhVV/9/20GsjxXH/qvAvwLHVI01Zf1ttD90T6O8PgzcWOR1JcVf3FSM9UBqvQduojZcwXM7+YzAJcD/qVCfjXJ7JrVhF7ZTGwLjqR3EejXwn8XrHbQ3tEfD82mV2m8Rq3Ttt4hVtfabxStd/81iVan/FnmVrv8WsUrXf6vPSMn6b5FX6dpvEatK7Tf8/59qtd8sVpXabxardO23iFWl7qe9XqL9um+WV5W6bxar6nm/6eesUPvNcqtS+81ila79upincP+Qn5Wud1rEq3TN0yRWpfN+k1iVrnkaxapS+y3yqnTN0yRWpdpv9hnL1n2LvCpd7zSJVanuafK7VZX6bxGrynm/Wawq5/1msaqc96f9XbTd2m+RV5XzfrNYVa53mn7GsrXfIq8q5/xmsarW/i8y5T5AlbpvEavq77mNYlW91m8Uq+rvuYfEqlL30+RW9XfdRrGqXvM0/Jxla79FXlV/z20Uq2rtH3LfqoPabxSrau03ilW19hvFqlr7Le/zlan9JnlVrftGsarWfcPPWKXuW+RWtfYbxarye+4h91ir1n2LeFVrv1GsqrXfKFbV2m95X7pk7TfKq2rtN4pVtfYbfsYqtd8kr6p13yhW1XP+IW0CndT+fHhNdrmVJEmSJEmSJEmSpL7nELWSJEmSJEmSJEmSBoYNnJIkSZIkSZIkSZIGhg2ckiRJkiRJkiRJkgaGDZySJEmSJEmSJEmSBoYNnJIkSZIkSZIkSZIGhg2ckiRJktRDEXFJRGREHFe37Lhi2SVdiH9bRNzWaZy5LiIuKI75Kb3ORZIkSZLUmg2ckiRJktRlRUNZq9dv9zrHZjppXI2IzxT73hcRP99km8kG3V/uOFlJkiRJ0rw01OsEJEmSJGkOe0uT5V+ZZr/vAE8A7u5qNrNnAfCXwGm9TkSSJEmSNPfYwClJkiRJMyQzL6i4373AN7qbzay6FTg1Ip6fmdf2OhlJkiRJ0tziELWSJEmS1GdaDRMbEY+NiI9FxN6I+FFE/EdE/EpE/Har4W8jYmFE/GVE7IyIn0TErRHxuoiIum0uAMaL2bM6GFb3DUACfxkRbf3eWfyMzzRZ1/I5pRHxmIjYFBF7IuKHEfHJiHhysd1REXFxRNweEf8dEV+MiOdMk8tZEfHliPhxRNwZER+MiEc22XY4It4eEV8vtr87Ij4VES9osO3PvqOIOK0Y0vfuiMh2jpEkSZIkqcYenJIkSZI0ICLi8cD1wDDwb8BXgUcD/wJc1WLXBwCfBB4FXA3sB04H3gE8iPuH0v0McCTwamA7cEVdjK+USPXLwN8DvwWcBWwssW9ZxwFbgK8DlxTzvwZ8JiJOAq4B7gE+Su24nQlcHRGPzcydDeK9BnhBsf01wDOBs4FTIuLEzLxrcsOIWEbtmB0HfL7Y/gjgV4FrIuKVmfl3DX7GGmrD914N/G2xvyRJkiSpTTZwSpIkSdIMKXpETnVbZl5SMeQGao10v5OZ76v7OS+kdQPno6g1WD4/M39c7PMW4D+B10TE2zLz3sz8TETcRq2B8ytVh9gtvBF4CfCnEfHRzNzXQaxWfgn448x86+SCiPgT4EJqDZ+XUzteB4p11wIfotaQ+ZoG8V4InJiZX66L907gPGoNwufUbXspsAx4aWZ+pG77I6k1fL4nIq7MzDum/IxVwKrMvKbC55UkSZKkec8haiVJkiRp5ry5weu3qwSKiCXAc6k93/Ki+nWZeTXw/6YJ8fuTjZvFPncCm4GHAo+rklMrmbkLeBdwDPDabsevcxu1hsd6lxbTw4E/nGzcLPwjtR6sv9gk3ofrGzcLFwB3A78REYcDRMRyao2rH6tv3ATIzB9Q+64fBLy4wc/YbOOmJEmSJFVnD05JkiRJmiGZGdNv1bZfLKY3TGmwm/TvwC832ffuzLy1wfJdxXRRh7k183ZqPR7/KCL+rkFPxm74SmbeN2XZd4vpf2bmD+tXZOZ9EXEHcGyTeJ+duiAz746Ir1Br0HwCteF6TypWP7RJT92jiukTGqzb2uRnS5IkSZLaYAOnJEmSJA2GhxbTZo2ErRoPf9Bk+f5ieliVhKaTmfcUQ+H+DbVekK+agR9zd4Ofuz8iGq4r7Kf2XNJGmh3H7xXTye9hcTF9fvFq5udaxJIkSZIkVeAQtZIkSZI0GO4ppo9osr7Z8l67iNqzPv93RDTqzTgpaf5HuEd2O6kWmh3HRxbTu6dMX52Z0eJ1doNY2dWMJUmSJGmesYFTkiRJkgbD5HMhT4qIRr/LPbNLP2dyuNeu9OrMzP3A64p4f9Fi073AkqkLI+Iwmj8vcyb8UoMcHlrk8N/A14vFXyimz5qdtCRJkiRJk2zglCRJkqQBkJm7gM8AxwOvrF8XEafR/PmbZe2l1sNwaZfikZlXAJ8HfhU4uclmW4GlEfGCKcv/GFjWrVza8FsR8ZQpyy6gNjTtZZn5E4DMHKP2mX49Il7RKFBE/HxEPHwmk5UkSZKk+chncEqSJEnS4FgLXA+8NyJWAV8FHg28GNgMrAYOdPIDMvO/ImIL8KyI+Adqw8veB1yZmV/tIPQ6ar0ej2+yfj1wKrA5Ij4KTADPAEaoNeye0sHPLuNq4PqIuBy4nVrP2GcCtwGvn7LtbwDXAR+IiN8HtlB73umxwC8ATwZOAu6cjcQlSZIkab6wB6ckSZIkDYjM/Bq1BrN/oTY06nnAccCvAf9ebHZPo31L+i3g34DTgDcDfwqs6CRgZm4FPtpi/aeA04GbgTOBs6g1Kq4EdnTys0t6J/A71IakPQ94PHAJ8IzMPKihMjN3A08F3kitEfhlwO9Ta5jdSa2n7Y2zk7YkSZIkzR+Rmb3OQZIkSZLUoaK35W8Aj8/MW3qdjyRJkiRJM8UenJIkSZI0ICJiQUQ8ssHy5wH/C/iajZuSJEmSpLnOZ3BKkiRJ0uB4ILArIj4NfAPYDzwJeD7wU2rP6JQkSZIkaU5ziFpJkiRJGhARcRjwLuC5wLHAQuD7wOeAd2Tml3uXnSRJkiRJs8MGTkmSJEmSJEmSJEkDw2dwSpIkSZIkSZIkSRoYNnBKkiRJkiRJkiRJGhg2cEqSJEmSJEmSJEkaGDZwSpIkSZIkSZIkSRoYNnBKkiRJkiRJkiRJGhj/Pw5gmozoQ8YNAAAAAElFTkSuQmCC\n",
      "text/plain": [
       "<Figure size 1842.38x360 with 1 Axes>"
      ]
     },
     "metadata": {
      "needs_background": "light"
     },
     "output_type": "display_data"
    }
   ],
   "source": [
    "sns.catplot(y=\"PayloadMass\", x=\"FlightNumber\", hue=\"Class\", data=df, aspect = 5)\n",
    "plt.xlabel(\"Flight Number\",fontsize=20)\n",
    "plt.ylabel(\"Pay load Mass (kg)\",fontsize=20)\n",
    "plt.show()"
   ]
  },
  {
   "cell_type": "markdown",
   "metadata": {},
   "source": [
    "We see that different launch sites have different success rates.  <code>CCAFS LC-40</code>, has a success rate of 60 %, while  <code>KSC LC-39A</code> and <code>VAFB SLC 4E</code> has a success rate of 77%.\n"
   ]
  },
  {
   "cell_type": "markdown",
   "metadata": {},
   "source": [
    "Next, let's drill down to each site visualize its detailed launch records.\n"
   ]
  },
  {
   "cell_type": "markdown",
   "metadata": {},
   "source": [
    "### TASK 1: Visualize the relationship between Flight Number and Launch Site\n"
   ]
  },
  {
   "cell_type": "markdown",
   "metadata": {},
   "source": [
    "Use the function <code>catplot</code> to plot <code>FlightNumber</code> vs <code>LaunchSite</code>, set the  parameter <code>x</code>  parameter to <code>FlightNumber</code>,set the  <code>y</code> to <code>Launch Site</code> and set the parameter <code>hue</code> to <code>'class'</code>\n"
   ]
  },
  {
   "cell_type": "code",
   "execution_count": 5,
   "metadata": {},
   "outputs": [
    {
     "data": {
      "image/png": "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\n",
      "text/plain": [
       "<Figure size 1842.38x360 with 1 Axes>"
      ]
     },
     "metadata": {
      "needs_background": "light"
     },
     "output_type": "display_data"
    }
   ],
   "source": [
    "# Plot a scatter point chart with x axis to be Flight Number and y axis to be the launch site, and hue to be the class value\n",
    "sns.catplot(y=\"LaunchSite\", x=\"FlightNumber\", hue=\"Class\", data=df, aspect = 5)\n",
    "plt.xlabel(\"FlightNumber\",fontsize=20)\n",
    "plt.ylabel(\"Launch Site\",fontsize=20)\n",
    "plt.show()"
   ]
  },
  {
   "cell_type": "markdown",
   "metadata": {},
   "source": [
    "Now try to explain the patterns you found in the Flight Number vs. Launch Site scatter point plots.\n",
    "From the graph it can be visualized that more flights launched from site 'CCAFSC SLC 40' "
   ]
  },
  {
   "cell_type": "markdown",
   "metadata": {},
   "source": [
    "### TASK 2: Visualize the relationship between Payload and Launch Site\n"
   ]
  },
  {
   "cell_type": "markdown",
   "metadata": {},
   "source": [
    "We also want to observe if there is any relationship between launch sites and their payload mass.\n"
   ]
  },
  {
   "cell_type": "code",
   "execution_count": 6,
   "metadata": {},
   "outputs": [
    {
     "data": {
      "image/png": "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\n",
      "text/plain": [
       "<Figure size 1842.38x360 with 1 Axes>"
      ]
     },
     "metadata": {
      "needs_background": "light"
     },
     "output_type": "display_data"
    }
   ],
   "source": [
    "# Plot a scatter point chart with x axis to be Pay Load Mass (kg) and y axis to be the launch site, and hue to be the class value\n",
    "sns.catplot(y=\"LaunchSite\", x=\"PayloadMass\", hue=\"Class\", data=df, aspect = 5)\n",
    "plt.xlabel(\"Pay load Mass kg\",fontsize=20)\n",
    "plt.ylabel(\"Launch Site\",fontsize=20)\n",
    "plt.show()"
   ]
  },
  {
   "cell_type": "markdown",
   "metadata": {},
   "source": [
    "Now if you observe Payload Vs. Launch Site scatter point chart you will find for the VAFB-SLC  launchsite there are no  rockets  launched for  heavypayload mass(greater than 10000).\n"
   ]
  },
  {
   "cell_type": "markdown",
   "metadata": {},
   "source": [
    "### TASK  3: Visualize the relationship between success rate of each orbit type\n"
   ]
  },
  {
   "cell_type": "markdown",
   "metadata": {},
   "source": [
    "Next, we want to visually check if there are any relationship between success rate and orbit type.\n"
   ]
  },
  {
   "cell_type": "markdown",
   "metadata": {},
   "source": [
    "Let's create a `bar chart` for the sucess rate of each orbit\n"
   ]
  },
  {
   "cell_type": "code",
   "execution_count": 7,
   "metadata": {},
   "outputs": [
    {
     "data": {
      "image/png": "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\n",
      "text/plain": [
       "<Figure size 720x432 with 1 Axes>"
      ]
     },
     "metadata": {
      "needs_background": "light"
     },
     "output_type": "display_data"
    }
   ],
   "source": [
    "# HINT use groupby method on Orbit column and get the mean of Class column\n",
    "df_class = df.groupby('Orbit')['Class'].mean()\n",
    "df_class.plot(kind='bar', figsize=(10, 6))\n",
    "plt.xlabel('Orbit')\n",
    "plt.ylabel('success rate')\n",
    "plt.title('sucess rate of each orbit')\n",
    "plt.show()"
   ]
  },
  {
   "cell_type": "markdown",
   "metadata": {},
   "source": [
    "Analyze the ploted bar chart try to find which orbits have high sucess rate.\n",
    "ES-L1, GEO, HEO, SSO have high success rate"
   ]
  },
  {
   "cell_type": "markdown",
   "metadata": {},
   "source": [
    "### TASK  4: Visualize the relationship between FlightNumber and Orbit type\n"
   ]
  },
  {
   "cell_type": "markdown",
   "metadata": {},
   "source": [
    "For each orbit, we want to see if there is any relationship between FlightNumber and Orbit type.\n"
   ]
  },
  {
   "cell_type": "code",
   "execution_count": 8,
   "metadata": {},
   "outputs": [
    {
     "data": {
      "image/png": "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\n",
      "text/plain": [
       "<Figure size 1842.38x360 with 1 Axes>"
      ]
     },
     "metadata": {
      "needs_background": "light"
     },
     "output_type": "display_data"
    }
   ],
   "source": [
    "# Plot a scatter point chart with x axis to be FlightNumber and y axis to be the Orbit, and hue to be the class value\n",
    "sns.catplot(y=\"Orbit\", x=\"FlightNumber\", hue=\"Class\", data=df, aspect = 5)\n",
    "plt.xlabel(\"Flight Number\",fontsize=20)\n",
    "plt.ylabel(\"Orbit\",fontsize=20)\n",
    "plt.show()"
   ]
  },
  {
   "cell_type": "markdown",
   "metadata": {},
   "source": [
    "You should see that in the LEO orbit the Success appears related to the number of flights; on the other hand, there seems to be no relationship between flight number when in GTO orbit.\n"
   ]
  },
  {
   "cell_type": "markdown",
   "metadata": {},
   "source": [
    "### TASK  5: Visualize the relationship between Payload and Orbit type\n"
   ]
  },
  {
   "cell_type": "markdown",
   "metadata": {},
   "source": [
    "Similarly, we can plot the Payload vs. Orbit scatter point charts to reveal the relationship between Payload and Orbit type\n"
   ]
  },
  {
   "cell_type": "code",
   "execution_count": 9,
   "metadata": {},
   "outputs": [
    {
     "data": {
      "image/png": "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\n",
      "text/plain": [
       "<Figure size 1842.38x360 with 1 Axes>"
      ]
     },
     "metadata": {
      "needs_background": "light"
     },
     "output_type": "display_data"
    }
   ],
   "source": [
    "# Plot a scatter point chart with x axis to be Payload and y axis to be the Orbit, and hue to be the class value\n",
    "sns.catplot(y=\"Orbit\", x=\"PayloadMass\", hue=\"Class\", data=df, aspect = 5)\n",
    "plt.xlabel(\"Pay load Mass kg\",fontsize=20)\n",
    "plt.ylabel(\"Orbit\",fontsize=20)\n",
    "plt.show()"
   ]
  },
  {
   "cell_type": "markdown",
   "metadata": {},
   "source": [
    "With heavy payloads the successful landing or positive landing rate are more for Polar,LEO and ISS.\n",
    "\n",
    "However for GTO we cannot distinguish this well as both positive landing rate and negative landing(unsuccessful mission) are both there here.\n"
   ]
  },
  {
   "cell_type": "markdown",
   "metadata": {},
   "source": [
    "### TASK  6: Visualize the launch success yearly trend\n"
   ]
  },
  {
   "cell_type": "markdown",
   "metadata": {},
   "source": [
    "You can plot a line chart with x axis to be <code>Year</code> and y axis to be average success rate, to get the average launch success trend.\n"
   ]
  },
  {
   "cell_type": "markdown",
   "metadata": {},
   "source": [
    "The function will help you get the year from the date:\n"
   ]
  },
  {
   "cell_type": "code",
   "execution_count": 10,
   "metadata": {},
   "outputs": [],
   "source": [
    "# A function to Extract years from the date \n",
    "year=[]\n",
    "def Extract_year(date):\n",
    "    for i in df[\"Date\"]:\n",
    "        year.append(i.split(\"-\")[0])\n",
    "    return year\n",
    "year= Extract_year(df)"
   ]
  },
  {
   "cell_type": "code",
   "execution_count": 11,
   "metadata": {},
   "outputs": [
    {
     "ename": "NameError",
     "evalue": "name 'plot' is not defined",
     "output_type": "error",
     "traceback": [
      "\u001b[0;31m---------------------------------------------------------------------------\u001b[0m",
      "\u001b[0;31mNameError\u001b[0m                                 Traceback (most recent call last)",
      "\u001b[0;32m/tmp/ipykernel_361/1126023694.py\u001b[0m in \u001b[0;36m<module>\u001b[0;34m\u001b[0m\n\u001b[1;32m      7\u001b[0m \u001b[0mnew_Class\u001b[0m \u001b[0;34m=\u001b[0m \u001b[0mnew_CY\u001b[0m\u001b[0;34m.\u001b[0m\u001b[0mgroupby\u001b[0m\u001b[0;34m(\u001b[0m\u001b[0;36m0\u001b[0m\u001b[0;34m)\u001b[0m\u001b[0;34m[\u001b[0m\u001b[0;34m'Class'\u001b[0m\u001b[0;34m]\u001b[0m\u001b[0;34m.\u001b[0m\u001b[0mmean\u001b[0m\u001b[0;34m(\u001b[0m\u001b[0;34m)\u001b[0m\u001b[0;34m\u001b[0m\u001b[0;34m\u001b[0m\u001b[0m\n\u001b[1;32m      8\u001b[0m \u001b[0mnew_Class\u001b[0m\u001b[0;34m.\u001b[0m\u001b[0mplot\u001b[0m\u001b[0;34m.\u001b[0m\u001b[0mline\u001b[0m\u001b[0;34m(\u001b[0m\u001b[0mtitle\u001b[0m\u001b[0;34m=\u001b[0m\u001b[0;34m\"Yearly Success Rate\"\u001b[0m\u001b[0;34m)\u001b[0m\u001b[0;34m\u001b[0m\u001b[0;34m\u001b[0m\u001b[0m\n\u001b[0;32m----> 9\u001b[0;31m \u001b[0mplot\u001b[0m\u001b[0;34m.\u001b[0m\u001b[0mshow\u001b[0m\u001b[0;34m(\u001b[0m\u001b[0mblock\u001b[0m\u001b[0;34m=\u001b[0m\u001b[0;32mTrue\u001b[0m\u001b[0;34m)\u001b[0m\u001b[0;34m\u001b[0m\u001b[0;34m\u001b[0m\u001b[0m\n\u001b[0m",
      "\u001b[0;31mNameError\u001b[0m: name 'plot' is not defined"
     ]
    },
    {
     "data": {
      "image/png": "iVBORw0KGgoAAAANSUhEUgAAAXQAAAEWCAYAAAB2X2wCAAAAOXRFWHRTb2Z0d2FyZQBNYXRwbG90bGliIHZlcnNpb24zLjUuMiwgaHR0cHM6Ly9tYXRwbG90bGliLm9yZy8qNh9FAAAACXBIWXMAAAsTAAALEwEAmpwYAAAocElEQVR4nO3deXxU9b3/8deHJIQl7IQtAQKyo+yLrQhuCFqtS9EibW21Fb0/tVYR9d5fbXt/3t5brSsuBdztIm5cSxUFXFhUUPadQBKWhDUkrEkgJPn+/piDxhjIhExyZnk/H495MHPOmTOf+RrfOfnOmc8x5xwiIhL56vldgIiIhIYCXUQkSijQRUSihAJdRCRKKNBFRKKEAl1EJEoo0CWsmNkFZpbjdx0ikUiBLkExs7+b2UsVlo0yszwza+9XXeWZ2Qgz+8LMDplZvpl9bmZD/a7rTJnZfDM7ZmZHzWy/mc0Mdqz1izE2KdAlWL8GLjez0QBm1gB4HpjknNsdihcws/gaPLcp8B7wNNASSAH+Ezgeitp8dIdzLgnoBiQBj/pcj4QxBboExTmXB9wJTDezxsDvgUzn3Ctmdq53ZHzQzFab2QUnn2dmN5nZRjM7YmZZZnZruXUXmFmOmd1vZnuAl8u/pplNNrN3Kix72syerKTEHl6drzvnSp1zRc65uc65Nd7z/mBmfyu3nzQzcyd/iZhZSzN72cx2mdkBM3u33LZXmdkqMztsZplmNtZb3szMXjSz3Wa208z+y8zivHXdzGyB99fCfjN7w1tuZvaEme3z1q0xs7ODGP+DwLvAgKrG1vvv8wHQwTu6P2pmHcysnpk94L2HPDN708xaVvXaEkGcc7rpFvQNeBuYBeQBnQgcCecBlxM4QBjtPU72tv8BcBZgwCigEBjkrbsAKAEeBhKBht6yHG99e6AAaO49jgf2AYMrqaup97qvApcBLSqs/wPwt3KP0wAHxHuP3wfeAFoACcAob/kw4JD3vup577eXt+5dYBrQGGgDfAXc6q17Hfi/3nMaACO85WOA5UBzb0x6A+1PMdbzgV9591sBHwH/LLe+qrHNqbC/3wBLgFRvvKcBr/v9M6VbCP//9LsA3SLrBrQFjgJ3eY/vB/5aYZs5wM9P8fx3yz33AqAYaFBu/beCiMCR5i3e/SuADaeprTfwCpDj/aKYBbT11p0y0An84iir+EvA224a8MQpxuE40LDcshuAT737rwHTgdQKz7sI2AycC9SrYqzneyF9yKt1FdDpNNtXHNuKgb4RuLjc4/bACbxfarpF/k1TLlItzrm9wH5gvbeoM3CdN91y0MwOAiMIhAVmdpmZLfE+pDxI4Ei+dbld5jrnjp3mJV8Ffurd/ynw19PUttE59wvnXCpwNtABeDKIt9URyHfOHTjFusxKlncmcCS/u9z7nkbgSB3gPgJHzl+Z2Xozu9mr8RPgGeBZYK+ZTffm/0/l1865ZkA/An89pJ5cEcTYVlbz/5ardyNQSuCXk0QBBbrUVDaBI/Tm5W6NnXN/MrNE4B0CH+S1dc41B2YTCLqTqmr3+S7Qz5tnvgL4ezBFOec2EThaPzk/XQA0KrdJuwrvoaWZNa9kV9kEpjUqW34caF3ufTd1zvX1Xn+Pc+4W51wH4FbgOTPr5q2b4pwbDPQlMPc/OYj3sxb4L+BZbx6+qrGtbFyzgcsq/Ldq4JzbWdXrS2RQoEtN/Q240szGmFmcmTXwPuxMBeoTmKvNBUrM7DLg0urs3Dt6fxv4B/CVc25HZduZWS8zm+S9LmbWkcAUyBJvk1XASDPrZGbNgH8v9xq7CUztPGdmLcwswcxGeqtfBG4ys4u9DxVTzKyX95y5wGNm1tRbd5aZjfJe/7qTtQAHCARsqZkNNbPhZpZA4JfMMQJHycF4lcBfAD+k6rHdC7Ty3utJU4E/mllnr8ZkM7sqyNeWCKBAlxpxzmUDVwH/QSBcsgkccdZzzh0hcLrjmwRCbQKBee3qehU4h9NMtwBHgOHAl2ZWQCDI1wGTvDrnEfjQcw2BDyXfq/D8nxGYT95E4IPX33jP+wq4CXiCwFz2AgJTFwA3EgjWDd77extvqgkY6tVylMB7vss5t5XAh7fPe9tvJ/BBblCnIjrnioEpwINVja33F8rrQJY3xdIBeMrbZq6ZHfHGaHgwry2RwZzTBS4kvJlZJwJB2845d9jvekTClY7QJayZWT3gHmCGwlzk9M74m3kitc37gsxeAlMTY30uRyTsacpFRCRKaMpFRCRK+Dbl0rp1a5eWlubXy4uIRKTly5fvd84lV7bOt0BPS0tj2bJlfr28iEhEMrPtp1qnKRcRkSihQBcRiRIKdBGRKKFAFxGJEgp0EZEooUAXEYkSCnQRkSihQBeRmPBF5n7+uWonRcXBtp+PPGrOJSJRL+/ocW55dRkFxaUkJcZzRb/2jBucyuDOLTCzqncQIRToIhL1nv00k6ITpTzx4/58npHHrNW7mLE0my6tGzNucCrXDEyhQ/OGfpdZY751WxwyZIjTV/9FpLblHCjkokcXcM3AFB4e1w+AguMlfLBuD28ty+bLrfmYwYhurRk3OJUxfdvRICHO56pPzcyWO+eGVLZOR+giEtWemLcFDO66pPvXyxonxjNucCrjBqeyI6+Qd1bk8PbyHO6asYomifFc0b8D4wanMqhT84iaklGgi0jUSt9zhJkrc7jl/K6nnFLp1KoRd4/uwV0Xd2fJ1jzeXp7Duyt38vpXO+iaHJiSuXZgKu2aNajj6qtPUy4iErV+9eoyvszKY+F9F9Kicf2gn3f0eAmz1+zm7eU5fLUtn3oGI7onc93gVEb3aevrlIymXEQk5izfns9HG/cyeUzPaoU5QFJiPNcP7cj1QzuybX8BM1fk8M6Kndz5+kqaNojnSm9KZkDH8JqS0RG6iEQd5xw/nraErXkFLJh8AY3q1/zYtazMsTgrMCXzwbrdHDtRRrc2SV+fJdO2ad1MyZzuCF2BLiJR59NN+7jplaU8dPXZ/OzcziHf/5FjJ3jfm5JZtv0A9QxG9khm3OBULuldu1MyCnQRiRllZY7Lpyyi6EQpH90zioS42v1CfFbuUd5ZkcPMFTvZfegYzRom8ENvSqZfarOQT8loDl1EYsas1bvYtOcIT40fUOthDtA1OYnJY3pxz+iefJG5n7eX5/Dmsmz+umQ7PdoGpmSuHphCmya1PyWjI3QRiRrFJWVc/Ph8miQm8N6dI6hXz58PLA8VnZySyWbFjoPE1TNGeVMyF/duQ2L8mU/J6AhdRGLC61/tIDu/iFduOtu3MAdo1jCBCcM7MWF4JzJzj/L28hxmrsjhk037aN4ogbsv6cHPv58W8tdVoItIVCg4XsLTn2zh3K4tGdUj2e9yvnZWchL3j+3FvZf25LOMwJRMs4YJtfJaCnSRKPXJpr28/Pk2nho/kJbVPA87Er342Vb2Hy1m+o29wurc8JNOTrvU5i8b9UMXiULZ+YXcNWMVi7bs57fvrsWvz8rqSn5BMdMXZjGmb1sGdWrhdzm+UaCLRJnikjLueH0lOLjxe52ZvXYP767a6XdZterZTzMoLC5h8piefpfiK025iESZR+emszr7IM9OGMTYs9uxYddhfvfueoZ1aUVKFPT8rmjnwSL+ung74wan0q1NE7/L8ZWO0EWiyKfp+5i+MIufDO/ED/q1J66e8dj1/Sl1jnvfXE1ZWfRNvTwxb7PXHreH36X4LqhAN7OxZpZuZhlm9kAl65uZ2b/MbLWZrTezm0Jfqoiczp5Dx5j05mp6tWvCg1f0+Xp551aN+d0VfViclcfLX2zzr8BasHnvEWauyOHGcztH5V8f1VVloJtZHPAscBnQB7jBzPpU2Ox2YINzrj9wAfCYmUX/x+oiYaK0zPGbN1ZSVFzKMxMGfaeXyI+HduSS3m14+MNNbN57xKcqQ+/Pc9JpXD+e2y/s5ncpYSGYI/RhQIZzLss5VwzMAK6qsI0DmljgXKEkIB8oCWmlInJKT3+yhSVZ+Tx09dl0a5P0nfVmxv9c24+kxHjufmMVxSVlPlQZWsu3H2Dehr1MHNm12u1xo1UwgZ4CZJd7nOMtK+8ZoDewC1gL3OWc+85PjJlNNLNlZrYsNzf3DEsWkfIWZ+Yx5eMtXDswhXGDU0+5XXKTRP7n2nNYv+swUz7eUocVhp5zjoc/3ETrpERuHtHF73LCRjCBXtkZ+hU/WRkDrAI6AAOAZ8ys6Xee5Nx059wQ59yQ5OTw+SaXSKTKO3qcu2asJK1VYx66+uwqtx/Ttx3jBqfy3PwMlm/Pr4MKa8f8zbl8tTWfX1/cjcaJOlnvpGACPQfoWO5xKoEj8fJuAma6gAxgK9ArNCWKSGXKyhyT3lrNwaITPD1hYNDB9vsr+9C+WUPueXM1Bccjb2a0rMzxyIfpdGrZiPFDO/ldTlgJJtCXAt3NrIv3Qed4YFaFbXYAFwOYWVugJ5AVykJF5Nte+CyL+em5/PYHvenboVnQz2vSIIHHr+/PjvxC/jh7Yy1WWDv+tWYXG3cfZtKlPagfrzOvy6tyNJxzJcAdwBxgI/Cmc269md1mZrd5mz0EfN/M1gIfA/c75/bXVtEisW7ljgM88mE6Y/u2O6Mr8gzv2opbzu/KP77cwSeb9tZChbWjuKSMx+Zupnf7plzZr4Pf5YSdoP5Gc87NBmZXWDa13P1dwKWhLU1EKnOo6AR3vr6Stk0b8PC4fmfciGrSpT1YuDmX+95ey9y7W0REA68ZS3ewI7+Ql28a6mt73HClv1dEIohzjgfeWcOeQ8d4esLAGrVhTYyP4/HrB3CoqJj/mBn+DbwKjpcw5eMMhnVpyQVh1B43nCjQRSLI377cwQfr9nDvmJ4h6SrYp0NT7hndkw/X72HmivBu4PXy51vZf/Q4948Nz/a44UCBLhIhNuw6zEPvbWBUj2Qmnt81ZPudOLIrQ9Na8IdZ68k5UBiy/YbSgYJipi3IYnSftgzuHLvtcauiQBeJAAXHS7jj9RU0bxg4QyWU88dx9YzHrx9AmXPc+1Z4NvB6bn4GBWqPWyUFukgE+N0/17N1fwFPjh9Aq6TEkO+/Y8tG/P7KvizJyuelz7eGfP81sfNgEa8u3s61g1Lp0Ta22+NWRYEuEubeWZ7DOytyuPOi7nz/rNa19jrXDUnlkt5teWROOul7wqeB11MfbQYHd49We9yqKNBFwlhm7lEe/Oc6hndpyV0Xd6/V1zIz/vSjc2iSGM9vwqSB15a9R3h7eQ4/+57a4wZDgS4Spo6dKOX2v6+gQUIcT40fSFwdnHfdOinQwGvj7sM8+dHmWn+9qjw6N51Gao8bNAW6SJj64/sb2bTnCI9d1592zRrU2ete2rcd1w9JZeqCTJZt86+B18odB5izPtAeNxK+9BQOFOgiYeiDtbv565Lt3HJ+Fy7s1abOX//BK/rQoXmggddRHxp4fdMetz6/VHvcoCnQRcJMdn4h972zhv4dmzN5jD9NSwMNvAaQfaCQP76/oc5ff+GW/SzJyufOi7qrPW41KNBFwsiJ0jLufH0lAM/cMNDXboLDurRk4siuvP5VNh9vrLsGXmVljoc/2ETHlg25YZja41aHAl0kjDw6J51V2Qd5+Ef96Niykd/lcM/oHvRq14T731lD3tHjdfKa763dzYbdh5k0uqfa41aTRkskTHyavo9pC7P4yfBOXH5Oe7/LAQINvJ4cP4DDRSX8ex008Aq0x02nV7sm/LC/2uNWlwJdJAzsPXyMSW+uple7Jjx4RR+/y/mWXu2aMunSHszdsJe3l+fU6mu9sSyb7XmF3De2p9rjngEFuojPSsscd81YSVFxKc9MGESDhDi/S/qOX53flWFdWvKf/9pAdn7tNPAqLC5hysdbGJbWkgt71v2ZPdFAgS7is6c/2cKSrHweuvpsurVJ8rucSsXVMx67rj8Ak95aTWktNPB6+fNt5B45zv2X9VR73DOkQBfx0ZKsPKZ8vIVrB6YwbnCq3+WcVseWjfjdlX34ams+L34W2ksGHygoZur8TC7p3ZbBnVuGdN+xRIEu4pO8o8e5a8ZK0lo15qGrz/a7nKBcNziVS/u05dE5m9m053DI9vuXBZkcVXvcGlOgi/igrMwx6a3VHCg8wdMTBkbMl2fMjP+59hyaNozn7jdWc7yktMb73H2oiFe+2Ma1A1Pp2U7tcWtCgS7igxc+y2J+ei4P/qA3fTs087ucammVlMifru3Hxt2HeWLelhrv78l5W7z2uLXbTTIWKNBF6tjKHQd45MN0Lju7HT89t7Pf5ZyRS/q0ZfzQjkxbmMnSGjTwyth3lLeWZ/PTczuT2sL/L1JFOgW6SB06VHSCO19fSdumDfjTj/pF9Nkcv72iD6ktGnLPm6vOuIHXo3PSaZgQx+0XnhXi6mKTAl2kjjjn+PeZa9hz6BhPTxhIs4YJfpdUI0mJ8Txx/QB2HijioX9Vv4HXquyDfLh+D7eM7Forl9WLRQp0kTry9y93MHvtHiaP6cmgTtFx5fohaS25ddRZvLEsm3kbgm/g5VygAVerxvX51flda7HC2KJAF6kDG3cf5v+9t4ELeiZzS5QF2N2X9KB3+6Y88M4a9gfZwGvRlv0szsrjjou6kRQhZ/hEAgW6SC0rOF7C7f9YQfOGCTx2Xf+o61FSP74eT/54AEeOBdfAq6zM8cicTaS2aMiE4WqPG0oKdJFa9rt/rmfr/gKeHD8gaueKe7ZrwuQxPZm3YS9vVdHA6/21u1m38zD3jO5BYnz49a2JZAp0kVo0c0UO76zI4c6LuvP9s1r7XU6t+uWILgzv0pL/nLX+lA28TpR+0x73qgEpdVxh9FOgi9SSzNyj/PbddQzv0pK7Lo7+L83Uq2c8dn1/zIxJb1bewOuNpdlsyytk8piexEXZ1FM4UKCL1IJjJ0q54x8raZAQx1PjB8ZMeKW2aMQfftiXr7bl88KibzfwKiou5amPtzCkcwsu8uHC17FAgS5SC/74/kY27j7MY9f1p12zBn6XU6d+NCiFsX3b8djczWzc/U0Dr5e/2Oq1x+0V0V+oCmcKdJEQ+zxjP39dsp1bzu/ChTF4JGpm/Pe159C0YQJ3v7GK4yWlHCws5i/zM7m4VxuGpqk9bm3RCaAiIeSc45EPN5HSvCH3xnAr2JaN6/PIuHO4+ZVlPD5vMwBHj5cweWzsjkldUKCLhNCc9XtYnXOIP4/rF/On5F3Uqy03DOvE9IVZJNSrxzUDUujVrqnfZUW1oKZczGysmaWbWYaZPXCKbS4ws1Vmtt7MFoS2TJHwV1JaxqNzN9OtTRLXDgrvqw/Vld/+oDedWjbC4bh7dA+/y4l6VR6hm1kc8CwwGsgBlprZLOfchnLbNAeeA8Y653aYWexNHErMm7lyJxn7jjL1p4Ni5qyWqjROjOcft5zLnkNFdGyp9ri1LZgpl2FAhnMuC8DMZgBXAeXbq00AZjrndgA45/aFulCRcHa8pJSnPtpC/9RmjOnbzu9ywkpK84akNG/odxkxIZgplxQgu9zjHG9ZeT2AFmY238yWm9mNle3IzCaa2TIzW5abm3tmFYuEob8v2cHOg0VMHqNT8sQ/wQR6ZT+dFb8CFg8MBn4AjAEeNLPvTJg556Y754Y454YkJydXu1iRcHT0eAnPfprBed1aMaJ7dH+9X8JbMFMuOUDHco9TgV2VbLPfOVcAFJjZQqA/sDkkVYqEsZc+20peQTGTx/TyuxSJccEcoS8FuptZFzOrD4wHZlXY5p/A+WYWb2aNgOHAxtCWKhJ+DhQU8/zCLMb0bcuAjs39LkdiXJVH6M65EjO7A5gDxAEvOefWm9lt3vqpzrmNZvYhsAYoA15wzq2rzcJFwsFfFmRSUFzCvZfqCzPiv6C+WOScmw3MrrBsaoXHfwb+HLrSRMLb7kNFvPLFNq4ZmEr3tk38LkdEvVxEztSUj7fgnOM3l0R/a1yJDAp0kTOQlXuUN5fl8JPhnfWFGQkbCnSRM/D4vM0kxtfj9gu7+V2KyNcU6CLVtG7nId5bs5tfjuhCcpPovEaoRCYFukg1PTo3neaNErhlZFe/SxH5FgW6SDV8mZXH/PRc/m3UWTRtkOB3OSLfokAXCZJzjkfmpNO2aSI//36a3+WIfIcCXSRIn2zax/LtB/j1xd1pkBDbF6+Q8KRAFwlCWZnjz3PSSWvViOuHdKz6CSI+UKCLBOFfa3axac8R7h7dg4Q4/W8j4Uk/mSJVOFFaxuPzNtO7fVOu7NfB73JETkmBLlKFN5Zmsz2vkPvG9KSeLi0nYUyBLnIaRcWlTPl4C0PTWnBBT12URcKbAl3kNF75Yhv7jhznvrG6tJyEPwW6yCkcKjrB1AWZXNgzmaFpLf0uR6RKCnSRU5i+MJNDRSe4d4wuXiGRQYEuUol9R47x0mfbuLJ/B/p2aOZ3OSJBUaCLVOLZTzI4UVrGpNE9/C5FJGgKdJEKsvML+cdXO7h+aEfSWjf2uxyRoCnQRSp4Yt5m6pnx64t0aTmJLAp0kXLS9xzhf1ft5BffT6NdswZ+lyNSLQp0kXIenZtOUv14bht1lt+liFSbAl3Es2LHAeZt2MvEkV1p0bi+3+WIVJsCXYTAxSv+/GE6rZPqc/OILn6XI3JGFOgiwGcZ+1mclcftF3ajcWK83+WInBEFusQ85xyPfJhOSvOGTBjeye9yRM6YAl1i3gfr9rB25yHuHt2DxHhdWk4ilwJdYlpJaRmPzk2ne5skrhmY4nc5IjWiQJeYNnPFTrJyC5h0aU/idPEKiXAKdIlZx06U8uRHm+nfsTlj+rb1uxyRGlOgS8z6+5c72HXoGPeN6amLV0hUUKBLTDp6vIRnP83gvG6tOK9ba7/LEQkJBbrEpBcWZZFfUMzkMb38LkUkZBToEnPyC4p5YdFWxvZtx4COzf0uRyRkFOgSc577NIPC4hLuHaOLV0h0CSrQzWysmaWbWYaZPXCa7YaaWamZjQtdiSKhs+tgEa8t2c61g1Lp1qaJ3+WIhFSVgW5mccCzwGVAH+AGM+tziu0eBuaEukiRUJny8RZw8JtLdPEKiT7BHKEPAzKcc1nOuWJgBnBVJdvdCbwD7AthfSIhk5l7lDeXZTNheCdSWzTyuxyRkAsm0FOA7HKPc7xlXzOzFOAaYOrpdmRmE81smZkty83NrW6tIjXy+NzNNEiI446LuvldikitCCbQK/vGhavw+Engfudc6el25Jyb7pwb4pwbkpycHGSJIjW3buch3l+7m1+O6ELrpES/yxGpFcE0fs4BOpZ7nArsqrDNEGCG92271sDlZlbinHs3FEWK1NQjc9Jp3iiBW0Z29bsUkVoTTKAvBbqbWRdgJzAemFB+A+fc15d4MbNXgPcU5hIulmTlsXBzLv9xeS+aNkjwuxyRWlNloDvnSszsDgJnr8QBLznn1pvZbd76086bi/gpcPGKTbRr2oAbv5fmdzkitSqoa20552YDsyssqzTInXO/qHlZIqHx8cZ9rNhxkP++5hwaJOjiFRLd9E1RiVqlZY4/z0knrVUjrhuS6nc5IrVOgS5Ra9bqnaTvPcI9l/YkIU4/6hL99FMuUam4pIzH522mT/umXHFOe7/LEakTCnSJSm8s3UF2fhGTx/Skni4tJzFCgS5Rp7C4hCmfZDAsrSUX9NQX2CR2KNAl6rzyxTZyjxznvrG6tJzEFgW6RJVDhSeYOj+Ti3q1YUhaS7/LEalTQZ2HLlKV0jLHsROnbeVTJ55bkMHhYyXce2lPv0sRqXMKdKmx0jLHD6YsYtOeI36XAsAP+3egT4emfpchUucU6FJjc9fvYdOeI9z4vc6ktmjoay31zLh6YErVG4pEIQW61IhzjqkLMuncqhG/v7IvcTpFUMQ3+lBUauTLrfmszjnELed3VZiL+EyBLjUydUEmrZPqM26weqWI+E2BLmds4+7DzE/P5RffT1MnQ5EwoECXM/b8wiwa1Y/jp+d29rsUEUGBLmdo58EiZq3exfihnWjeqL7f5YgICnQ5Qy8u2grAL8/vUsWWIlJXFOhSbQcLi5mxdAc/7N+BlOb+nncuIt9QoEu1/W3JdgqLS5k4qqvfpYhIOQp0qZZjJ0p55YttXNAzmV7t9PV6kXCiQJdqeXt5DvuPFnPbqLP8LkVEKlCgS9BKyxzPL8qif8fmDO+i1rQi4UaBLkGbs34P2/MKuW1kV104QiQMKdAlKM45pi3IpEvrxlzat53f5YhIJRToEpTFWXlqwiUS5hToEpRpC7JonVSfawep17hIuFKgS5U27j7Mgs253HReFzXhEgljCnSp0vSFWTSuH8dPh6sJl0g4U6DLaeUcKGTW6l3cMKwTzRol+F2OiJyGAl1O68XPtmLAzSPUhEsk3CnQ5ZQOFBQz46tsfjigAx3UhEsk7CnQ5ZT+tmQ7RSdKuXWkvuYvEgkU6FKpk024LurVhp7tmvhdjogEQYEulXpreQ55BcXcOlItckUihQJdvqO0zPH8wiwGdGzOMDXhEokYQQW6mY01s3QzyzCzBypZ/xMzW+PdvjCz/qEvVerKh+v2sCO/kNtGqQmXSCSpMtDNLA54FrgM6APcYGZ9Kmy2FRjlnOsHPARMD3WhUjecc0xdkEnX1o0Z3UdNuEQiSTBH6MOADOdclnOuGJgBXFV+A+fcF865A97DJUBqaMuUurI4M4+1Ow9xy0g14RKJNMEEegqQXe5xjrfsVH4JfFDZCjObaGbLzGxZbm5u8FVKnZm6MIvWSYlcM1BNuEQiTTCBXtlhmqt0Q7MLCQT6/ZWtd85Nd84Ncc4NSU5ODr5KqRMbdh1m4eZcbjovTU24RCJQfBDb5AAdyz1OBXZV3MjM+gEvAJc55/JCU57UpWkLMwNNuM5VEy6RSBTMEfpSoLuZdTGz+sB4YFb5DcysEzAT+JlzbnPoy5Talp1fyHtrdjNheCeaNVQTLpFIVOURunOuxMzuAOYAccBLzrn1Znabt34q8DugFfCcd5pbiXNuSO2VLaGmJlwikS+YKRecc7OB2RWWTS13/1fAr0JbmtSVAwXFvLE0m6sGpNC+mZpwiUQqfVNUeG2x14RrlL7mLxLJFOgxrqi4lFcXb+PiXm3o0VZNuEQimQI9xr29PJv8gmJuHaUWuSKRToEew0pKy3h+0VYGdmrO0LQWfpcjIjWkQI9hH3zdhOssNeESiQIK9BjlnGPaQq8JV++2fpcjIiGgQI9RX2TmsW7nYSaO7Eo9NeESiQoK9Bg1dUEmyU0SuVpNuESihgI9Bq3beYhFW/Zz83ld1IRLJIoo0GPQ9IVZJCXGM2F4J79LEZEQUqDHmOz8Qt5fqyZcItFIgR5jXvxsK/UMbj5PTbhEoo0CPYbkFxQzY+kOrh6QQrtmDfwuR0RCTIEeQ15bvI1jJ8qYOFJNuESikQI9RhQVl/LqF9u4pHcbuqsJl0hUUqDHiLeWZ3Og8ISacIlEMQV6DCgpLWP6wiwGd27B0LSWfpcjIrVEgR4DZq/bQ86BIm7V3LlIVFOgRznnHNMWZNI1uTGXqAmXSFRToEe5zzPyWL/rMLeqCZdI1FOgR7mpCzJpoyZcIjFBgR7F1u08xGcZ+7l5RBcS49WESyTaKdCj2DQ14RKJKQr0KJWdX8j7a3bxk+GdaNpATbhEYoECPUo9vyiLuHrGzSPUhEskVijQo1De0eO8uSybawam0LapmnCJxAoFehR6bfF2NeESiUEK9ChTWFzCa4u3cUnvtnRroyZcIrFEgR5l3lwaaML1bxfo6Fwk1ijQo0hJaRnPL9rKkM4tGNxZTbhEYo0CPYq8v3Y3Ow8WqUWuSIxSoEeJQBOuLLq1SeLiXm38LkdEfKBAjxKLtuxnw+7DTFQTLpGYpUCPEtMWZtK2aSJXDejgdyki4hMFehRYm3OIzzPyuPk8NeESiWVBBbqZjTWzdDPLMLMHKllvZjbFW7/GzAaFvlQ5lWkLM2mSGM8NasIlEtOqDHQziwOeBS4D+gA3mFmfCptdBnT3bhOBv4S4TjmF7XkFzF67m5+c21lNuERiXHwQ2wwDMpxzWQBmNgO4CthQbpurgNeccw5YYmbNzay9c253qAtesDmX/3pvQ9UbxohDRSeIr1ePm85L87sUEfFZMIGeAmSXe5wDDA9imxTgW4FuZhMJHMHTqdOZTQ8kJcbTvW3SGT03Wp3XrbWacIlIUIFe2Tlw7gy2wTk3HZgOMGTIkO+sD8bgzi0Y3HnwmTxVRCSqBfOhaA7QsdzjVGDXGWwjIiK1KJhAXwp0N7MuZlYfGA/MqrDNLOBG72yXc4FDtTF/LiIip1bllItzrsTM7gDmAHHAS8659WZ2m7d+KjAbuBzIAAqBm2qvZBERqUwwc+g452YTCO3yy6aWu++A20NbmoiIVIe+KSoiEiUU6CIiUUKBLiISJRToIiJRwgKfZ/rwwma5wPYzfHprYH8Iy4l0Go9v03h8Q2PxbdEwHp2dc8mVrfAt0GvCzJY554b4XUe40Hh8m8bjGxqLb4v28dCUi4hIlFCgi4hEiUgN9Ol+FxBmNB7fpvH4hsbi26J6PCJyDl1ERL4rUo/QRUSkAgW6iEiUCItAN7OOZvapmW00s/Vmdpe3vKWZzTOzLd6/Lbzlrbztj5rZMxX2NdjM1noXrJ5iZpVdfCOshXg8PjSz1d5+pnrXiI0oIR6P+d4Fz1d5tzZ+vKczFaqxMLMm5cZglZntN7MnfXpbZyzEPxs/9i5yv97MHvHj/dSYc873G9AeGOTdbwJsJnBB6keAB7zlDwAPe/cbAyOA24BnKuzrK+B7BK6i9AFwmd/vz+fxaOr9a8A7wHi/35/P4zEfGOL3ewqHsaiw3+XASL/fn1/jAbQCdgDJ3uNXgYv9fn/VvYXFEbpzbrdzboV3/wiwkcA1Sa8iMLB4/17tbVPgnPsMOFZ+P2bWnkCALXaB/yqvnXxOJAnVeHjrDnt344H6VHJpwHAXyvGIdLUxFmbWHWgDLKq9ymtHCMejK7DZOZfrPf4I+FHtVh96YRHo5ZlZGjAQ+BJo67wrH3n/VvXncQqBy+GddPJi1RGrhuNxch9zgH3AEeDt2qm0boRiPICXvWmGByNxSu6kEI0FwA3AG95BUMSq4XhkAL3MLM3M4gn8Auh4+qeEn7AKdDNLIjAt8JtyR5bV2kUlyyL2hzQE4wGAc24MgT9NE4GLQlRenQvRePzEOXcOcL53+1mo6qtLofrZ8IwHXq95Vf6p6Xg45w4A/wa8QeAvlW1ASShrrAthE+hmlkDgP8jfnXMzvcV7vWmUk9Mp+6rYTQ6BC1SfFLEXqw7ReHzNOXeMwLVfrwp1rXUhVOPhnNvp/XsE+AcwrHYqrj2h/Nkws/5AvHNuea0UWwdC+LPxL+fccOfc94B0YEtt1VxbwiLQvT97XwQ2OuceL7dqFvBz7/7PgX+ebj/en1ZHzOxcb583VvWccBSq8TCzpHI/1PEErvu6KfQV164Qjke8mbX27icAVwDrQl9x7QnVWJRzAxF8dB7K8Th5xpN3Rsz/AV4IbbV1wO9PZb1puxEEpkbWAKu82+UEPnn+mMBvyo+BluWesw3IB44SODLv4y0fQuB/0kzgGbxvw0bSLVTjAbQFlnr7WQ88TeBozPf36NN4NCZwNsfJ8XgKiPP7/fkxFuXWZQG9/H5f4TAeBH6xbfBuEXc2mHNOX/0XEYkWYTHlIiIiNadAFxGJEgp0EZEooUAXEYkSCnQRkSihQBcpx8zGet0YM8zsAb/rEakOnbYo4vFaC28GRhM4P3kpcINzboOvhYkESUfoIt8YBmQ457Kcc8XADCK0VYLEJgW6yDdSgOxyjyO+W6fEFgW6yDeiqlunxB4Fusg3cvh2D+yI7dYpsUmBLvKNpUB3M+tiZvUJ9Amf5XNNIkGL97sAkXDhnCsxszuAOUAc8JJzbr3PZYkETactiohECU25iIhECQW6iEiUUKCLiEQJBbqISJRQoIuIRAkFuohIlFCgi4hEif8PVcwg/ZVvr6UAAAAASUVORK5CYII=\n",
      "text/plain": [
       "<Figure size 432x288 with 1 Axes>"
      ]
     },
     "metadata": {
      "needs_background": "light"
     },
     "output_type": "display_data"
    }
   ],
   "source": [
    "# Plot a line chart with x axis to be the extracted year and y axis to be the success rate\n",
    "Class_df=pd.DataFrame(df.Class)\n",
    "Year_df=pd.DataFrame(year)\n",
    "Year_df\n",
    "new_CY = pd.concat([Class_df, Year_df], axis=1)\n",
    "new_CY\n",
    "new_Class = new_CY.groupby(0)['Class'].mean()\n",
    "new_Class.plot.line(title=\"Yearly Success Rate\")\n",
    "plot.show(block=True)"
   ]
  },
  {
   "cell_type": "markdown",
   "metadata": {},
   "source": [
    "you can observe that the sucess rate since 2013 kept increasing till 2020\n"
   ]
  },
  {
   "cell_type": "markdown",
   "metadata": {},
   "source": [
    "## Features Engineering\n"
   ]
  },
  {
   "cell_type": "markdown",
   "metadata": {},
   "source": [
    "By now, you should obtain some preliminary insights about how each important variable would affect the success rate, we will select the features that will be used in success prediction in the future module.\n"
   ]
  },
  {
   "cell_type": "code",
   "execution_count": 12,
   "metadata": {},
   "outputs": [
    {
     "data": {
      "text/html": [
       "<div>\n",
       "<style scoped>\n",
       "    .dataframe tbody tr th:only-of-type {\n",
       "        vertical-align: middle;\n",
       "    }\n",
       "\n",
       "    .dataframe tbody tr th {\n",
       "        vertical-align: top;\n",
       "    }\n",
       "\n",
       "    .dataframe thead th {\n",
       "        text-align: right;\n",
       "    }\n",
       "</style>\n",
       "<table border=\"1\" class=\"dataframe\">\n",
       "  <thead>\n",
       "    <tr style=\"text-align: right;\">\n",
       "      <th></th>\n",
       "      <th>FlightNumber</th>\n",
       "      <th>PayloadMass</th>\n",
       "      <th>Orbit</th>\n",
       "      <th>LaunchSite</th>\n",
       "      <th>Flights</th>\n",
       "      <th>GridFins</th>\n",
       "      <th>Reused</th>\n",
       "      <th>Legs</th>\n",
       "      <th>LandingPad</th>\n",
       "      <th>Block</th>\n",
       "      <th>ReusedCount</th>\n",
       "      <th>Serial</th>\n",
       "    </tr>\n",
       "  </thead>\n",
       "  <tbody>\n",
       "    <tr>\n",
       "      <th>0</th>\n",
       "      <td>1</td>\n",
       "      <td>6104.959412</td>\n",
       "      <td>LEO</td>\n",
       "      <td>CCAFS SLC 40</td>\n",
       "      <td>1</td>\n",
       "      <td>False</td>\n",
       "      <td>False</td>\n",
       "      <td>False</td>\n",
       "      <td>NaN</td>\n",
       "      <td>1.0</td>\n",
       "      <td>0</td>\n",
       "      <td>B0003</td>\n",
       "    </tr>\n",
       "    <tr>\n",
       "      <th>1</th>\n",
       "      <td>2</td>\n",
       "      <td>525.000000</td>\n",
       "      <td>LEO</td>\n",
       "      <td>CCAFS SLC 40</td>\n",
       "      <td>1</td>\n",
       "      <td>False</td>\n",
       "      <td>False</td>\n",
       "      <td>False</td>\n",
       "      <td>NaN</td>\n",
       "      <td>1.0</td>\n",
       "      <td>0</td>\n",
       "      <td>B0005</td>\n",
       "    </tr>\n",
       "    <tr>\n",
       "      <th>2</th>\n",
       "      <td>3</td>\n",
       "      <td>677.000000</td>\n",
       "      <td>ISS</td>\n",
       "      <td>CCAFS SLC 40</td>\n",
       "      <td>1</td>\n",
       "      <td>False</td>\n",
       "      <td>False</td>\n",
       "      <td>False</td>\n",
       "      <td>NaN</td>\n",
       "      <td>1.0</td>\n",
       "      <td>0</td>\n",
       "      <td>B0007</td>\n",
       "    </tr>\n",
       "    <tr>\n",
       "      <th>3</th>\n",
       "      <td>4</td>\n",
       "      <td>500.000000</td>\n",
       "      <td>PO</td>\n",
       "      <td>VAFB SLC 4E</td>\n",
       "      <td>1</td>\n",
       "      <td>False</td>\n",
       "      <td>False</td>\n",
       "      <td>False</td>\n",
       "      <td>NaN</td>\n",
       "      <td>1.0</td>\n",
       "      <td>0</td>\n",
       "      <td>B1003</td>\n",
       "    </tr>\n",
       "    <tr>\n",
       "      <th>4</th>\n",
       "      <td>5</td>\n",
       "      <td>3170.000000</td>\n",
       "      <td>GTO</td>\n",
       "      <td>CCAFS SLC 40</td>\n",
       "      <td>1</td>\n",
       "      <td>False</td>\n",
       "      <td>False</td>\n",
       "      <td>False</td>\n",
       "      <td>NaN</td>\n",
       "      <td>1.0</td>\n",
       "      <td>0</td>\n",
       "      <td>B1004</td>\n",
       "    </tr>\n",
       "  </tbody>\n",
       "</table>\n",
       "</div>"
      ],
      "text/plain": [
       "   FlightNumber  PayloadMass Orbit    LaunchSite  Flights  GridFins  Reused  \\\n",
       "0             1  6104.959412   LEO  CCAFS SLC 40        1     False   False   \n",
       "1             2   525.000000   LEO  CCAFS SLC 40        1     False   False   \n",
       "2             3   677.000000   ISS  CCAFS SLC 40        1     False   False   \n",
       "3             4   500.000000    PO   VAFB SLC 4E        1     False   False   \n",
       "4             5  3170.000000   GTO  CCAFS SLC 40        1     False   False   \n",
       "\n",
       "    Legs LandingPad  Block  ReusedCount Serial  \n",
       "0  False        NaN    1.0            0  B0003  \n",
       "1  False        NaN    1.0            0  B0005  \n",
       "2  False        NaN    1.0            0  B0007  \n",
       "3  False        NaN    1.0            0  B1003  \n",
       "4  False        NaN    1.0            0  B1004  "
      ]
     },
     "execution_count": 12,
     "metadata": {},
     "output_type": "execute_result"
    }
   ],
   "source": [
    "features = df[['FlightNumber', 'PayloadMass', 'Orbit', 'LaunchSite', 'Flights', 'GridFins', 'Reused', 'Legs', 'LandingPad', 'Block', 'ReusedCount', 'Serial']]\n",
    "features.head()"
   ]
  },
  {
   "cell_type": "markdown",
   "metadata": {},
   "source": [
    "### TASK  7: Create dummy variables to categorical columns\n"
   ]
  },
  {
   "cell_type": "markdown",
   "metadata": {},
   "source": [
    "Use the function <code>get_dummies</code> and <code>features</code> dataframe to apply OneHotEncoder to the column <code>Orbits</code>, <code>LaunchSite</code>, <code>LandingPad</code>, and <code>Serial</code>. Assign the value to the variable <code>features_one_hot</code>, display the results using the method head. Your result dataframe must include all features including the encoded ones.\n"
   ]
  },
  {
   "cell_type": "code",
   "execution_count": 13,
   "metadata": {},
   "outputs": [
    {
     "data": {
      "text/html": [
       "<div>\n",
       "<style scoped>\n",
       "    .dataframe tbody tr th:only-of-type {\n",
       "        vertical-align: middle;\n",
       "    }\n",
       "\n",
       "    .dataframe tbody tr th {\n",
       "        vertical-align: top;\n",
       "    }\n",
       "\n",
       "    .dataframe thead th {\n",
       "        text-align: right;\n",
       "    }\n",
       "</style>\n",
       "<table border=\"1\" class=\"dataframe\">\n",
       "  <thead>\n",
       "    <tr style=\"text-align: right;\">\n",
       "      <th></th>\n",
       "      <th>FlightNumber</th>\n",
       "      <th>PayloadMass</th>\n",
       "      <th>Flights</th>\n",
       "      <th>GridFins</th>\n",
       "      <th>Reused</th>\n",
       "      <th>Legs</th>\n",
       "      <th>Block</th>\n",
       "      <th>ReusedCount</th>\n",
       "      <th>Orbit_ES-L1</th>\n",
       "      <th>Orbit_GEO</th>\n",
       "      <th>...</th>\n",
       "      <th>Serial_B1048</th>\n",
       "      <th>Serial_B1049</th>\n",
       "      <th>Serial_B1050</th>\n",
       "      <th>Serial_B1051</th>\n",
       "      <th>Serial_B1054</th>\n",
       "      <th>Serial_B1056</th>\n",
       "      <th>Serial_B1058</th>\n",
       "      <th>Serial_B1059</th>\n",
       "      <th>Serial_B1060</th>\n",
       "      <th>Serial_B1062</th>\n",
       "    </tr>\n",
       "  </thead>\n",
       "  <tbody>\n",
       "    <tr>\n",
       "      <th>0</th>\n",
       "      <td>1</td>\n",
       "      <td>6104.959412</td>\n",
       "      <td>1</td>\n",
       "      <td>False</td>\n",
       "      <td>False</td>\n",
       "      <td>False</td>\n",
       "      <td>1.0</td>\n",
       "      <td>0</td>\n",
       "      <td>0</td>\n",
       "      <td>0</td>\n",
       "      <td>...</td>\n",
       "      <td>0</td>\n",
       "      <td>0</td>\n",
       "      <td>0</td>\n",
       "      <td>0</td>\n",
       "      <td>0</td>\n",
       "      <td>0</td>\n",
       "      <td>0</td>\n",
       "      <td>0</td>\n",
       "      <td>0</td>\n",
       "      <td>0</td>\n",
       "    </tr>\n",
       "    <tr>\n",
       "      <th>1</th>\n",
       "      <td>2</td>\n",
       "      <td>525.000000</td>\n",
       "      <td>1</td>\n",
       "      <td>False</td>\n",
       "      <td>False</td>\n",
       "      <td>False</td>\n",
       "      <td>1.0</td>\n",
       "      <td>0</td>\n",
       "      <td>0</td>\n",
       "      <td>0</td>\n",
       "      <td>...</td>\n",
       "      <td>0</td>\n",
       "      <td>0</td>\n",
       "      <td>0</td>\n",
       "      <td>0</td>\n",
       "      <td>0</td>\n",
       "      <td>0</td>\n",
       "      <td>0</td>\n",
       "      <td>0</td>\n",
       "      <td>0</td>\n",
       "      <td>0</td>\n",
       "    </tr>\n",
       "    <tr>\n",
       "      <th>2</th>\n",
       "      <td>3</td>\n",
       "      <td>677.000000</td>\n",
       "      <td>1</td>\n",
       "      <td>False</td>\n",
       "      <td>False</td>\n",
       "      <td>False</td>\n",
       "      <td>1.0</td>\n",
       "      <td>0</td>\n",
       "      <td>0</td>\n",
       "      <td>0</td>\n",
       "      <td>...</td>\n",
       "      <td>0</td>\n",
       "      <td>0</td>\n",
       "      <td>0</td>\n",
       "      <td>0</td>\n",
       "      <td>0</td>\n",
       "      <td>0</td>\n",
       "      <td>0</td>\n",
       "      <td>0</td>\n",
       "      <td>0</td>\n",
       "      <td>0</td>\n",
       "    </tr>\n",
       "    <tr>\n",
       "      <th>3</th>\n",
       "      <td>4</td>\n",
       "      <td>500.000000</td>\n",
       "      <td>1</td>\n",
       "      <td>False</td>\n",
       "      <td>False</td>\n",
       "      <td>False</td>\n",
       "      <td>1.0</td>\n",
       "      <td>0</td>\n",
       "      <td>0</td>\n",
       "      <td>0</td>\n",
       "      <td>...</td>\n",
       "      <td>0</td>\n",
       "      <td>0</td>\n",
       "      <td>0</td>\n",
       "      <td>0</td>\n",
       "      <td>0</td>\n",
       "      <td>0</td>\n",
       "      <td>0</td>\n",
       "      <td>0</td>\n",
       "      <td>0</td>\n",
       "      <td>0</td>\n",
       "    </tr>\n",
       "    <tr>\n",
       "      <th>4</th>\n",
       "      <td>5</td>\n",
       "      <td>3170.000000</td>\n",
       "      <td>1</td>\n",
       "      <td>False</td>\n",
       "      <td>False</td>\n",
       "      <td>False</td>\n",
       "      <td>1.0</td>\n",
       "      <td>0</td>\n",
       "      <td>0</td>\n",
       "      <td>0</td>\n",
       "      <td>...</td>\n",
       "      <td>0</td>\n",
       "      <td>0</td>\n",
       "      <td>0</td>\n",
       "      <td>0</td>\n",
       "      <td>0</td>\n",
       "      <td>0</td>\n",
       "      <td>0</td>\n",
       "      <td>0</td>\n",
       "      <td>0</td>\n",
       "      <td>0</td>\n",
       "    </tr>\n",
       "  </tbody>\n",
       "</table>\n",
       "<p>5 rows × 80 columns</p>\n",
       "</div>"
      ],
      "text/plain": [
       "   FlightNumber  PayloadMass  Flights  GridFins  Reused   Legs  Block  \\\n",
       "0             1  6104.959412        1     False   False  False    1.0   \n",
       "1             2   525.000000        1     False   False  False    1.0   \n",
       "2             3   677.000000        1     False   False  False    1.0   \n",
       "3             4   500.000000        1     False   False  False    1.0   \n",
       "4             5  3170.000000        1     False   False  False    1.0   \n",
       "\n",
       "   ReusedCount  Orbit_ES-L1  Orbit_GEO  ...  Serial_B1048  Serial_B1049  \\\n",
       "0            0            0          0  ...             0             0   \n",
       "1            0            0          0  ...             0             0   \n",
       "2            0            0          0  ...             0             0   \n",
       "3            0            0          0  ...             0             0   \n",
       "4            0            0          0  ...             0             0   \n",
       "\n",
       "   Serial_B1050  Serial_B1051  Serial_B1054  Serial_B1056  Serial_B1058  \\\n",
       "0             0             0             0             0             0   \n",
       "1             0             0             0             0             0   \n",
       "2             0             0             0             0             0   \n",
       "3             0             0             0             0             0   \n",
       "4             0             0             0             0             0   \n",
       "\n",
       "   Serial_B1059  Serial_B1060  Serial_B1062  \n",
       "0             0             0             0  \n",
       "1             0             0             0  \n",
       "2             0             0             0  \n",
       "3             0             0             0  \n",
       "4             0             0             0  \n",
       "\n",
       "[5 rows x 80 columns]"
      ]
     },
     "execution_count": 13,
     "metadata": {},
     "output_type": "execute_result"
    }
   ],
   "source": [
    "# HINT: Use get_dummies() function on the categorical columns\n",
    "features_one_hot= pd.get_dummies(features, prefix=['Orbit', 'LaunchSite', 'LandingPad', 'Serial'])\n",
    "features_one_hot.head()"
   ]
  },
  {
   "cell_type": "markdown",
   "metadata": {},
   "source": [
    "### TASK  8: Cast all numeric columns to `float64`\n"
   ]
  },
  {
   "cell_type": "markdown",
   "metadata": {},
   "source": [
    "Now that our <code>features_one_hot</code> dataframe only contains numbers cast the entire dataframe to variable type <code>float64</code>\n"
   ]
  },
  {
   "cell_type": "code",
   "execution_count": 14,
   "metadata": {},
   "outputs": [
    {
     "ename": "ValueError",
     "evalue": "could not convert string to float: '2010-06-04'",
     "output_type": "error",
     "traceback": [
      "\u001b[0;31m---------------------------------------------------------------------------\u001b[0m",
      "\u001b[0;31mValueError\u001b[0m                                Traceback (most recent call last)",
      "\u001b[0;32m/tmp/ipykernel_361/417445337.py\u001b[0m in \u001b[0;36m<module>\u001b[0;34m\u001b[0m\n\u001b[1;32m      1\u001b[0m \u001b[0;31m# HINT: use astype function\u001b[0m\u001b[0;34m\u001b[0m\u001b[0;34m\u001b[0m\u001b[0;34m\u001b[0m\u001b[0m\n\u001b[0;32m----> 2\u001b[0;31m \u001b[0mdf\u001b[0m\u001b[0;34m=\u001b[0m\u001b[0mdf\u001b[0m\u001b[0;34m.\u001b[0m\u001b[0mastype\u001b[0m\u001b[0;34m(\u001b[0m\u001b[0;34m'float64'\u001b[0m\u001b[0;34m)\u001b[0m\u001b[0;34m\u001b[0m\u001b[0;34m\u001b[0m\u001b[0m\n\u001b[0m",
      "\u001b[0;32m~/conda/envs/python/lib/python3.7/site-packages/pandas/core/generic.py\u001b[0m in \u001b[0;36mastype\u001b[0;34m(self, dtype, copy, errors)\u001b[0m\n\u001b[1;32m   5813\u001b[0m         \u001b[0;32melse\u001b[0m\u001b[0;34m:\u001b[0m\u001b[0;34m\u001b[0m\u001b[0;34m\u001b[0m\u001b[0m\n\u001b[1;32m   5814\u001b[0m             \u001b[0;31m# else, only a single dtype is given\u001b[0m\u001b[0;34m\u001b[0m\u001b[0;34m\u001b[0m\u001b[0;34m\u001b[0m\u001b[0m\n\u001b[0;32m-> 5815\u001b[0;31m             \u001b[0mnew_data\u001b[0m \u001b[0;34m=\u001b[0m \u001b[0mself\u001b[0m\u001b[0;34m.\u001b[0m\u001b[0m_mgr\u001b[0m\u001b[0;34m.\u001b[0m\u001b[0mastype\u001b[0m\u001b[0;34m(\u001b[0m\u001b[0mdtype\u001b[0m\u001b[0;34m=\u001b[0m\u001b[0mdtype\u001b[0m\u001b[0;34m,\u001b[0m \u001b[0mcopy\u001b[0m\u001b[0;34m=\u001b[0m\u001b[0mcopy\u001b[0m\u001b[0;34m,\u001b[0m \u001b[0merrors\u001b[0m\u001b[0;34m=\u001b[0m\u001b[0merrors\u001b[0m\u001b[0;34m)\u001b[0m\u001b[0;34m\u001b[0m\u001b[0;34m\u001b[0m\u001b[0m\n\u001b[0m\u001b[1;32m   5816\u001b[0m             \u001b[0;32mreturn\u001b[0m \u001b[0mself\u001b[0m\u001b[0;34m.\u001b[0m\u001b[0m_constructor\u001b[0m\u001b[0;34m(\u001b[0m\u001b[0mnew_data\u001b[0m\u001b[0;34m)\u001b[0m\u001b[0;34m.\u001b[0m\u001b[0m__finalize__\u001b[0m\u001b[0;34m(\u001b[0m\u001b[0mself\u001b[0m\u001b[0;34m,\u001b[0m \u001b[0mmethod\u001b[0m\u001b[0;34m=\u001b[0m\u001b[0;34m\"astype\"\u001b[0m\u001b[0;34m)\u001b[0m\u001b[0;34m\u001b[0m\u001b[0;34m\u001b[0m\u001b[0m\n\u001b[1;32m   5817\u001b[0m \u001b[0;34m\u001b[0m\u001b[0m\n",
      "\u001b[0;32m~/conda/envs/python/lib/python3.7/site-packages/pandas/core/internals/managers.py\u001b[0m in \u001b[0;36mastype\u001b[0;34m(self, dtype, copy, errors)\u001b[0m\n\u001b[1;32m    416\u001b[0m \u001b[0;34m\u001b[0m\u001b[0m\n\u001b[1;32m    417\u001b[0m     \u001b[0;32mdef\u001b[0m \u001b[0mastype\u001b[0m\u001b[0;34m(\u001b[0m\u001b[0mself\u001b[0m\u001b[0;34m:\u001b[0m \u001b[0mT\u001b[0m\u001b[0;34m,\u001b[0m \u001b[0mdtype\u001b[0m\u001b[0;34m,\u001b[0m \u001b[0mcopy\u001b[0m\u001b[0;34m:\u001b[0m \u001b[0mbool\u001b[0m \u001b[0;34m=\u001b[0m \u001b[0;32mFalse\u001b[0m\u001b[0;34m,\u001b[0m \u001b[0merrors\u001b[0m\u001b[0;34m:\u001b[0m \u001b[0mstr\u001b[0m \u001b[0;34m=\u001b[0m \u001b[0;34m\"raise\"\u001b[0m\u001b[0;34m)\u001b[0m \u001b[0;34m->\u001b[0m \u001b[0mT\u001b[0m\u001b[0;34m:\u001b[0m\u001b[0;34m\u001b[0m\u001b[0;34m\u001b[0m\u001b[0m\n\u001b[0;32m--> 418\u001b[0;31m         \u001b[0;32mreturn\u001b[0m \u001b[0mself\u001b[0m\u001b[0;34m.\u001b[0m\u001b[0mapply\u001b[0m\u001b[0;34m(\u001b[0m\u001b[0;34m\"astype\"\u001b[0m\u001b[0;34m,\u001b[0m \u001b[0mdtype\u001b[0m\u001b[0;34m=\u001b[0m\u001b[0mdtype\u001b[0m\u001b[0;34m,\u001b[0m \u001b[0mcopy\u001b[0m\u001b[0;34m=\u001b[0m\u001b[0mcopy\u001b[0m\u001b[0;34m,\u001b[0m \u001b[0merrors\u001b[0m\u001b[0;34m=\u001b[0m\u001b[0merrors\u001b[0m\u001b[0;34m)\u001b[0m\u001b[0;34m\u001b[0m\u001b[0;34m\u001b[0m\u001b[0m\n\u001b[0m\u001b[1;32m    419\u001b[0m \u001b[0;34m\u001b[0m\u001b[0m\n\u001b[1;32m    420\u001b[0m     def convert(\n",
      "\u001b[0;32m~/conda/envs/python/lib/python3.7/site-packages/pandas/core/internals/managers.py\u001b[0m in \u001b[0;36mapply\u001b[0;34m(self, f, align_keys, ignore_failures, **kwargs)\u001b[0m\n\u001b[1;32m    325\u001b[0m                     \u001b[0mapplied\u001b[0m \u001b[0;34m=\u001b[0m \u001b[0mb\u001b[0m\u001b[0;34m.\u001b[0m\u001b[0mapply\u001b[0m\u001b[0;34m(\u001b[0m\u001b[0mf\u001b[0m\u001b[0;34m,\u001b[0m \u001b[0;34m**\u001b[0m\u001b[0mkwargs\u001b[0m\u001b[0;34m)\u001b[0m\u001b[0;34m\u001b[0m\u001b[0;34m\u001b[0m\u001b[0m\n\u001b[1;32m    326\u001b[0m                 \u001b[0;32melse\u001b[0m\u001b[0;34m:\u001b[0m\u001b[0;34m\u001b[0m\u001b[0;34m\u001b[0m\u001b[0m\n\u001b[0;32m--> 327\u001b[0;31m                     \u001b[0mapplied\u001b[0m \u001b[0;34m=\u001b[0m \u001b[0mgetattr\u001b[0m\u001b[0;34m(\u001b[0m\u001b[0mb\u001b[0m\u001b[0;34m,\u001b[0m \u001b[0mf\u001b[0m\u001b[0;34m)\u001b[0m\u001b[0;34m(\u001b[0m\u001b[0;34m**\u001b[0m\u001b[0mkwargs\u001b[0m\u001b[0;34m)\u001b[0m\u001b[0;34m\u001b[0m\u001b[0;34m\u001b[0m\u001b[0m\n\u001b[0m\u001b[1;32m    328\u001b[0m             \u001b[0;32mexcept\u001b[0m \u001b[0;34m(\u001b[0m\u001b[0mTypeError\u001b[0m\u001b[0;34m,\u001b[0m \u001b[0mNotImplementedError\u001b[0m\u001b[0;34m)\u001b[0m\u001b[0;34m:\u001b[0m\u001b[0;34m\u001b[0m\u001b[0;34m\u001b[0m\u001b[0m\n\u001b[1;32m    329\u001b[0m                 \u001b[0;32mif\u001b[0m \u001b[0;32mnot\u001b[0m \u001b[0mignore_failures\u001b[0m\u001b[0;34m:\u001b[0m\u001b[0;34m\u001b[0m\u001b[0;34m\u001b[0m\u001b[0m\n",
      "\u001b[0;32m~/conda/envs/python/lib/python3.7/site-packages/pandas/core/internals/blocks.py\u001b[0m in \u001b[0;36mastype\u001b[0;34m(self, dtype, copy, errors)\u001b[0m\n\u001b[1;32m    589\u001b[0m         \u001b[0mvalues\u001b[0m \u001b[0;34m=\u001b[0m \u001b[0mself\u001b[0m\u001b[0;34m.\u001b[0m\u001b[0mvalues\u001b[0m\u001b[0;34m\u001b[0m\u001b[0;34m\u001b[0m\u001b[0m\n\u001b[1;32m    590\u001b[0m \u001b[0;34m\u001b[0m\u001b[0m\n\u001b[0;32m--> 591\u001b[0;31m         \u001b[0mnew_values\u001b[0m \u001b[0;34m=\u001b[0m \u001b[0mastype_array_safe\u001b[0m\u001b[0;34m(\u001b[0m\u001b[0mvalues\u001b[0m\u001b[0;34m,\u001b[0m \u001b[0mdtype\u001b[0m\u001b[0;34m,\u001b[0m \u001b[0mcopy\u001b[0m\u001b[0;34m=\u001b[0m\u001b[0mcopy\u001b[0m\u001b[0;34m,\u001b[0m \u001b[0merrors\u001b[0m\u001b[0;34m=\u001b[0m\u001b[0merrors\u001b[0m\u001b[0;34m)\u001b[0m\u001b[0;34m\u001b[0m\u001b[0;34m\u001b[0m\u001b[0m\n\u001b[0m\u001b[1;32m    592\u001b[0m \u001b[0;34m\u001b[0m\u001b[0m\n\u001b[1;32m    593\u001b[0m         \u001b[0mnew_values\u001b[0m \u001b[0;34m=\u001b[0m \u001b[0mmaybe_coerce_values\u001b[0m\u001b[0;34m(\u001b[0m\u001b[0mnew_values\u001b[0m\u001b[0;34m)\u001b[0m\u001b[0;34m\u001b[0m\u001b[0;34m\u001b[0m\u001b[0m\n",
      "\u001b[0;32m~/conda/envs/python/lib/python3.7/site-packages/pandas/core/dtypes/cast.py\u001b[0m in \u001b[0;36mastype_array_safe\u001b[0;34m(values, dtype, copy, errors)\u001b[0m\n\u001b[1;32m   1307\u001b[0m \u001b[0;34m\u001b[0m\u001b[0m\n\u001b[1;32m   1308\u001b[0m     \u001b[0;32mtry\u001b[0m\u001b[0;34m:\u001b[0m\u001b[0;34m\u001b[0m\u001b[0;34m\u001b[0m\u001b[0m\n\u001b[0;32m-> 1309\u001b[0;31m         \u001b[0mnew_values\u001b[0m \u001b[0;34m=\u001b[0m \u001b[0mastype_array\u001b[0m\u001b[0;34m(\u001b[0m\u001b[0mvalues\u001b[0m\u001b[0;34m,\u001b[0m \u001b[0mdtype\u001b[0m\u001b[0;34m,\u001b[0m \u001b[0mcopy\u001b[0m\u001b[0;34m=\u001b[0m\u001b[0mcopy\u001b[0m\u001b[0;34m)\u001b[0m\u001b[0;34m\u001b[0m\u001b[0;34m\u001b[0m\u001b[0m\n\u001b[0m\u001b[1;32m   1310\u001b[0m     \u001b[0;32mexcept\u001b[0m \u001b[0;34m(\u001b[0m\u001b[0mValueError\u001b[0m\u001b[0;34m,\u001b[0m \u001b[0mTypeError\u001b[0m\u001b[0;34m)\u001b[0m\u001b[0;34m:\u001b[0m\u001b[0;34m\u001b[0m\u001b[0;34m\u001b[0m\u001b[0m\n\u001b[1;32m   1311\u001b[0m         \u001b[0;31m# e.g. astype_nansafe can fail on object-dtype of strings\u001b[0m\u001b[0;34m\u001b[0m\u001b[0;34m\u001b[0m\u001b[0;34m\u001b[0m\u001b[0m\n",
      "\u001b[0;32m~/conda/envs/python/lib/python3.7/site-packages/pandas/core/dtypes/cast.py\u001b[0m in \u001b[0;36mastype_array\u001b[0;34m(values, dtype, copy)\u001b[0m\n\u001b[1;32m   1255\u001b[0m \u001b[0;34m\u001b[0m\u001b[0m\n\u001b[1;32m   1256\u001b[0m     \u001b[0;32melse\u001b[0m\u001b[0;34m:\u001b[0m\u001b[0;34m\u001b[0m\u001b[0;34m\u001b[0m\u001b[0m\n\u001b[0;32m-> 1257\u001b[0;31m         \u001b[0mvalues\u001b[0m \u001b[0;34m=\u001b[0m \u001b[0mastype_nansafe\u001b[0m\u001b[0;34m(\u001b[0m\u001b[0mvalues\u001b[0m\u001b[0;34m,\u001b[0m \u001b[0mdtype\u001b[0m\u001b[0;34m,\u001b[0m \u001b[0mcopy\u001b[0m\u001b[0;34m=\u001b[0m\u001b[0mcopy\u001b[0m\u001b[0;34m)\u001b[0m\u001b[0;34m\u001b[0m\u001b[0;34m\u001b[0m\u001b[0m\n\u001b[0m\u001b[1;32m   1258\u001b[0m \u001b[0;34m\u001b[0m\u001b[0m\n\u001b[1;32m   1259\u001b[0m     \u001b[0;31m# in pandas we don't store numpy str dtypes, so convert to object\u001b[0m\u001b[0;34m\u001b[0m\u001b[0;34m\u001b[0m\u001b[0;34m\u001b[0m\u001b[0m\n",
      "\u001b[0;32m~/conda/envs/python/lib/python3.7/site-packages/pandas/core/dtypes/cast.py\u001b[0m in \u001b[0;36mastype_nansafe\u001b[0;34m(arr, dtype, copy, skipna)\u001b[0m\n\u001b[1;32m   1093\u001b[0m     \u001b[0;32mif\u001b[0m \u001b[0marr\u001b[0m\u001b[0;34m.\u001b[0m\u001b[0mndim\u001b[0m \u001b[0;34m>\u001b[0m \u001b[0;36m1\u001b[0m\u001b[0;34m:\u001b[0m\u001b[0;34m\u001b[0m\u001b[0;34m\u001b[0m\u001b[0m\n\u001b[1;32m   1094\u001b[0m         \u001b[0mflat\u001b[0m \u001b[0;34m=\u001b[0m \u001b[0marr\u001b[0m\u001b[0;34m.\u001b[0m\u001b[0mravel\u001b[0m\u001b[0;34m(\u001b[0m\u001b[0;34m)\u001b[0m\u001b[0;34m\u001b[0m\u001b[0;34m\u001b[0m\u001b[0m\n\u001b[0;32m-> 1095\u001b[0;31m         \u001b[0mresult\u001b[0m \u001b[0;34m=\u001b[0m \u001b[0mastype_nansafe\u001b[0m\u001b[0;34m(\u001b[0m\u001b[0mflat\u001b[0m\u001b[0;34m,\u001b[0m \u001b[0mdtype\u001b[0m\u001b[0;34m,\u001b[0m \u001b[0mcopy\u001b[0m\u001b[0;34m=\u001b[0m\u001b[0mcopy\u001b[0m\u001b[0;34m,\u001b[0m \u001b[0mskipna\u001b[0m\u001b[0;34m=\u001b[0m\u001b[0mskipna\u001b[0m\u001b[0;34m)\u001b[0m\u001b[0;34m\u001b[0m\u001b[0;34m\u001b[0m\u001b[0m\n\u001b[0m\u001b[1;32m   1096\u001b[0m         \u001b[0;31m# error: Item \"ExtensionArray\" of \"Union[ExtensionArray, ndarray]\" has no\u001b[0m\u001b[0;34m\u001b[0m\u001b[0;34m\u001b[0m\u001b[0;34m\u001b[0m\u001b[0m\n\u001b[1;32m   1097\u001b[0m         \u001b[0;31m# attribute \"reshape\"\u001b[0m\u001b[0;34m\u001b[0m\u001b[0;34m\u001b[0m\u001b[0;34m\u001b[0m\u001b[0m\n",
      "\u001b[0;32m~/conda/envs/python/lib/python3.7/site-packages/pandas/core/dtypes/cast.py\u001b[0m in \u001b[0;36mastype_nansafe\u001b[0;34m(arr, dtype, copy, skipna)\u001b[0m\n\u001b[1;32m   1199\u001b[0m     \u001b[0;32mif\u001b[0m \u001b[0mcopy\u001b[0m \u001b[0;32mor\u001b[0m \u001b[0mis_object_dtype\u001b[0m\u001b[0;34m(\u001b[0m\u001b[0marr\u001b[0m\u001b[0;34m.\u001b[0m\u001b[0mdtype\u001b[0m\u001b[0;34m)\u001b[0m \u001b[0;32mor\u001b[0m \u001b[0mis_object_dtype\u001b[0m\u001b[0;34m(\u001b[0m\u001b[0mdtype\u001b[0m\u001b[0;34m)\u001b[0m\u001b[0;34m:\u001b[0m\u001b[0;34m\u001b[0m\u001b[0;34m\u001b[0m\u001b[0m\n\u001b[1;32m   1200\u001b[0m         \u001b[0;31m# Explicit copy, or required since NumPy can't view from / to object.\u001b[0m\u001b[0;34m\u001b[0m\u001b[0;34m\u001b[0m\u001b[0;34m\u001b[0m\u001b[0m\n\u001b[0;32m-> 1201\u001b[0;31m         \u001b[0;32mreturn\u001b[0m \u001b[0marr\u001b[0m\u001b[0;34m.\u001b[0m\u001b[0mastype\u001b[0m\u001b[0;34m(\u001b[0m\u001b[0mdtype\u001b[0m\u001b[0;34m,\u001b[0m \u001b[0mcopy\u001b[0m\u001b[0;34m=\u001b[0m\u001b[0;32mTrue\u001b[0m\u001b[0;34m)\u001b[0m\u001b[0;34m\u001b[0m\u001b[0;34m\u001b[0m\u001b[0m\n\u001b[0m\u001b[1;32m   1202\u001b[0m \u001b[0;34m\u001b[0m\u001b[0m\n\u001b[1;32m   1203\u001b[0m     \u001b[0;32mreturn\u001b[0m \u001b[0marr\u001b[0m\u001b[0;34m.\u001b[0m\u001b[0mastype\u001b[0m\u001b[0;34m(\u001b[0m\u001b[0mdtype\u001b[0m\u001b[0;34m,\u001b[0m \u001b[0mcopy\u001b[0m\u001b[0;34m=\u001b[0m\u001b[0mcopy\u001b[0m\u001b[0;34m)\u001b[0m\u001b[0;34m\u001b[0m\u001b[0;34m\u001b[0m\u001b[0m\n",
      "\u001b[0;31mValueError\u001b[0m: could not convert string to float: '2010-06-04'"
     ]
    }
   ],
   "source": [
    "# HINT: use astype function\n",
    "df=df.astype('float64')"
   ]
  },
  {
   "cell_type": "markdown",
   "metadata": {},
   "source": [
    "We can now export it to a <b>CSV</b> for the next section,but to make the answers consistent, in the next lab we will provide data in a pre-selected date range.\n"
   ]
  },
  {
   "cell_type": "markdown",
   "metadata": {},
   "source": [
    "<code>features_one_hot.to_csv('dataset_part\\_3.csv', index=False)</code>\n"
   ]
  },
  {
   "cell_type": "markdown",
   "metadata": {},
   "source": [
    "## Authors\n"
   ]
  },
  {
   "cell_type": "markdown",
   "metadata": {},
   "source": [
    "<a href=\"https://urldefense.com/v3/__https://www.linkedin.com/in/joseph-s-50398b136/?utm_medium=Exinfluencer&utm_source=Exinfluencer&utm_content=000026UJ&utm_term=10006555&utm_id=NA-SkillsNetwork-Channel-SkillsNetworkCoursesIBMDS0321ENSkillsNetwork26802033-2022-01-01*5C__;JQ!!KEBONX3EBw!Z5JdwzWjAB63KhI8tP5BnZi6UKi-blSRP32UAQWONMr765Lq7Heykzst8ujO2FNGZaSWmG9zF6AwnTPwQGKPFeTDmCUco5v4qRPBuWbG$ ">Joseph Santarcangelo</a> has a PhD in Electrical Engineering, his research focused on using machine learning, signal processing, and computer vision to determine how videos impact human cognition. Joseph has been working for IBM since he completed his PhD.\n"
   ]
  },
  {
   "cell_type": "markdown",
   "metadata": {},
   "source": [
    "<a href=\"https://urldefense.com/v3/__https://www.linkedin.com/in/nayefaboutayoun/?utm_medium=Exinfluencer&utm_source=Exinfluencer&utm_content=000026UJ&utm_term=10006555&utm_id=NA-SkillsNetwork-Channel-SkillsNetworkCoursesIBMDS0321ENSkillsNetwork26802033-2022-01-01*5C__;JQ!!KEBONX3EBw!Z5JdwzWjAB63KhI8tP5BnZi6UKi-blSRP32UAQWONMr765Lq7Heykzst8ujO2FNGZaSWmG9zF6AwnTPwQGKPFeTDmCUco5v4qRpElr0o$ ">Nayef Abou Tayoun</a> is a Data Scientist at IBM and pursuing a Master of Management in Artificial intelligence degree at Queen's University.\n"
   ]
  },
  {
   "cell_type": "markdown",
   "metadata": {},
   "source": [
    "## Change Log\n"
   ]
  },
  {
   "cell_type": "markdown",
   "metadata": {},
   "source": [
    "| Date (YYYY-MM-DD) | Version | Changed By    | Change Description      |\n",
    "| ----------------- | ------- | ------------- | ----------------------- |\n",
    "| 2021-10-12        | 1.1     | Lakshmi Holla | Modified markdown       |\n",
    "| 2020-09-20        | 1.0     | Joseph        | Modified Multiple Areas |\n",
    "| 2020-11-10        | 1.1     | Nayef         | updating the input data |\n"
   ]
  },
  {
   "cell_type": "markdown",
   "metadata": {},
   "source": [
    "Copyright © 2020 IBM Corporation. All rights reserved.\n"
   ]
  }
 ],
 "metadata": {
  "kernelspec": {
   "display_name": "Python",
   "language": "python",
   "name": "conda-env-python-py"
  },
  "language_info": {
   "codemirror_mode": {
    "name": "ipython",
    "version": 3
   },
   "file_extension": ".py",
   "mimetype": "text/x-python",
   "name": "python",
   "nbconvert_exporter": "python",
   "pygments_lexer": "ipython3",
   "version": "3.7.12"
  }
 },
 "nbformat": 4,
 "nbformat_minor": 4
}
